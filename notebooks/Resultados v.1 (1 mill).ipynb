{
 "cells": [
  {
   "cell_type": "code",
   "execution_count": 1,
   "metadata": {},
   "outputs": [],
   "source": [
    "import sys  \n",
    "sys.path.append(r'../source')  \n",
    "import utils\n",
    "import numpy as np\n",
    "import pandas as pd\n",
    "import warnings\n",
    "warnings.filterwarnings('ignore')"
   ]
  },
  {
   "cell_type": "markdown",
   "metadata": {},
   "source": [
    "# Origen de los datos"
   ]
  },
  {
   "cell_type": "markdown",
   "metadata": {},
   "source": [
    "El fichero que contiene las opiniones que vamos a procesar y analizar se encuentra en la siguiente dirección:  https://nijianmo.github.io/amazon/index.html#files (enlace al fichero: http://deepyeti.ucsd.edu/jianmo/amazon/categoryFilesSmall/Electronics_5.json.gz)\n",
    "\n",
    "Este portal pertenece a la Universidad de California San Diego y es mantenido por Jianmo Ni Ph.D. Contiene multitud de datasets de opiniones de Amazon, clasificados por departamento (Books, Electronics, Software...). El fichero que se procesa en este trabajo es el correspondiente al departamento de Electronics. Se trata de un json de nombre Electronics_5. El número 5 indica que solo aparecen opiniones de productos que tengan, al menos, 5 opiniones."
   ]
  },
  {
   "cell_type": "markdown",
   "metadata": {},
   "source": [
    "# Análisis exploratorio sin entrar en el contenido"
   ]
  },
  {
   "cell_type": "markdown",
   "metadata": {},
   "source": [
    "En esta sección vamos a visualizar las primeras líneas del fichero Electronics_5.json tal cual están en el fichero. A continuación generaremos y analizaremos el objeto data_raw_0, que es un DataFrame de Pandas en el cual se han realizado algunas transformaciones mínimas.\n",
    "\n",
    "Veamos en primer lugar el contenido del fichero:"
   ]
  },
  {
   "cell_type": "code",
   "execution_count": 2,
   "metadata": {},
   "outputs": [
    {
     "data": {
      "text/html": [
       "<div>\n",
       "<style scoped>\n",
       "    .dataframe tbody tr th:only-of-type {\n",
       "        vertical-align: middle;\n",
       "    }\n",
       "\n",
       "    .dataframe tbody tr th {\n",
       "        vertical-align: top;\n",
       "    }\n",
       "\n",
       "    .dataframe thead th {\n",
       "        text-align: right;\n",
       "    }\n",
       "</style>\n",
       "<table border=\"1\" class=\"dataframe\">\n",
       "  <thead>\n",
       "    <tr style=\"text-align: right;\">\n",
       "      <th></th>\n",
       "      <th>overall</th>\n",
       "      <th>vote</th>\n",
       "      <th>verified</th>\n",
       "      <th>reviewTime</th>\n",
       "      <th>reviewerID</th>\n",
       "      <th>asin</th>\n",
       "      <th>style</th>\n",
       "      <th>reviewerName</th>\n",
       "      <th>reviewText</th>\n",
       "      <th>summary</th>\n",
       "      <th>unixReviewTime</th>\n",
       "    </tr>\n",
       "  </thead>\n",
       "  <tbody>\n",
       "    <tr>\n",
       "      <td>0</td>\n",
       "      <td>5.0</td>\n",
       "      <td>67</td>\n",
       "      <td>True</td>\n",
       "      <td>09 18, 1999</td>\n",
       "      <td>AAP7PPBU72QFM</td>\n",
       "      <td>0151004714</td>\n",
       "      <td>{'Format:': ' Hardcover'}</td>\n",
       "      <td>D. C. Carrad</td>\n",
       "      <td>This is the best novel I have read in 2 or 3 y...</td>\n",
       "      <td>A star is born</td>\n",
       "      <td>937612800</td>\n",
       "    </tr>\n",
       "    <tr>\n",
       "      <td>1</td>\n",
       "      <td>3.0</td>\n",
       "      <td>5</td>\n",
       "      <td>True</td>\n",
       "      <td>10 23, 2013</td>\n",
       "      <td>A2E168DTVGE6SV</td>\n",
       "      <td>0151004714</td>\n",
       "      <td>{'Format:': ' Kindle Edition'}</td>\n",
       "      <td>Evy</td>\n",
       "      <td>Pages and pages of introspection, in the style...</td>\n",
       "      <td>A stream of consciousness novel</td>\n",
       "      <td>1382486400</td>\n",
       "    </tr>\n",
       "    <tr>\n",
       "      <td>2</td>\n",
       "      <td>5.0</td>\n",
       "      <td>4</td>\n",
       "      <td>False</td>\n",
       "      <td>09 2, 2008</td>\n",
       "      <td>A1ER5AYS3FQ9O3</td>\n",
       "      <td>0151004714</td>\n",
       "      <td>{'Format:': ' Paperback'}</td>\n",
       "      <td>Kcorn</td>\n",
       "      <td>This is the kind of novel to read when you hav...</td>\n",
       "      <td>I'm a huge fan of the author and this one did ...</td>\n",
       "      <td>1220313600</td>\n",
       "    </tr>\n",
       "    <tr>\n",
       "      <td>3</td>\n",
       "      <td>5.0</td>\n",
       "      <td>13</td>\n",
       "      <td>False</td>\n",
       "      <td>09 4, 2000</td>\n",
       "      <td>A1T17LMQABMBN5</td>\n",
       "      <td>0151004714</td>\n",
       "      <td>{'Format:': ' Hardcover'}</td>\n",
       "      <td>Caf Girl Writes</td>\n",
       "      <td>What gorgeous language! What an incredible wri...</td>\n",
       "      <td>The most beautiful book I have ever read!</td>\n",
       "      <td>968025600</td>\n",
       "    </tr>\n",
       "    <tr>\n",
       "      <td>4</td>\n",
       "      <td>3.0</td>\n",
       "      <td>8</td>\n",
       "      <td>True</td>\n",
       "      <td>02 4, 2000</td>\n",
       "      <td>A3QHJ0FXK33OBE</td>\n",
       "      <td>0151004714</td>\n",
       "      <td>{'Format:': ' Hardcover'}</td>\n",
       "      <td>W. Shane Schmidt</td>\n",
       "      <td>I was taken in by reviews that compared this b...</td>\n",
       "      <td>A dissenting view--In part.</td>\n",
       "      <td>949622400</td>\n",
       "    </tr>\n",
       "    <tr>\n",
       "      <td>5</td>\n",
       "      <td>4.0</td>\n",
       "      <td>NaN</td>\n",
       "      <td>True</td>\n",
       "      <td>06 5, 2013</td>\n",
       "      <td>A3IYSOTP3HA77N</td>\n",
       "      <td>0380709473</td>\n",
       "      <td>{'Format:': ' Kindle Edition'}</td>\n",
       "      <td>B. Marks</td>\n",
       "      <td>I read this probably 50 years ago in my youth ...</td>\n",
       "      <td>Above average mystery</td>\n",
       "      <td>1370390400</td>\n",
       "    </tr>\n",
       "    <tr>\n",
       "      <td>6</td>\n",
       "      <td>5.0</td>\n",
       "      <td>NaN</td>\n",
       "      <td>True</td>\n",
       "      <td>06 27, 2016</td>\n",
       "      <td>A11SXV34PZUQ5E</td>\n",
       "      <td>0380709473</td>\n",
       "      <td>{'Format:': ' Kindle Edition'}</td>\n",
       "      <td>Tom C.</td>\n",
       "      <td>I read every Perry mason book voraciously. Fin...</td>\n",
       "      <td>Lam is cool!</td>\n",
       "      <td>1466985600</td>\n",
       "    </tr>\n",
       "    <tr>\n",
       "      <td>7</td>\n",
       "      <td>5.0</td>\n",
       "      <td>NaN</td>\n",
       "      <td>True</td>\n",
       "      <td>07 30, 2015</td>\n",
       "      <td>A2AUQM1HT2D5T8</td>\n",
       "      <td>0380709473</td>\n",
       "      <td>{'Format:': ' Kindle Edition'}</td>\n",
       "      <td>ema</td>\n",
       "      <td>I love this series of Bertha and Lamb..  Great...</td>\n",
       "      <td>Five Stars</td>\n",
       "      <td>1438214400</td>\n",
       "    </tr>\n",
       "    <tr>\n",
       "      <td>8</td>\n",
       "      <td>5.0</td>\n",
       "      <td>NaN</td>\n",
       "      <td>True</td>\n",
       "      <td>02 16, 2015</td>\n",
       "      <td>A3UD8JRWLX6SRX</td>\n",
       "      <td>0380709473</td>\n",
       "      <td>{'Format:': ' Paperback'}</td>\n",
       "      <td>Michael O.</td>\n",
       "      <td>Great read!</td>\n",
       "      <td>Five Stars</td>\n",
       "      <td>1424044800</td>\n",
       "    </tr>\n",
       "    <tr>\n",
       "      <td>9</td>\n",
       "      <td>4.0</td>\n",
       "      <td>NaN</td>\n",
       "      <td>False</td>\n",
       "      <td>11 21, 2013</td>\n",
       "      <td>A3MV1KKHX51FYT</td>\n",
       "      <td>0380709473</td>\n",
       "      <td>{'Format:': ' Paperback'}</td>\n",
       "      <td>Acute Observer</td>\n",
       "      <td>Crows Can't Count, A.A. Fair\\n\\nMr. Harry Shar...</td>\n",
       "      <td>A Fast and Far Moving Adventure</td>\n",
       "      <td>1384992000</td>\n",
       "    </tr>\n",
       "  </tbody>\n",
       "</table>\n",
       "</div>"
      ],
      "text/plain": [
       "   overall vote  verified   reviewTime      reviewerID        asin  \\\n",
       "0      5.0   67      True  09 18, 1999   AAP7PPBU72QFM  0151004714   \n",
       "1      3.0    5      True  10 23, 2013  A2E168DTVGE6SV  0151004714   \n",
       "2      5.0    4     False   09 2, 2008  A1ER5AYS3FQ9O3  0151004714   \n",
       "3      5.0   13     False   09 4, 2000  A1T17LMQABMBN5  0151004714   \n",
       "4      3.0    8      True   02 4, 2000  A3QHJ0FXK33OBE  0151004714   \n",
       "5      4.0  NaN      True   06 5, 2013  A3IYSOTP3HA77N  0380709473   \n",
       "6      5.0  NaN      True  06 27, 2016  A11SXV34PZUQ5E  0380709473   \n",
       "7      5.0  NaN      True  07 30, 2015  A2AUQM1HT2D5T8  0380709473   \n",
       "8      5.0  NaN      True  02 16, 2015  A3UD8JRWLX6SRX  0380709473   \n",
       "9      4.0  NaN     False  11 21, 2013  A3MV1KKHX51FYT  0380709473   \n",
       "\n",
       "                            style      reviewerName  \\\n",
       "0       {'Format:': ' Hardcover'}      D. C. Carrad   \n",
       "1  {'Format:': ' Kindle Edition'}               Evy   \n",
       "2       {'Format:': ' Paperback'}             Kcorn   \n",
       "3       {'Format:': ' Hardcover'}   Caf Girl Writes   \n",
       "4       {'Format:': ' Hardcover'}  W. Shane Schmidt   \n",
       "5  {'Format:': ' Kindle Edition'}          B. Marks   \n",
       "6  {'Format:': ' Kindle Edition'}            Tom C.   \n",
       "7  {'Format:': ' Kindle Edition'}               ema   \n",
       "8       {'Format:': ' Paperback'}        Michael O.   \n",
       "9       {'Format:': ' Paperback'}    Acute Observer   \n",
       "\n",
       "                                          reviewText  \\\n",
       "0  This is the best novel I have read in 2 or 3 y...   \n",
       "1  Pages and pages of introspection, in the style...   \n",
       "2  This is the kind of novel to read when you hav...   \n",
       "3  What gorgeous language! What an incredible wri...   \n",
       "4  I was taken in by reviews that compared this b...   \n",
       "5  I read this probably 50 years ago in my youth ...   \n",
       "6  I read every Perry mason book voraciously. Fin...   \n",
       "7  I love this series of Bertha and Lamb..  Great...   \n",
       "8                                        Great read!   \n",
       "9  Crows Can't Count, A.A. Fair\\n\\nMr. Harry Shar...   \n",
       "\n",
       "                                             summary  unixReviewTime  \n",
       "0                                     A star is born       937612800  \n",
       "1                    A stream of consciousness novel      1382486400  \n",
       "2  I'm a huge fan of the author and this one did ...      1220313600  \n",
       "3          The most beautiful book I have ever read!       968025600  \n",
       "4                        A dissenting view--In part.       949622400  \n",
       "5                              Above average mystery      1370390400  \n",
       "6                                       Lam is cool!      1466985600  \n",
       "7                                         Five Stars      1438214400  \n",
       "8                                         Five Stars      1424044800  \n",
       "9                    A Fast and Far Moving Adventure      1384992000  "
      ]
     },
     "execution_count": 2,
     "metadata": {},
     "output_type": "execute_result"
    }
   ],
   "source": [
    "utils.get_first_lines_electronics_5(10)"
   ]
  },
  {
   "cell_type": "markdown",
   "metadata": {},
   "source": [
    "Veamos los campos que componen el fichero y su significado, acorde a lo explicado en el portal original:\n",
    "* overall: corresponde a la puntuación que el usuario ha otorgado al producto. Sus valores pueden ser 1, 2, 3, 4 o 5.\n",
    "* vote: es la cantidad de votos que la opinión ha recibido. Estos votos indican que la opinión ha sido útil para otros usuarios.\n",
    "* verified: booleano que indica si la compra está o no verificada por Amazon. Esta verificación permite a Amazon garantizar que el usuario que publica la opinión ha comprado, efectivamente, el producto del que está opinando.\n",
    "* reviewTime: fecha de publicación de la opinión.\n",
    "* reviewerID: ID de usuario que publica la opinión.\n",
    "* asin: identificador único del producto.\n",
    "* style: en algunos productos, este campo indica de qué formato o versión se trata. Vemos en estas primeras líneas que hay opiniones correspondientes a libros. Esto se debe a que algunos productos están duplicados en varias categorías.\n",
    "* reviewerName: nombre del usuario que publica la opinión.\n",
    "* reviewText: texto de la opinión. Aquí es de donde obtendremos la mayor parte de la información.\n",
    "* summary: texto del resumen de la opinión. Suele ser un titular, unas pocas palabras.\n",
    "* unixReviewTime: fecha de publicación de la opinión en formato Unix."
   ]
  },
  {
   "cell_type": "markdown",
   "metadata": {},
   "source": [
    "Para este trabajo no necesitamos todos los campos anteriores. Crearemos un nuevo objeto llamado data_raw_0, que es el resultado de leer el fichero original, Electronics_5.json, y trasladarlo a un DataFrame de Pandas. Por el camino realizamos un mínimo procesamiento que consiste en los siguiente:\n",
    "* Transformamos el campo fecha en año, pues no necesitamos tanto detalle.\n",
    "* Eliminamos algunos campos que no son de interés para este trabajo, concretamente los siguientes:\n",
    "  * 'vote'\n",
    "  * 'verified'\n",
    "  * 'style'\n",
    "  * 'reviewerName'\n",
    "  * 'unixReviewTime'\n",
    "  * 'image'\n",
    "  * 'reviewTime'\n",
    "* Sustituimos los nans por cadenas vacías. Esto lo hacemos tras comprobar que los únicos campos que presentan nans son los campos 'review' o 'summary', donde resulta más razonable, en el contexto de análisis de texto, que dichos campos sean cadenas vacías.\n",
    "\n",
    "Vamos a mostrar varias representaciones del dataset para conocerlo un poco mejor. Enseguida veremos que el fichero Electronics_5.json contiene un gran sesgo hacia opiniones con una alta valoración. Este efecto es esperado, pues se conoce que las valoraciones de los productos en Amazon suelen altas. Ref: https://minimaxir.com/2014/06/reviewing-reviews/\n",
    "\n",
    "Debido al análisis que se pretende hacer en este trabajo, eliminaremos el sesgo, dejando la misma cantidad de opiniones por cada valoración. Por este motivo el análisis exploratorio aparece dos veces, la primera sobre el dataset con sesgo y la segunda sin sesgo en la valoración."
   ]
  },
  {
   "cell_type": "code",
   "execution_count": 3,
   "metadata": {
    "scrolled": false
   },
   "outputs": [
    {
     "name": "stdout",
     "output_type": "stream",
     "text": [
      "00h 00m 00s ____ INICIO FUNCIÓN ELECTRONICS_5_TO_RAW_DATA_0 ________________________________________\n",
      "00h 00m 00s ____ INICIO FUNCIÓN GETDF ______________________________________________________________\n",
      "00h 00m 09s :::: BUCLE RAW DATA: i=500000 de 1000000 :::::::::::::::::::::::::::::::::::::::::::::::\n",
      "00h 00m 09s :::: BUCLE RAW DATA: i=1000000 de 1000000 ::::::::::::::::::::::::::::::::::::::::::::::\n",
      "00h 00m 00s ____ FIN FUNCIÓN GETDF _________________________________________________________________\n",
      "00h 00m 38s :::: SE PROCEDE A CREAR EL CAMPO OPINION_YEAR ::::::::::::::::::::::::::::::::::::::::::\n",
      "00h 01m 06s :::: SE PROCEDE A ELIMINAR COLUMNAS QUE NO USAREMOS ::::::::::::::::::::::::::::::::::::\n",
      "00h 00m 01s :::: SE PROCEDE A RENOMBRAR ALGUNAS COLUMNAS :::::::::::::::::::::::::::::::::::::::::::\n",
      "00h 00m 00s :::: SE PROCEDE A SUSTITUIR LOS NANS POR CADENAS VACÍAS ::::::::::::::::::::::::::::::::\n",
      "00h 00m 01s ____ FIN FUNCIÓN ELECTRONICS_5_TO_RAW_DATA_0 ___________________________________________\n"
     ]
    }
   ],
   "source": [
    "data_raw_0 = utils.electronics_5_to_raw_data_0(1000000)"
   ]
  },
  {
   "cell_type": "markdown",
   "metadata": {},
   "source": [
    "A continuación comprobamos que la distribución de puntuaciones está desplazada hacia valoraciones altas. Especialmente llamativa es la cantidad de opiniones con una valoración de 5 estrellas."
   ]
  },
  {
   "cell_type": "code",
   "execution_count": 4,
   "metadata": {},
   "outputs": [
    {
     "data": {
      "image/png": "[encoded data removed]",
      "text/plain": [
       "<Figure size 432x288 with 1 Axes>"
      ]
     },
     "metadata": {
      "needs_background": "light"
     },
     "output_type": "display_data"
    }
   ],
   "source": [
    "utils.perform_eda(data_raw_0, 'rating_distribution')"
   ]
  },
  {
   "cell_type": "markdown",
   "metadata": {},
   "source": [
    "Comprobamos que si mostramos la misma información pero tomando la puntuación mediana por producto el efecto ese el mismo, incluso es algo más pronunciado:"
   ]
  },
  {
   "cell_type": "code",
   "execution_count": 5,
   "metadata": {},
   "outputs": [
    {
     "data": {
      "image/png": "[encoded data removed]",
      "text/plain": [
       "<Figure size 432x288 with 1 Axes>"
      ]
     },
     "metadata": {
      "needs_background": "light"
     },
     "output_type": "display_data"
    }
   ],
   "source": [
    "utils.perform_eda(data_raw_0, 'rating_distribution_item')"
   ]
  },
  {
   "cell_type": "markdown",
   "metadata": {},
   "source": [
    "Veamos cuándo se registraron las opiniones de que disponemos:"
   ]
  },
  {
   "cell_type": "code",
   "execution_count": 6,
   "metadata": {},
   "outputs": [
    {
     "data": {
      "image/png": "[encoded data removed]",
      "text/plain": [
       "<Figure size 432x288 with 1 Axes>"
      ]
     },
     "metadata": {
      "needs_background": "light"
     },
     "output_type": "display_data"
    }
   ],
   "source": [
    "utils.perform_eda(data_raw_0, 'opinions_per_year')"
   ]
  },
  {
   "cell_type": "markdown",
   "metadata": {},
   "source": [
    "El registro comienza en 1999 y termina en 2018, con un pico muy pronunciado entorno a los años 2014-2015."
   ]
  },
  {
   "cell_type": "markdown",
   "metadata": {},
   "source": [
    "Veamos ahora cuántas opiniones suelen tener los artículos."
   ]
  },
  {
   "cell_type": "code",
   "execution_count": 7,
   "metadata": {},
   "outputs": [
    {
     "name": "stdout",
     "output_type": "stream",
     "text": [
      "Aparecen 21278 productos distintos en el dataset.\n"
     ]
    },
    {
     "data": {
      "image/png": "[encoded data removed]",
      "text/plain": [
       "<Figure size 432x288 with 1 Axes>"
      ]
     },
     "metadata": {
      "needs_background": "light"
     },
     "output_type": "display_data"
    },
    {
     "data": {
      "image/png": "[encoded data removed]",
      "text/plain": [
       "<Figure size 432x288 with 1 Axes>"
      ]
     },
     "metadata": {
      "needs_background": "light"
     },
     "output_type": "display_data"
    }
   ],
   "source": [
    "utils.perform_eda(data_raw_0, 'opinions_per_item')"
   ]
  },
  {
   "cell_type": "markdown",
   "metadata": {},
   "source": [
    "Nótese la necesidad de una escala logarítmica. Si bien hay algunos artículos con una gran cantidad de opiniones (del orden de miles), también podemos ver que la mediana está situada en 9 opiniones."
   ]
  },
  {
   "cell_type": "markdown",
   "metadata": {},
   "source": [
    "Igual que con los artículos, veamos ahora cuántas opiniones hay por usuario."
   ]
  },
  {
   "cell_type": "code",
   "execution_count": 8,
   "metadata": {},
   "outputs": [
    {
     "name": "stdout",
     "output_type": "stream",
     "text": [
      "Aparecen 407389 usuarios distintos en el dataset.\n"
     ]
    },
    {
     "data": {
      "image/png": "[encoded data removed]",
      "text/plain": [
       "<Figure size 432x288 with 1 Axes>"
      ]
     },
     "metadata": {
      "needs_background": "light"
     },
     "output_type": "display_data"
    },
    {
     "data": {
      "image/png": "[encoded data removed]",
      "text/plain": [
       "<Figure size 432x288 with 1 Axes>"
      ]
     },
     "metadata": {
      "needs_background": "light"
     },
     "output_type": "display_data"
    }
   ],
   "source": [
    "utils.perform_eda(data_raw_0, 'opinions_per_user')"
   ]
  },
  {
   "cell_type": "markdown",
   "metadata": {},
   "source": [
    "Vemos que una gran cantidad de usuarios tienen apenas unas pocas opiniones."
   ]
  },
  {
   "cell_type": "markdown",
   "metadata": {},
   "source": [
    "¿Cómo es la dispersión en las puntuaciones? Lo vemos en el siguiente boxplot:"
   ]
  },
  {
   "cell_type": "code",
   "execution_count": 9,
   "metadata": {},
   "outputs": [
    {
     "data": {
      "image/png": "[encoded data removed]",
      "text/plain": [
       "<Figure size 432x288 with 1 Axes>"
      ]
     },
     "metadata": {
      "needs_background": "light"
     },
     "output_type": "display_data"
    }
   ],
   "source": [
    "utils.perform_eda(data_raw_0, 'rating_sd_per_item')"
   ]
  },
  {
   "cell_type": "markdown",
   "metadata": {},
   "source": [
    "La desviación estándar de las opiniones, calculada a nivel de artículo, tiene una mediana de 1, si bien puede llegar a ser bastante grande. Ninguna sorpresa aquí."
   ]
  },
  {
   "cell_type": "markdown",
   "metadata": {},
   "source": [
    "Veamos cuál es la longitud media de las opiniones según la puntuación, así como la proporción entre el resumen y el cuerpo de la opinión."
   ]
  },
  {
   "cell_type": "code",
   "execution_count": 10,
   "metadata": {},
   "outputs": [
    {
     "data": {
      "image/png": "[encoded data removed]",
      "text/plain": [
       "<Figure size 432x288 with 1 Axes>"
      ]
     },
     "metadata": {
      "needs_background": "light"
     },
     "output_type": "display_data"
    },
    {
     "data": {
      "image/png": "[encoded data removed]",
      "text/plain": [
       "<Figure size 432x288 with 1 Axes>"
      ]
     },
     "metadata": {
      "needs_background": "light"
     },
     "output_type": "display_data"
    }
   ],
   "source": [
    "utils.perform_eda(data_raw_0, 'summary_review_length_comparison_per_rating')"
   ]
  },
  {
   "cell_type": "code",
   "execution_count": 11,
   "metadata": {},
   "outputs": [
    {
     "data": {
      "image/png": "[encoded data removed]",
      "text/plain": [
       "<Figure size 432x288 with 1 Axes>"
      ]
     },
     "metadata": {
      "needs_background": "light"
     },
     "output_type": "display_data"
    }
   ],
   "source": [
    "utils.perform_eda(data_raw_0, 'text_length_per_rating')"
   ]
  },
  {
   "cell_type": "markdown",
   "metadata": {},
   "source": [
    "A continuación eliminamos el sesgo y repetimos la fase EDA.\n",
    "\n",
    "Para eliminar el sesgo tomamos todas las opiniones de 2 estrellas, pues es el grupo menos poblado, y realizamos un sampleo aleatorio sobre el resto del datset. Tras este sampleo, el contenido del fichero Electronics_5.json que finalmente empleamos es aproximadamente un cuarto del total."
   ]
  },
  {
   "cell_type": "code",
   "execution_count": 12,
   "metadata": {},
   "outputs": [],
   "source": [
    "data_raw_1 = utils.remove_rating_bias_from_raw_data(data_raw_0)"
   ]
  },
  {
   "cell_type": "code",
   "execution_count": 13,
   "metadata": {},
   "outputs": [
    {
     "data": {
      "image/png": "[encoded data removed]",
      "text/plain": [
       "<Figure size 432x288 with 1 Axes>"
      ]
     },
     "metadata": {
      "needs_background": "light"
     },
     "output_type": "display_data"
    }
   ],
   "source": [
    "utils.perform_eda(data_raw_1, 'rating_distribution')"
   ]
  },
  {
   "cell_type": "code",
   "execution_count": 14,
   "metadata": {},
   "outputs": [
    {
     "data": {
      "image/png": "[encoded data removed]",
      "text/plain": [
       "<Figure size 432x288 with 1 Axes>"
      ]
     },
     "metadata": {
      "needs_background": "light"
     },
     "output_type": "display_data"
    }
   ],
   "source": [
    "utils.perform_eda(data_raw_1, 'rating_distribution_item')"
   ]
  },
  {
   "cell_type": "code",
   "execution_count": 15,
   "metadata": {},
   "outputs": [
    {
     "data": {
      "image/png": "[encoded data removed]",
      "text/plain": [
       "<Figure size 432x288 with 1 Axes>"
      ]
     },
     "metadata": {
      "needs_background": "light"
     },
     "output_type": "display_data"
    }
   ],
   "source": [
    "utils.perform_eda(data_raw_1, 'opinions_per_year')"
   ]
  },
  {
   "cell_type": "code",
   "execution_count": 16,
   "metadata": {},
   "outputs": [
    {
     "name": "stdout",
     "output_type": "stream",
     "text": [
      "Aparecen 17155 productos distintos en el dataset.\n"
     ]
    },
    {
     "data": {
      "image/png": "[encoded data removed]",
      "text/plain": [
       "<Figure size 432x288 with 1 Axes>"
      ]
     },
     "metadata": {
      "needs_background": "light"
     },
     "output_type": "display_data"
    },
    {
     "data": {
      "image/png": "[encoded data removed]",
      "text/plain": [
       "<Figure size 432x288 with 1 Axes>"
      ]
     },
     "metadata": {
      "needs_background": "light"
     },
     "output_type": "display_data"
    }
   ],
   "source": [
    "utils.perform_eda(data_raw_1, 'opinions_per_item')"
   ]
  },
  {
   "cell_type": "code",
   "execution_count": 17,
   "metadata": {},
   "outputs": [
    {
     "name": "stdout",
     "output_type": "stream",
     "text": [
      "Aparecen 150491 usuarios distintos en el dataset.\n"
     ]
    },
    {
     "data": {
      "image/png": "[encoded data removed]",
      "text/plain": [
       "<Figure size 432x288 with 1 Axes>"
      ]
     },
     "metadata": {
      "needs_background": "light"
     },
     "output_type": "display_data"
    },
    {
     "data": {
      "image/png": "[encoded data removed]",
      "text/plain": [
       "<Figure size 432x288 with 1 Axes>"
      ]
     },
     "metadata": {
      "needs_background": "light"
     },
     "output_type": "display_data"
    }
   ],
   "source": [
    "utils.perform_eda(data_raw_1, 'opinions_per_user')"
   ]
  },
  {
   "cell_type": "code",
   "execution_count": 18,
   "metadata": {},
   "outputs": [
    {
     "data": {
      "image/png": "[encoded data removed]",
      "text/plain": [
       "<Figure size 432x288 with 1 Axes>"
      ]
     },
     "metadata": {
      "needs_background": "light"
     },
     "output_type": "display_data"
    }
   ],
   "source": [
    "utils.perform_eda(data_raw_1, 'rating_sd_per_item')"
   ]
  },
  {
   "cell_type": "code",
   "execution_count": 19,
   "metadata": {},
   "outputs": [
    {
     "data": {
      "image/png": "[encoded data removed]",
      "text/plain": [
       "<Figure size 432x288 with 1 Axes>"
      ]
     },
     "metadata": {
      "needs_background": "light"
     },
     "output_type": "display_data"
    },
    {
     "data": {
      "image/png": "[encoded data removed]",
      "text/plain": [
       "<Figure size 432x288 with 1 Axes>"
      ]
     },
     "metadata": {
      "needs_background": "light"
     },
     "output_type": "display_data"
    }
   ],
   "source": [
    "utils.perform_eda(data_raw_1, 'summary_review_length_comparison_per_rating')"
   ]
  },
  {
   "cell_type": "code",
   "execution_count": 20,
   "metadata": {},
   "outputs": [
    {
     "data": {
      "image/png": "[encoded data removed]",
      "text/plain": [
       "<Figure size 432x288 with 1 Axes>"
      ]
     },
     "metadata": {
      "needs_background": "light"
     },
     "output_type": "display_data"
    }
   ],
   "source": [
    "utils.perform_eda(data_raw_1, 'text_length_per_rating')"
   ]
  },
  {
   "cell_type": "markdown",
   "metadata": {},
   "source": [
    "# Preparación de los datos"
   ]
  },
  {
   "cell_type": "markdown",
   "metadata": {},
   "source": [
    "En esta sección tratamos el procesamiento de los datos. Los preparamos y le damos la estructura adecuada para realizar un análisis sobre ellos.\n",
    "\n",
    "El objeto resultante del procesamiento lo llamaré odf (Opinion Data Frame) y será una pieza clave pues todos los análisis se harán sobre el mismo. Este objeto, de tipo pandas.DataFrame, contendrá tantas filas como opiniones (aproximadamente 1.5 millones) y los campos son los siguientes:\n",
    "* doc_number\n",
    "* rating\n",
    "* text\n",
    "* summary_raw\n",
    "* review_raw\n",
    "* summary_tokens_length"
   ]
  },
  {
   "cell_type": "markdown",
   "metadata": {},
   "source": [
    "La construcción del objeto odf se realiza bajo la función execute_preprocessing_pipeline, que es una rutina que va ejecutando las distintas transformaciones que sufre el dataset suministrado, data_raw_1, hasta devolver el odf completo."
   ]
  },
  {
   "cell_type": "code",
   "execution_count": 21,
   "metadata": {
    "scrolled": false
   },
   "outputs": [
    {
     "name": "stdout",
     "output_type": "stream",
     "text": [
      "00h 00m 00s ____ INICIO FUNCIÓN EXECUTE_PREPROCESSING_PIPELINE _____________________________________\n",
      "00h 00m 33s :::: SUMMARIES PROCESADOS ::::::::::::::::::::::::::::::::::::::::::::::::::::::::::::::\n",
      "00h 07m 31s :::: REVIEWS PROCESADAS ::::::::::::::::::::::::::::::::::::::::::::::::::::::::::::::::\n",
      "00h 00m 00s ____ INICIO FUNCIÓN BUILD_ODF __________________________________________________________\n",
      "00h 00m 00s :::: BUCLE GENERACIÓN VARIABLE TEXT: i=0 DE 214475 :::::::::::::::::::::::::::::::::::::\n",
      "00h 00m 02s :::: BUCLE GENERACIÓN VARIABLE TEXT: i=200000 DE 214475 ::::::::::::::::::::::::::::::::\n",
      "00h 00m 00s :::: VARIABLE TEXT GENERADA ::::::::::::::::::::::::::::::::::::::::::::::::::::::::::::\n",
      "00h 00m 02s :::: VARIABLE TEXT TRANSFORMADA ::::::::::::::::::::::::::::::::::::::::::::::::::::::::\n",
      "00h 00m 00s ____ FIN FUNCIÓN BUILD_ODF _____________________________________________________________\n",
      "00h 00m 05s :::: ODF_FALSE CONSTRUIDO ::::::::::::::::::::::::::::::::::::::::::::::::::::::::::::::\n",
      "00h 00m 10s :::: ODF_FALSE SALVADO EN DATA/ODFS ::::::::::::::::::::::::::::::::::::::::::::::::::::\n",
      "00h 00m 00s ____ FIN FUNCIÓN EXECUTE_PREPROCESSING_PIPELINE ________________________________________\n"
     ]
    }
   ],
   "source": [
    "odf = utils.execute_preprocessing_pipeline(data_raw_1, False)\n",
    "#odf = utils.load_latest_odf(nrows=1532805, is_false=True)"
   ]
  },
  {
   "cell_type": "markdown",
   "metadata": {},
   "source": [
    "# Análisis"
   ]
  },
  {
   "cell_type": "markdown",
   "metadata": {},
   "source": [
    "El análisis que se lleva a cabo en este proyecto tiene por objetivo encontrar y mostrar de la mejor manera posible las relaciones que se establecen entre opiniones y temas. Por tanto, para realizar esta tarea vamos a necesitar dos partes previas a la extracción de insights:\n",
    "* La detección, definición y construcción de temas\n",
    "* La asignación de temas a opiniones\n",
    "\n",
    "En las siguientes secciones se presentan las herramientas desarrolladas y los objetos definidos para llevar a cabo ambas partes.\n",
    "\n",
    "Antes de ello, vamos a definir los elementos que van a ir apareciendo.\n",
    "* Tema: definimos un tema como un elemento de negocio. Cada tema tratará de representar una parte del proceso de compra de un producto en un comercio electrónico. Por la manera en que se definen, los temas están naturalmente compuestos por subtemas (aunque no siempre hay una barrera clara entre subtemas) y estos, a su vez, por combinaciones de keywords. Los veremos más adelante pero, por poner un ejemplo, uno de los temas trata de la experiencia en la entrega del paquete. Algunos temas se definen por parejas (un tema para la experiencia positiva y otro para la negativa) y otros temas no tienen esa dualidad.\n",
    "* Wordset: es el conjunto de palabras clave que constituyen un tema. No se trata simplemente de una lista sino que hay una cierta lógica, unas relaciones que deben cumplir los tokens con tal de considerarse un tema.\n",
    "* Token: en este trabajo un token puede ser una palabra o un bigrama. Ejemplos de token pueden ser \"package\" o \"works_great\".\n",
    "* Opinión: cuando usamos la palabra opinión nos referimos al objeto \"Opinión\", no al texto que escribe el usuario. La diferencia es que, en este análisis, la opinión es un objeto compuesto por varios campos: rating, review y summary.\n",
    "* Rating: es la puntuación de una opinión. Siempre tiene un valor entre 1 y 5.\n",
    "* Review: es el texto (largo) que escribe el usuario. Es, básicamente, lo que exploraremos para tratar de asignar temas a opiniones.\n",
    "* Summary: es el resumen o el título de la review. Como hemos visto en el EDA, la longitud del summary suele ser bastante inferior a la de la review. También exploramos en los summaries para asignar temas a opiniones.\n",
    "* Hit: asignación de un tema a una opinión."
   ]
  },
  {
   "cell_type": "markdown",
   "metadata": {},
   "source": [
    "# Herramientas y objetos"
   ]
  },
  {
   "cell_type": "markdown",
   "metadata": {},
   "source": [
    "## Detección, definición y construcción de temas"
   ]
  },
  {
   "cell_type": "markdown",
   "metadata": {},
   "source": [
    "Tras varios intentos fallidos de emplear métodos de Topic Modelling para la detección de los temas, decidí construir una metodología propia. Definí un tema como la estructura siguiente:"
   ]
  },
  {
   "cell_type": "code",
   "execution_count": 22,
   "metadata": {},
   "outputs": [],
   "source": [
    "tema =  {\n",
    "            'name': 'nombre del tema'\n",
    "            , 'wordset':\n",
    "            {\n",
    "                'ands':  []\n",
    "                , 'ors': [\n",
    "                            {\n",
    "                            'syn0': [],\n",
    "                            'syn1': [],\n",
    "                            'syn2': [],\n",
    "                            'nots': []\n",
    "                            }\n",
    "                            ,{\n",
    "                            'syn0': [],\n",
    "                            'syn1': [],\n",
    "                            'syn2': [],\n",
    "                            'nots': []\n",
    "                            }\n",
    "                            ,...\n",
    "                            ,{\n",
    "                            'syn0': [],\n",
    "                            'syn1': [],\n",
    "                            'syn2': [],\n",
    "                            'nots': []\n",
    "                            }\n",
    "                         ]\n",
    "            }\n",
    "        }"
   ]
  },
  {
   "cell_type": "markdown",
   "metadata": {},
   "source": [
    "El atributo name sencillamente identifica el tema.\n",
    "El atributo wordset es el conjunto de palabras que identifican el tema. Su contenido se divide en dos piezas, los elementos \"and\" y los elementos \"or\". En el primer caso, todos los tokens que constituyen la lista de \"ands\" deben aparecer en el texto de la opinión (ya sea review o summary) con tal de que el algoritmo de búsqueda considere que se produce un hit. Los ors son el elemento más flexible. Es una lista de \"grupos or\". Cada grupo or contiene un concepto o bien una representación distinta de un mismo concepto, y el algoritmo de búsqueda considerará que se produce un hit si se satisface alguno de los grupos or.\n",
    "\n",
    "La estructura de cada grupo or está compuesta de 4 listas. Una lista de sinónimos de tipo 0. Estos tokens suelen ser bigramas. Los sinónimos de tipo 1 requieren de un complemento, los sinónimos de tipo 2. Los nots son los tokens que, si se detectan próximas a un sinónimo de tipo 0 o 1 anulan el hit. Lo veremos con un ejemplo.\n",
    "\n",
    "Vamos a ver el funcionamiento, tanto de los temas como del algoritmo de búsqueda, con unos ejemplos, pero primero veamos las opiniones sobre las que mostramos el funcionamiento:"
   ]
  },
  {
   "cell_type": "code",
   "execution_count": 23,
   "metadata": {
    "scrolled": false
   },
   "outputs": [
    {
     "ename": "ValueError",
     "evalue": "cannot convert float NaN to integer",
     "output_type": "error",
     "traceback": [
      "\u001b[1;31m---------------------------------------------------------------------------\u001b[0m",
      "\u001b[1;31mValueError\u001b[0m                                Traceback (most recent call last)",
      "\u001b[1;32m<ipython-input-23-1347d32ac26c>\u001b[0m in \u001b[0;36m<module>\u001b[1;34m\u001b[0m\n\u001b[0;32m      1\u001b[0m \u001b[0modf_prueba\u001b[0m \u001b[1;33m=\u001b[0m \u001b[0modf\u001b[0m\u001b[1;33m.\u001b[0m\u001b[0mloc\u001b[0m\u001b[1;33m[\u001b[0m\u001b[1;33m[\u001b[0m\u001b[1;36m148\u001b[0m\u001b[1;33m,\u001b[0m \u001b[1;36m1455\u001b[0m\u001b[1;33m,\u001b[0m \u001b[1;36m2689\u001b[0m\u001b[1;33m,\u001b[0m \u001b[1;36m2849\u001b[0m\u001b[1;33m,\u001b[0m \u001b[1;36m7213\u001b[0m\u001b[1;33m,\u001b[0m \u001b[1;36m13890\u001b[0m\u001b[1;33m,\u001b[0m \u001b[1;36m59018\u001b[0m\u001b[1;33m,\u001b[0m \u001b[1;36m774310\u001b[0m\u001b[1;33m,\u001b[0m \u001b[1;36m83236\u001b[0m\u001b[1;33m,\u001b[0m \u001b[1;36m3161181\u001b[0m\u001b[1;33m,\u001b[0m \u001b[1;36m5183314\u001b[0m\u001b[1;33m]\u001b[0m\u001b[1;33m]\u001b[0m\u001b[1;33m\u001b[0m\u001b[1;33m\u001b[0m\u001b[0m\n\u001b[0;32m      2\u001b[0m \u001b[1;32mfor\u001b[0m \u001b[0meach\u001b[0m \u001b[1;32min\u001b[0m \u001b[0modf_prueba\u001b[0m\u001b[1;33m.\u001b[0m\u001b[0miterrows\u001b[0m\u001b[1;33m(\u001b[0m\u001b[1;33m)\u001b[0m\u001b[1;33m:\u001b[0m\u001b[1;33m\u001b[0m\u001b[1;33m\u001b[0m\u001b[0m\n\u001b[1;32m----> 3\u001b[1;33m     \u001b[0mprint\u001b[0m\u001b[1;33m(\u001b[0m\u001b[1;34m'Opinión #'\u001b[0m\u001b[1;33m,\u001b[0m \u001b[0mstr\u001b[0m\u001b[1;33m(\u001b[0m\u001b[0mint\u001b[0m\u001b[1;33m(\u001b[0m\u001b[0meach\u001b[0m\u001b[1;33m[\u001b[0m\u001b[1;36m1\u001b[0m\u001b[1;33m]\u001b[0m\u001b[1;33m[\u001b[0m\u001b[1;34m'doc_number'\u001b[0m\u001b[1;33m]\u001b[0m\u001b[1;33m)\u001b[0m\u001b[1;33m)\u001b[0m\u001b[1;33m+\u001b[0m\u001b[1;34m':'\u001b[0m\u001b[1;33m)\u001b[0m\u001b[1;33m\u001b[0m\u001b[1;33m\u001b[0m\u001b[0m\n\u001b[0m\u001b[0;32m      4\u001b[0m     \u001b[0mprint\u001b[0m\u001b[1;33m(\u001b[0m\u001b[1;34m'Rating:'\u001b[0m\u001b[1;33m,\u001b[0m \u001b[0mstr\u001b[0m\u001b[1;33m(\u001b[0m\u001b[0mint\u001b[0m\u001b[1;33m(\u001b[0m\u001b[0meach\u001b[0m\u001b[1;33m[\u001b[0m\u001b[1;36m1\u001b[0m\u001b[1;33m]\u001b[0m\u001b[1;33m[\u001b[0m\u001b[1;34m'rating'\u001b[0m\u001b[1;33m]\u001b[0m\u001b[1;33m)\u001b[0m\u001b[1;33m)\u001b[0m\u001b[1;33m)\u001b[0m\u001b[1;33m\u001b[0m\u001b[1;33m\u001b[0m\u001b[0m\n\u001b[0;32m      5\u001b[0m     \u001b[0mprint\u001b[0m\u001b[1;33m(\u001b[0m\u001b[0meach\u001b[0m\u001b[1;33m[\u001b[0m\u001b[1;36m1\u001b[0m\u001b[1;33m]\u001b[0m\u001b[1;33m[\u001b[0m\u001b[1;34m'review_raw'\u001b[0m\u001b[1;33m]\u001b[0m\u001b[1;33m,\u001b[0m \u001b[1;34m'\\n\\n********************************************\\n'\u001b[0m\u001b[1;33m)\u001b[0m\u001b[1;33m\u001b[0m\u001b[1;33m\u001b[0m\u001b[0m\n",
      "\u001b[1;31mValueError\u001b[0m: cannot convert float NaN to integer"
     ]
    }
   ],
   "source": [
    "odf_prueba = odf.loc[[148, 1455, 2689, 2849, 7213, 13890, 59018, 774310, 83236, 3161181, 5183314]]\n",
    "for each in odf_prueba.iterrows():\n",
    "    print('Opinión #', str(int(each[1]['doc_number']))+':')\n",
    "    print('Rating:', str(int(each[1]['rating'])))\n",
    "    print(each[1]['review_raw'], '\\n\\n********************************************\\n')"
   ]
  },
  {
   "cell_type": "markdown",
   "metadata": {},
   "source": [
    "Veamos el funcionamiento del elemento \"ands\"."
   ]
  },
  {
   "cell_type": "code",
   "execution_count": null,
   "metadata": {},
   "outputs": [],
   "source": [
    "tema =  {\n",
    "            'name': 'Prueba'\n",
    "            , 'wordset':\n",
    "            {\n",
    "                'ands':  ['iphone']\n",
    "                , 'ors': [\n",
    "                            {\n",
    "                            'syn0': [],\n",
    "                            'syn1': [],\n",
    "                            'syn2': [],\n",
    "                            'nots': []\n",
    "                            }\n",
    "                         ]\n",
    "            }\n",
    "        }"
   ]
  },
  {
   "cell_type": "code",
   "execution_count": null,
   "metadata": {},
   "outputs": [],
   "source": [
    "utils.analize_wordset_not_so_naive_4(odf_prueba, tema, False)[0]['doc_number']"
   ]
  },
  {
   "cell_type": "markdown",
   "metadata": {},
   "source": [
    "Comprobamos que se han localizado las 3 opiniones en las que aparece el token 'iphone':"
   ]
  },
  {
   "cell_type": "markdown",
   "metadata": {},
   "source": [
    "Verificamos que si añadimos un token a la lista de \"ands\", la búsqueda es más restrictiva, pues solo harán hit las opiniones que contengan ambos tokens."
   ]
  },
  {
   "cell_type": "code",
   "execution_count": null,
   "metadata": {},
   "outputs": [],
   "source": [
    "tema =  {\n",
    "            'name': 'Prueba'\n",
    "            , 'wordset':\n",
    "            {\n",
    "                'ands':  ['iphone', 'charger']\n",
    "                , 'ors': [\n",
    "                            {\n",
    "                            'syn0': [],\n",
    "                            'syn1': [],\n",
    "                            'syn2': [],\n",
    "                            'nots': []\n",
    "                            }\n",
    "                         ]\n",
    "            }\n",
    "        }"
   ]
  },
  {
   "cell_type": "code",
   "execution_count": null,
   "metadata": {},
   "outputs": [],
   "source": [
    "utils.analize_wordset_not_so_naive_4(odf_prueba, tema, False)[0]['doc_number']"
   ]
  },
  {
   "cell_type": "markdown",
   "metadata": {},
   "source": [
    "Comprobamos que la opinión 13890 deja de aparecer, pues no contiene la palabra \"charger\"."
   ]
  },
  {
   "cell_type": "markdown",
   "metadata": {},
   "source": [
    "A continuación buscaremos opiniones que contengan alguno de los dos tokens. Para ello empleamos la lista syn0 del grupo or."
   ]
  },
  {
   "cell_type": "code",
   "execution_count": null,
   "metadata": {},
   "outputs": [],
   "source": [
    "tema =  {\n",
    "            'name': 'Prueba'\n",
    "            , 'wordset':\n",
    "            {\n",
    "                'ands':  []\n",
    "                , 'ors': [\n",
    "                            {\n",
    "                            'syn0': ['iphone', 'charger'],\n",
    "                            'syn1': [],\n",
    "                            'syn2': [],\n",
    "                            'nots': []\n",
    "                            }\n",
    "                         ]\n",
    "            }\n",
    "        }"
   ]
  },
  {
   "cell_type": "code",
   "execution_count": null,
   "metadata": {},
   "outputs": [],
   "source": [
    "utils.analize_wordset_not_so_naive_4(odf_prueba, tema, False)[0]['doc_number']"
   ]
  },
  {
   "cell_type": "markdown",
   "metadata": {},
   "source": [
    "En esta ocasión aparecen todas las opiniones que contiene alguna de las dos (o las dos) palabras."
   ]
  },
  {
   "cell_type": "markdown",
   "metadata": {},
   "source": [
    "Ahora probemos una búsqueda algo más avanzada. Consideraremos 'phone' y 'iphone' como sinónimos, y exigiremos que aparezca el token 'charger'."
   ]
  },
  {
   "cell_type": "code",
   "execution_count": null,
   "metadata": {},
   "outputs": [],
   "source": [
    "tema =  {\n",
    "            'name': 'Prueba'\n",
    "            , 'wordset':\n",
    "            {\n",
    "                'ands':  ['charger']\n",
    "                , 'ors': [\n",
    "                            {\n",
    "                            'syn0': ['iphone', 'phone'],\n",
    "                            'syn1': [],\n",
    "                            'syn2': [],\n",
    "                            'nots': []\n",
    "                            }\n",
    "                         ]\n",
    "            }\n",
    "        }"
   ]
  },
  {
   "cell_type": "code",
   "execution_count": null,
   "metadata": {},
   "outputs": [],
   "source": [
    "utils.analize_wordset_not_so_naive_4(odf_prueba, tema, False)[0]['doc_number']"
   ]
  },
  {
   "cell_type": "markdown",
   "metadata": {},
   "source": [
    "Comprobamos que se trata del resultado esperado: la opinión 7213 contiene \"charger\" y \"phone\" y las otras dos contienen \"charger\" y \"iphone\"."
   ]
  },
  {
   "cell_type": "markdown",
   "metadata": {},
   "source": [
    "En esta ocasión vamos a mostrar la diferencia entre los syn0 y los sin1/syn2. Definimos un tema que considere la inestabilidad del producto. Los syn0 serán 'unstable' y 'stability_issues', mientras que el syn1 será 'stable', apoyado por el complemento 'not'."
   ]
  },
  {
   "cell_type": "code",
   "execution_count": null,
   "metadata": {},
   "outputs": [],
   "source": [
    "tema =  {\n",
    "            'name': 'Prueba'\n",
    "            , 'wordset':\n",
    "            {\n",
    "                'ands':  []\n",
    "                , 'ors': [\n",
    "                            {\n",
    "                            'syn0': ['unstable',\n",
    "                                     'stability_issues'],\n",
    "                            'syn1': ['stable'],\n",
    "                            'syn2': ['not'],\n",
    "                            'nots': []\n",
    "                            }\n",
    "                         ]\n",
    "            }\n",
    "        }"
   ]
  },
  {
   "cell_type": "code",
   "execution_count": null,
   "metadata": {},
   "outputs": [],
   "source": [
    "utils.analize_wordset_not_so_naive_4(odf_prueba, tema, False)[0]['doc_number']"
   ]
  },
  {
   "cell_type": "markdown",
   "metadata": {},
   "source": [
    "Podemos comprobar fácilmente que ambas opiniones tratan el tema de la inestabilidad del producto."
   ]
  },
  {
   "cell_type": "markdown",
   "metadata": {},
   "source": [
    "Por último, veamos la importancia que puede tener el elemento 'not'. Para ello definimos dos temas iguales pero en uno de ellos le indicamos que los tokens 'not' y 'nor' no pueden aparecer próximos."
   ]
  },
  {
   "cell_type": "code",
   "execution_count": null,
   "metadata": {},
   "outputs": [],
   "source": [
    "tema1 =  {\n",
    "            'name': 'Prueba'\n",
    "            , 'wordset':\n",
    "            {\n",
    "                'ands':  []\n",
    "                , 'ors': [\n",
    "                            {\n",
    "                            'syn0': [],\n",
    "                            'syn1': ['plug'],\n",
    "                            'syn2': ['play'],\n",
    "                            'nots': []\n",
    "                            }\n",
    "                         ]\n",
    "            }\n",
    "        }\n",
    "tema2 =  {\n",
    "            'name': 'Prueba'\n",
    "            , 'wordset':\n",
    "            {\n",
    "                'ands':  []\n",
    "                , 'ors': [\n",
    "                            {\n",
    "                            'syn0': [],\n",
    "                            'syn1': ['plug'],\n",
    "                            'syn2': ['play'],\n",
    "                            'nots': ['not']\n",
    "                            }\n",
    "                         ]\n",
    "            }\n",
    "        }"
   ]
  },
  {
   "cell_type": "code",
   "execution_count": null,
   "metadata": {},
   "outputs": [],
   "source": [
    "utils.analize_wordset_not_so_naive_4(odf_prueba, tema1, False)[0]['doc_number']"
   ]
  },
  {
   "cell_type": "code",
   "execution_count": null,
   "metadata": {},
   "outputs": [],
   "source": [
    "utils.analize_wordset_not_so_naive_4(odf_prueba, tema2, False)[0]['doc_number']"
   ]
  },
  {
   "cell_type": "markdown",
   "metadata": {},
   "source": [
    "Hasta aquí hemos visto cómo funcionan los temas una vez están definidos pero cómo los definimos? Mediante un proceso manual asistido por diversas herramientas para explorar los tokens del corpus.\n",
    "\n",
    "En primer lugar, es fundamental disponer del corpus del dataset, es decir, los tokens que aparecen en las opiniones, y también cuántas veces aparecen. Para ello se ha desarrollado una función cuyo retorno es un objeto similar a un Bag Of Words. Lanzamos una muestra a continuación. Además de retornar la lista completa, podemos pedirle que nos muestre, en forma de wordcloud, los tokens más frecuentes."
   ]
  },
  {
   "cell_type": "code",
   "execution_count": null,
   "metadata": {},
   "outputs": [],
   "source": [
    "tokens = utils.generate_bow(odf, False, show=False)"
   ]
  },
  {
   "cell_type": "markdown",
   "metadata": {},
   "source": [
    "Esa es la primera herramienta. Simplemente revisando manualmente los tokens más comunes es posible hacerse una idea de los temas que se tratan. Muchos de ellos no son útiles descontextualizados. Por ello, acudimos a los bigramas:"
   ]
  },
  {
   "cell_type": "code",
   "execution_count": null,
   "metadata": {},
   "outputs": [],
   "source": [
    "utils.extract_bigrams_from_bow(tokens).head()"
   ]
  },
  {
   "cell_type": "markdown",
   "metadata": {},
   "source": [
    "Los bigramas nos ofrecen una visión mucho más contextualizada. Si bien muchos de ellos no pueden ser interpretados por sí solos, sí hay otros muchos que sí lo permiten."
   ]
  },
  {
   "cell_type": "markdown",
   "metadata": {},
   "source": [
    "La siguiente herramienta nos asiste en la interpretación de los tokens. Nos sirve para contextualizarlos y adquirir una noción de \"qué se suele decir\" allí donde se usan. La función get_close_words nos devuelve los tokens más frecuentes que se encuentran antes (a la izquierda) del token buscado y las que se encuentran detrás (a la derecha). Asimismo, se recoge el número de ocasiones que aparecen e información sobre la puntuación: la media y la desviación estándar de aquellas opiniones en las que se ha encontrado el token seguido o precedido de cada palabra:"
   ]
  },
  {
   "cell_type": "code",
   "execution_count": null,
   "metadata": {
    "scrolled": false
   },
   "outputs": [],
   "source": [
    "utils.get_close_words_2(odf, 'defective', max_distance=3, n_words=8)"
   ]
  },
  {
   "cell_type": "code",
   "execution_count": null,
   "metadata": {},
   "outputs": [],
   "source": [
    "utils.get_close_words_2(odf, 'works_great', max_distance=3, n_words=8)"
   ]
  },
  {
   "cell_type": "markdown",
   "metadata": {},
   "source": [
    "Simplemente con esta función ya nos damos cuenta de que algunas palabras están fuertemente relacionadas con la puntuación de las opiniones, como podemos ver en estas dos ejecuciones."
   ]
  },
  {
   "cell_type": "markdown",
   "metadata": {},
   "source": [
    "Otra asistencia relacionada con la definición de los wordsets es la que nos ofrece la función busca_tokens. Esta función nos permite ver en qué bigramas aparece un token dado."
   ]
  },
  {
   "cell_type": "code",
   "execution_count": null,
   "metadata": {},
   "outputs": [],
   "source": [
    "utils.busca_tokens(tokens, ['quality'])"
   ]
  },
  {
   "cell_type": "markdown",
   "metadata": {},
   "source": [
    "Estas son las herramientas que, combinadas entre ellas y con una cierta dedicación, me han permitido definir los wordsets de los temas."
   ]
  },
  {
   "cell_type": "markdown",
   "metadata": {},
   "source": [
    "## Asignación de temas a opiniones (hits)"
   ]
  },
  {
   "cell_type": "markdown",
   "metadata": {},
   "source": [
    "El mecanismo de asignación de temas a opiniones lo hemos visto en la sección anterior. Es un algoritmo que recibe como inputs el odf y el envoltorio del wordset que queremos analizar. Además, podemos indicarle si queremos visualizar el histograma de los resultados por puntuación.\n",
    "\n",
    "El código de la función analize_wordset está diseñado para seguir la siguiente lógica (la describimos de forma aproximada, ya que el código contiene matices para mejorar el rendimiento y la precisión):\n",
    "\n",
    "* para cada opinión en el odf:\n",
    "  * si se cumple la condición de los ands en el texto:\n",
    "    * ands_compliance = True\n",
    "    * si se cumple algún grupo or en el texto:\n",
    "      * ors_compliance = True\n",
    "  * si ands_compliance y ors_compliance:\n",
    "    * se produce un hit\n",
    "\n",
    "Algunos mecanismos que incluye el código para mejorar el rendimiento:\n",
    "* Primero se realiza la búsqueda sobre el summary. De no satisfacerse las condiciones, entonces se busca en la review.\n",
    "* No se procesa todo el texto (algunos son muy largos) sino que en primer lugar se localizan las posiciones de los tokens del wordset y entonces seleccionamos una porción del texto que los envuelve. De este modo reducimos drásticamente la longitud del texto a procesar. La porción de texto a estudiar se establece mediante un parámetro, max_distance, que se ha establecido en 3. Esto hace que el texto a estudiar sea, en muchas ocasiones, de tan solo 7 tokens.\n",
    "\n",
    "Algunos mecanismos para mejorar la precisión:\n",
    "* En la línea de establecer una distancia máxima de 3 tokens, esta es la distancia máxima a la que pueden estar los elementos syn1 y syn2 para ser contabilizados.\n",
    "* De los elementos not, por su naturaleza, solo se comprueba su existencia en las max_distance posiciones previas al token de interés, no en las posteriores."
   ]
  },
  {
   "cell_type": "code",
   "execution_count": null,
   "metadata": {},
   "outputs": [],
   "source": [
    "tokens = utils.generate_bow(odf, False, show=False)\n",
    "bigrams = utils.extract_bigrams_from_bow(tokens)"
   ]
  },
  {
   "cell_type": "markdown",
   "metadata": {},
   "source": [
    "# Definición de temas y obtención de los hits"
   ]
  },
  {
   "cell_type": "markdown",
   "metadata": {},
   "source": [
    "A continuación se muestran los temas que se han definido, así como el resultado de la función analize. Para cada caso, se mostrará un histograma donde podremos ver la distribución de los ratings."
   ]
  },
  {
   "cell_type": "code",
   "execution_count": null,
   "metadata": {},
   "outputs": [],
   "source": [
    "wsw1_pos =   {\n",
    "            'name':'Funcionamiento (POS)'\n",
    "            ,'wordset': \n",
    "            {\n",
    "                'ands': [],\n",
    "                'ors' :\n",
    "                    [\n",
    "                    # MUY POSITIVO\n",
    "                    {\n",
    "                    'syn0': ['works_great',\n",
    "                             'works_flawlessly',\n",
    "                             'works_perfectly',\n",
    "                             'worked_perfectly',\n",
    "                             'works_well'],\n",
    "                    'syn1': [],\n",
    "                    'syn2': [],\n",
    "                    'nots': ['not']\n",
    "                    }\n",
    "                    # POSITIVO\n",
    "                    ,{\n",
    "                    'syn0': ['works_fine',\n",
    "                             'good_job',\n",
    "                             'working_properly',\n",
    "                             'works_ok',\n",
    "                             'work_properly',\n",
    "                             'serves_purpose'],\n",
    "                    'syn1': [],\n",
    "                    'syn2': [],\n",
    "                    'nots': ['not']\n",
    "                    }\n",
    "                    ,{\n",
    "                    'syn0': [],\n",
    "                    'syn1': ['works'],\n",
    "                    'syn2': ['expected'],\n",
    "                    'nots': ['not']\n",
    "                    }\n",
    "                    # BAJO CONSUMO\n",
    "                    ,{\n",
    "                    'syn0': [],\n",
    "                    'syn1': ['power_consumption'],\n",
    "                    'syn2': ['low'],\n",
    "                    'nots': []\n",
    "                    }\n",
    "                    ]\n",
    "            }\n",
    "        }\n",
    "an1_pos_fil, an1_pos_agg = utils.analize_wordset_not_so_naive_4(odf, wsw1_pos, True)"
   ]
  },
  {
   "cell_type": "code",
   "execution_count": null,
   "metadata": {},
   "outputs": [],
   "source": [
    "wsw1_neg =   {\n",
    "            'name':'Funcionamiento (NEG)'\n",
    "            ,'wordset': \n",
    "            {\n",
    "                'ands': [],\n",
    "                'ors' :\n",
    "                    [\n",
    "                    # GENÉRICO, NO FUNCIONA DEBIDAMENTE\n",
    "                    {\n",
    "                    'syn0': ['not_work'],\n",
    "                    'syn1': ['working_properly',\n",
    "                             'work_properly'],\n",
    "                    'syn2': ['not'],\n",
    "                    'nots': []\n",
    "                    }\n",
    "                    ,{\n",
    "                    'syn0': ['faulty',\n",
    "                             'defective',\n",
    "                             'fluke'],\n",
    "                    'syn1': [],\n",
    "                    'syn2': [],\n",
    "                    'nots': []\n",
    "                    }\n",
    "                    # PROBLEMAS DE ESTABILIDAD\n",
    "                    ,{\n",
    "                    'syn0': ['unstable',\n",
    "                             'stability_issues'],\n",
    "                    'syn1': ['stable'],\n",
    "                    'syn2': ['not'],\n",
    "                    'nots': []\n",
    "                    },\n",
    "                    {\n",
    "                    'syn0': [],\n",
    "                    'syn1': ['suddenly_stopped',\n",
    "                             'stopped'],\n",
    "                    'syn2': ['suddenly',\n",
    "                             'working'],\n",
    "                    'nots': []\n",
    "                    },\n",
    "                    {\n",
    "                    'syn0': ['unreliable',\n",
    "                             'works_intermittently'],\n",
    "                    'syn1': ['reliable'],\n",
    "                    'syn2': ['not'],\n",
    "                    'nots': []\n",
    "                    }\n",
    "                    # DEJÓ DE FUNCIONAR O COMENZÓ A FUNCIONAR MAL\n",
    "                    ,{\n",
    "                    'syn0': [],\n",
    "                    'syn1': ['quit_working',\n",
    "                             'stopped_working',\n",
    "                             'stopped_working',\n",
    "                             'stop_working',\n",
    "                             'quits_working',\n",
    "                             'quitted_working'],\n",
    "                    'syn2': [],\n",
    "                    'nots': []\n",
    "                    }\n",
    "                    ,{\n",
    "                    'syn0': [],\n",
    "                    'syn1': ['within_week',\n",
    "                             'within_weeks',\n",
    "                             'week',\n",
    "                             'weeks'],\n",
    "                    'syn2': ['stopped_working',\n",
    "                             'started',\n",
    "                             'broke',\n",
    "                             'quits_working',\n",
    "                             'quitted_working'],\n",
    "                    'nots': []\n",
    "                    }\n",
    "                    ,{\n",
    "                    'syn0': ['obsolescence',\n",
    "                             'short_life',\n",
    "                             'never_worked'],\n",
    "                    'syn1': [],\n",
    "                    'syn2': [],\n",
    "                    'nots': []\n",
    "                    }\n",
    "                    # ALTO CONSUMO\n",
    "                    ,{\n",
    "                    'syn0': ['drains_battery',\n",
    "                             'eat_batteries',\n",
    "                             'eats_batteries',\n",
    "                             'eating_batteries'],\n",
    "                    'syn1': [],\n",
    "                    'syn2': [],\n",
    "                    'nots': []\n",
    "                    }\n",
    "                    ,{\n",
    "                    'syn0': [],\n",
    "                    'syn1': ['power_consumption'],\n",
    "                    'syn2': ['high'],\n",
    "                    'nots': []\n",
    "                    },\n",
    "                    ]\n",
    "            }\n",
    "        }\n",
    "an1_neg_fil, an1_neg_agg = utils.analize_wordset_not_so_naive_4(odf, wsw1_neg, True)"
   ]
  },
  {
   "cell_type": "code",
   "execution_count": null,
   "metadata": {},
   "outputs": [],
   "source": [
    "wsw2_pos =   {\n",
    "            'name':'Características (POS)'\n",
    "            ,'wordset': \n",
    "            {\n",
    "                'ands': [],\n",
    "                'ors' :\n",
    "                    [\n",
    "                    # GENÉRICO APARIENCIA\n",
    "                    #{\n",
    "                    #'syn0': busca_tokens(tokens, ['looks']),\n",
    "                    #'syn1': [],\n",
    "                    #'syn2': [],\n",
    "                    #'nots': []\n",
    "                    #}\n",
    "                    # BUENA CALIDAD DE PIEZAS MECÁNICAS Y COMPONENTES\n",
    "                    {\n",
    "                    'syn0': ['excellent_build',\n",
    "                             'sturdy'],\n",
    "                    'syn1': [],\n",
    "                    'syn2': [],\n",
    "                    'nots': []\n",
    "                    }\n",
    "                    ,{\n",
    "                    'syn0': ['well_made',\n",
    "                             'quite_good',\n",
    "                             'well_designed',\n",
    "                             'excellent_product',\n",
    "                             'high_quality'],\n",
    "                    'syn1': ['build_quality',\n",
    "                             'image_quality'],\n",
    "                    'syn2': ['good',\n",
    "                             'nice',\n",
    "                             'high'],\n",
    "                    'nots': []\n",
    "                    },\n",
    "                    {\n",
    "                    'syn0': ['excellent_product',\n",
    "                             'excellent_quality',\n",
    "                             'excellent_results',\n",
    "                             'excellent_sound'],\n",
    "                    'syn1': [],\n",
    "                    'syn2': [],\n",
    "                    'nots': []\n",
    "                    }\n",
    "                    ,{\n",
    "                    'syn0': ['sounds_great'],\n",
    "                    'syn1': ['sound_quality',\n",
    "                             'audio_quality'],\n",
    "                    'syn2': ['good',\n",
    "                             'great',\n",
    "                             'excellent'],\n",
    "                    'nots': ['not']\n",
    "                    }\n",
    "                    ,{\n",
    "                    'syn0': [],\n",
    "                    'syn1': ['picture_quality',\n",
    "                             'image_quality'],\n",
    "                    'syn2': ['good',\n",
    "                             'great',\n",
    "                             'excellent'],\n",
    "                    'nots': ['not']\n",
    "                    }\n",
    "                    ,{\n",
    "                    'syn0': [],\n",
    "                    'syn1': ['battery_life'],\n",
    "                    'syn2': ['good',\n",
    "                             'great',\n",
    "                             'long',\n",
    "                             'excellent'],\n",
    "                    'nots': ['not']\n",
    "                    }\n",
    "                    # BUEN ASPECTO\n",
    "                    ,{\n",
    "                    'syn0': ['nice_looking'],\n",
    "                    'syn1': [],\n",
    "                    'syn2': [],\n",
    "                    'nots': []\n",
    "                    }\n",
    "                    # TAMAÑO ADECUADO\n",
    "                    ,{\n",
    "                    'syn0': ['fit_perfectly'],\n",
    "                    'syn1': ['fit',\n",
    "                             'fits'],\n",
    "                    'syn2': ['good',\n",
    "                             'perfectly',\n",
    "                             'right'],\n",
    "                    'nots': ['not']\n",
    "                    }\n",
    "                    ,{\n",
    "                    'syn0': ['perfect_size'],\n",
    "                    'syn1': ['size',\n",
    "                             'length'],\n",
    "                    'syn2': ['perfect'],\n",
    "                    'nots': []\n",
    "                    }\n",
    "                    ]\n",
    "            }\n",
    "        }               \n",
    "an2_pos_fil, an2_pos_agg = utils.analize_wordset_not_so_naive_4(odf, wsw2_pos, True)"
   ]
  },
  {
   "cell_type": "code",
   "execution_count": null,
   "metadata": {},
   "outputs": [],
   "source": [
    "wsw2_neg =   {\n",
    "            'name':'Características (NEG)'\n",
    "            ,'wordset': \n",
    "            {\n",
    "                'ands': [],\n",
    "                'ors' :\n",
    "                    [\n",
    "                    # GENÉRICO APARIENCIA\n",
    "                    #{\n",
    "                    #'syn0': busca_tokens(tokens, ['looks']),\n",
    "                    #'syn1': [],\n",
    "                    #'syn2': [],\n",
    "                    #'nots': []\n",
    "                    #}\n",
    "                    # MALA CALIDAD DE PIEZAS MECÁNICAS Y COMPONENTES\n",
    "                    {\n",
    "                    'syn0': utils.busca_tokens(tokens, ['defective']),\n",
    "                    'syn1': [],\n",
    "                    'syn2': [],\n",
    "                    'nots': []\n",
    "                    }\n",
    "                    ,{\n",
    "                    'syn0': ['broke_apart',\n",
    "                             'fell_apart',\n",
    "                             'fall_apart',\n",
    "                             'falling_apart',\n",
    "                             'cheaply_made',\n",
    "                             'cheap_plastic',\n",
    "                             'poor_quality',\n",
    "                             'bit_flimsy',\n",
    "                             'defective_product',\n",
    "                             'poorly_constructed'],\n",
    "                    'syn1': ['melted'],\n",
    "                    'syn2': [],\n",
    "                    'nots': []\n",
    "                    }\n",
    "                    ,{\n",
    "                    'syn0': ['feels_cheap',\n",
    "                             'felt_cheap',\n",
    "                             'cheap_feel',\n",
    "                             'poorly_made',\n",
    "                             'cheap_plastic',\n",
    "                             'cheap_plastics',\n",
    "                             'cheap_cardboard',\n",
    "                             'cheap_feeling',\n",
    "                             'cheap_construction',\n",
    "                             'cheap_materials',\n",
    "                             'cheap_material'],\n",
    "                    'syn1': [],\n",
    "                    'syn2': [],\n",
    "                    'nots': []\n",
    "                    }\n",
    "                    ,{\n",
    "                    'syn0': [],\n",
    "                    'syn1': ['build_quality'],\n",
    "                    'syn2': ['bad'],\n",
    "                    'nots': ['not']\n",
    "                    }\n",
    "                    ,{\n",
    "                    'syn0': ['broke_within',\n",
    "                             'easily_broken',\n",
    "                             'breaks_easily',\n",
    "                             'breaks_easy',\n",
    "                             'breaks_every',\n",
    "                             'breaks_quickly',\n",
    "                             'broke_quickly',\n",
    "                             'broke_shortly'],\n",
    "                    'syn1': [],\n",
    "                    'syn2': [],\n",
    "                    'nots': []\n",
    "                    }\n",
    "                    ,{\n",
    "                    'syn0': [],\n",
    "                    'syn1': ['sound_quality',\n",
    "                             'audio_quality'],\n",
    "                    'syn2': ['poor',\n",
    "                             'bad'],\n",
    "                    'nots': []\n",
    "                    }\n",
    "                    ,{\n",
    "                    'syn0': [],\n",
    "                    'syn1': ['picture_quality',\n",
    "                             'image_quality'],\n",
    "                    'syn2': ['poor',\n",
    "                             'bad'],\n",
    "                    'nots': []\n",
    "                    }\n",
    "                    ,{\n",
    "                    'syn0': [],\n",
    "                    'syn1': ['battery_life'],\n",
    "                    'syn2': ['short'],\n",
    "                    'nots': []\n",
    "                    }\n",
    "                    # DISEÑO PRESENTA FALLOS\n",
    "                    ,{\n",
    "                    'syn0': ['design_flaw',\n",
    "                             'design_defect',\n",
    "                             'design_weakness',\n",
    "                             'flawed_design',\n",
    "                             'poor_design'],\n",
    "                    'syn1': ['serious_design'],\n",
    "                    'syn2': ['flaw',\n",
    "                             'flaws'],\n",
    "                    'nots': []\n",
    "                    }\n",
    "                    ,{\n",
    "                    'syn0': utils.busca_tokens(tokens, ['drawbacks']),\n",
    "                    'syn1': [],\n",
    "                    'syn2': [],\n",
    "                    'nots': []\n",
    "                    }\n",
    "                    ,{\n",
    "                    'syn0': utils.busca_tokens(tokens, ['drawback']),\n",
    "                    'syn1': [],\n",
    "                    'syn2': [],\n",
    "                    'nots': []\n",
    "                    }\n",
    "                    # TAMAÑO INADECUADO\n",
    "                    ,{\n",
    "                    'syn0': [],\n",
    "                    'syn1': ['fit',\n",
    "                             'fits'],\n",
    "                    'syn2': ['not',\n",
    "                             'no'],\n",
    "                    'nots': []\n",
    "                    },\n",
    "                    {\n",
    "                    'syn0': [],\n",
    "                    'syn1': ['big',\n",
    "                             'small',\n",
    "                             'long',\n",
    "                             'short'],\n",
    "                    'syn2': ['too',\n",
    "                             'not_enough',\n",
    "                             'way_too'],\n",
    "                    'nots': []\n",
    "                    },\n",
    "                    {\n",
    "                    'syn0': [],\n",
    "                    'syn1': ['size',\n",
    "                             'length'],\n",
    "                    'syn2': ['wrong'],\n",
    "                    'nots': ['no']\n",
    "                    },\n",
    "                    {\n",
    "                    'syn0': ['too_short',\n",
    "                             'too_long',\n",
    "                             'not_fit',\n",
    "                             'too_small',\n",
    "                             'too_big',\n",
    "                             'too_large'],\n",
    "                    'syn1': ['long_enough'],\n",
    "                    'syn2': ['not'],\n",
    "                    'nots': []\n",
    "                    }\n",
    "                    ]\n",
    "            }\n",
    "        }               \n",
    "an2_neg_fil, an2_neg_agg = utils.analize_wordset_not_so_naive_4(odf, wsw2_neg, True)"
   ]
  },
  {
   "cell_type": "code",
   "execution_count": null,
   "metadata": {},
   "outputs": [],
   "source": [
    "wsw3_pos =  {\n",
    "            'name':'Comodidad/Sencillez (POS)'\n",
    "            ,'wordset': \n",
    "            {\n",
    "                'ands': [],\n",
    "                'ors' :\n",
    "                    [\n",
    "                    # PUESTA EN FUNCIONAMIENTO SENCILLA O RÁPIDA\n",
    "                    {\n",
    "                    'syn0': ['easy_install',\n",
    "                             'easy_installation',\n",
    "                             'easy_setup',\n",
    "                             'installed_easily',\n",
    "                             'quick_installation',\n",
    "                             'plug_play'],\n",
    "                    'syn1': ['plug'],\n",
    "                    'syn2': ['play'],\n",
    "                    'nots': []\n",
    "                    #'nots': ['not', 'no']\n",
    "                    }\n",
    "                    ,{\n",
    "                    'syn0': [],\n",
    "                    'syn1': ['installation',\n",
    "                             'install',\n",
    "                             'setup',\n",
    "                             'installed'],\n",
    "                    'syn2': ['easy',\n",
    "                             'fast',\n",
    "                             'quick',\n",
    "                             'easily',\n",
    "                             'smooth',\n",
    "                             'breeze'],\n",
    "                    'nots': []\n",
    "                    #'nots': ['not', 'no']\n",
    "                    }\n",
    "                    ,{\n",
    "                    'syn0': [],\n",
    "                    'syn1': ['installed'],\n",
    "                    'syn2': ['easily',\n",
    "                             'quickly'],\n",
    "                    'nots': []\n",
    "                    #'nots': ['not', 'no']\n",
    "                    }\n",
    "                    #,{\n",
    "                    #'syn0': busca_tokens(tokens, ['install', 'installation', 'installed', 'setup']),\n",
    "                    #'syn1': [],\n",
    "                    #'syn2': [],\n",
    "                    #'nots': []\n",
    "                    #}\n",
    "                    ,{\n",
    "                    'syn0': ['plug_play'],\n",
    "                    'syn1': ['plug'],\n",
    "                    'syn2': ['play'],\n",
    "                    'nots': []\n",
    "                    }\n",
    "                    # USO DEL MANUAL DE INSTRUCCIONES\n",
    "                    ,{\n",
    "                    #'syn0': ['followed_instructions', 'written_instructions', 'written_documentation', 'instruction_book', 'instruction_booklet', 'instruction_manual', 'instruction_manuals', 'instruction_sheet', 'instructions_included', 'instructions_say'],\n",
    "                    'syn0': utils.busca_tokens(tokens, ['instructions']),\n",
    "                    'syn1': [],\n",
    "                    'syn2': [],\n",
    "                    'nots': []\n",
    "                    }\n",
    "                    ,{\n",
    "                    'syn0': utils.busca_tokens(tokens, ['instruction']),\n",
    "                    #'syn1': ['instructions'],\n",
    "                    #'syn2': ['understand', 'unintelligible'],\n",
    "                    'syn1': [],\n",
    "                    'syn2': [],\n",
    "                    'nots': []\n",
    "                    }\n",
    "                    ]\n",
    "            }\n",
    "        }\n",
    "an3_pos_fil, an3_pos_agg = utils.analize_wordset_not_so_naive_4(odf, wsw3_pos, True)"
   ]
  },
  {
   "cell_type": "code",
   "execution_count": null,
   "metadata": {},
   "outputs": [],
   "source": [
    "wsw3_neg =  {\n",
    "            'name':'Comodidad/Sencillez (NEG)'\n",
    "            ,'wordset': \n",
    "            {\n",
    "                'ands': [],\n",
    "                'ors' :\n",
    "                    [\n",
    "                    # PUESTA EN FUNCIONAMIENTO COMPLICADA O LENTA\n",
    "                    #{\n",
    "                    #'syn0': busca_tokens(tokens, ['install', 'installation', 'installed', 'setup']),\n",
    "                    #'syn1': [],\n",
    "                    #'syn2': [],\n",
    "                    #'nots': []\n",
    "                    #}\n",
    "                    {\n",
    "                    'syn0': [],\n",
    "                    'syn1': ['plug_play'],\n",
    "                    'syn2': ['no',\n",
    "                             'not'],\n",
    "                    'nots': []\n",
    "                    }\n",
    "                    # PROBLEMAS CON EL MANUAL DE INSTRUCCIONES\n",
    "                    ,{\n",
    "                    'syn0': ['indecipherable_instructions',\n",
    "                             'confusing_instructions',\n",
    "                             'unclear_instructions',\n",
    "                             'instructions_stink',\n",
    "                             'chinglish_instructions',\n",
    "                             'meager_instructions',\n",
    "                             'incomplete_instructions',\n",
    "                             'scant_instructions',\n",
    "                             'engrish_instructions',\n",
    "                             'clearer_instructions',\n",
    "                             'conflicting_instructions',\n",
    "                             'sparse_instructions',\n",
    "                             'skimpy_instructions',\n",
    "                             'cryptic_instructions',\n",
    "                             'inadequate_instructions',\n",
    "                             'vague_instructions',\n",
    "                             'no_instructions',\n",
    "                             'instructions_suck']\n",
    "                    ,'syn1': ['instructions']\n",
    "                    ,'syn2': ['understand',\n",
    "                              'unintelligible']\n",
    "                    ,'nots': []\n",
    "                    }\n",
    "                    ,{\n",
    "                    'syn0': ['poor_instruction',\n",
    "                             'cryptic_instruction'],\n",
    "                    'syn1': [],\n",
    "                    'syn2': [],\n",
    "                    'nots': []\n",
    "                    }\n",
    "                    # PRODUCTO DE DIFÍCIL USO, INCÓMODOS O CON ELEMENTOS DESAGRADABLES\n",
    "                    ,{\n",
    "                    'syn0': [],\n",
    "                    'syn1': ['user_friendly'],\n",
    "                    'syn2': ['not'],\n",
    "                    'nots': []\n",
    "                    }\n",
    "                    ,{\n",
    "                    'syn0': ['not_recognize'],\n",
    "                    'syn1': [],\n",
    "                    'syn2': [],\n",
    "                    'nots': []\n",
    "                    }\n",
    "                    ,{\n",
    "                    'syn0': ['tricky',\n",
    "                             'figure_out',\n",
    "                             'figured_out',\n",
    "                             'figuring_out'],\n",
    "                    'syn1': ['trying'],\n",
    "                    'syn2': ['work'],\n",
    "                    'nots': []\n",
    "                    }\n",
    "                    ,{\n",
    "                    'syn0': utils.busca_tokens(tokens, ['annoying']),\n",
    "                    'syn1': [],\n",
    "                    'syn2': [],\n",
    "                    'nots': []\n",
    "                    }\n",
    "                    ,{\n",
    "                    'syn0': utils.busca_tokens(tokens, ['uncomfortable']),\n",
    "                    'syn1': [],\n",
    "                    'syn2': [],\n",
    "                    'nots': []\n",
    "                    }\n",
    "                    ]\n",
    "            }\n",
    "        }\n",
    "an3_neg_fil, an3_neg_agg = utils.analize_wordset_not_so_naive_4(odf, wsw3_neg, True)"
   ]
  },
  {
   "cell_type": "code",
   "execution_count": null,
   "metadata": {},
   "outputs": [],
   "source": [
    "wsw4 =  {\n",
    "            'name':'Producto incorrecto'\n",
    "            ,'wordset': \n",
    "            {\n",
    "                'ands': [],\n",
    "                'ors' :\n",
    "                    [\n",
    "                    # GENÉRICO. SE MENCIONA LA DESCRIPCION\n",
    "                    #{\n",
    "                    #'syn0': busca_tokens(tokens, ['description']),\n",
    "                    #'syn1': [],\n",
    "                    #'syn2': [],\n",
    "                    #'nots': []\n",
    "                    #}\n",
    "                    # SE ENVÍA UN PRODUCTO EQUIVOCADO\n",
    "                    {\n",
    "                    'syn0': ['specifically_ordered',\n",
    "                             'shipped_wrong'],\n",
    "                    'syn1': [],\n",
    "                    'syn2': [],\n",
    "                    'nots': []\n",
    "                    }\n",
    "                    # EL PRODUCTO NO ES EXACTAMENTE COMO SE DESCRIBE\n",
    "                    ,{\n",
    "                    'syn0': [],\n",
    "                    'syn1': ['advertised'],\n",
    "                    'syn2': ['exactly'],\n",
    "                    'nots': ['not']\n",
    "                    }\n",
    "                    ,{\n",
    "                    'syn0': [],\n",
    "                    'syn1': ['different_than'],\n",
    "                    'syn2': ['advertised'],\n",
    "                    'nots': []\n",
    "                    }\n",
    "                    ,{\n",
    "                    'syn0': ['description_implied',\n",
    "                             'description_incorrect',\n",
    "                             'description_misleads',\n",
    "                             'description_neglects',\n",
    "                             'description_lies',\n",
    "                             'description_boasts',\n",
    "                             'description_incomplete',\n",
    "                             'deceptive_description',\n",
    "                             'description_states',\n",
    "                             'description_indicates',\n",
    "                             'inaccurate_description',\n",
    "                             'false_description',\n",
    "                             'description_stating',\n",
    "                             'description_suggests',\n",
    "                             'incomplete_description',\n",
    "                             'description_claims',\n",
    "                             'description_inaccurate',\n",
    "                             'description_implies',\n",
    "                             'improper_description',\n",
    "                             'wrong_description',\n",
    "                             'phony_description',\n",
    "                             'description_omits',\n",
    "                             'description_specifies',\n",
    "                             'description_indicated',\n",
    "                             'description_emphasizes',\n",
    "                             'description_said',\n",
    "                             'misleading_description',\n",
    "                             'description_lists',\n",
    "                             'description_stated',\n",
    "                             'incorrect_description'],\n",
    "                    'syn1': ['description'],\n",
    "                    'syn2': ['incorrect'],\n",
    "                    'nots': []\n",
    "                    }\n",
    "                    ,{\n",
    "                    'syn0': [],\n",
    "                    'syn1': ['totally_different',\n",
    "                             'entirely_different'],\n",
    "                    'syn2': ['recieved',\n",
    "                             'described',\n",
    "                             'pictured',\n",
    "                             'ordered'],\n",
    "                    'nots': []\n",
    "                    }\n",
    "                    ,{\n",
    "                    'syn0': [],\n",
    "                    'syn1': ['pictured',\n",
    "                             'advertised',\n",
    "                             'described'],\n",
    "                    'syn2': ['not'],\n",
    "                    'nots': []\n",
    "                    }\n",
    "                    ,{\n",
    "                    'syn0': ['meet_expectation',\n",
    "                             'meet_expectations',\n",
    "                             'meeting_expectations',\n",
    "                             'meets_expectations'],\n",
    "                    'syn1': [],\n",
    "                    'syn2': [],\n",
    "                    'nots': ['not']\n",
    "                    }\n",
    "                    ]\n",
    "            }\n",
    "        }\n",
    "an4_fil, an4_agg = utils.analize_wordset_not_so_naive_4(odf, wsw4, True)"
   ]
  },
  {
   "cell_type": "code",
   "execution_count": null,
   "metadata": {},
   "outputs": [],
   "source": [
    "wsw5 =  {\n",
    "            'name':'Referencia a opiniones'\n",
    "            ,'wordset': \n",
    "            {\n",
    "                'ands': [],\n",
    "                'ors' :\n",
    "                    [\n",
    "                    {\n",
    "                    'syn0': utils.busca_tokens(tokens, ['review']),\n",
    "                    'syn1': [],\n",
    "                    'syn2': [],\n",
    "                    'nots': []\n",
    "                    }\n",
    "                    ,{\n",
    "                    'syn0': utils.busca_tokens(tokens, ['reviews']),\n",
    "                    'syn1': [],\n",
    "                    'syn2': [],\n",
    "                    'nots': []\n",
    "                    }\n",
    "                    ,{\n",
    "                    'syn0': utils.busca_tokens(tokens, ['reviewer']),\n",
    "                    'syn1': [],\n",
    "                    'syn2': [],\n",
    "                    'nots': []\n",
    "                    }\n",
    "                    ,{\n",
    "                    'syn0': utils.busca_tokens(tokens, ['reviewers']),\n",
    "                    'syn1': [],\n",
    "                    'syn2': [],\n",
    "                    'nots': []\n",
    "                    }\n",
    "                    ]\n",
    "            }\n",
    "        }   \n",
    "an5_fil, an5_agg = utils.analize_wordset_not_so_naive_4(odf, wsw5, True)"
   ]
  },
  {
   "cell_type": "code",
   "execution_count": null,
   "metadata": {},
   "outputs": [],
   "source": [
    "wsw6_pos =  {\n",
    "            'name':'Envío/entrega/packaging (POS)'\n",
    "            ,'wordset': \n",
    "            {\n",
    "                'ands': [],\n",
    "                'ors' :\n",
    "                    [\n",
    "                    # PAQUETE Y PACKAGING\n",
    "                    {\n",
    "                    'syn0': ['fancy_packaging',\n",
    "                             'glitzy_packaging',\n",
    "                             'sealed_packaging',\n",
    "                             'recyclable_packaging',\n",
    "                             'free_packaging'],\n",
    "                    'syn1': [],\n",
    "                    'syn2': [],\n",
    "                    'nots': []\n",
    "                    }\n",
    "                    ,{\n",
    "                    'syn0': ['nicely_packed',\n",
    "                             'blister_packed',\n",
    "                             'securely_packed',\n",
    "                             'packed_nicely',\n",
    "                             'neatly_packed',\n",
    "                             'safely_packed'],\n",
    "                    'syn1': [],\n",
    "                    'syn2': [],\n",
    "                    'nots': []\n",
    "                    }\n",
    "                    ,\n",
    "                    {\n",
    "                    'syn0': ['sealed_package',\n",
    "                             'tidy_package'],\n",
    "                    'syn1': [],\n",
    "                    'syn2': [],\n",
    "                    'nots': []\n",
    "                    }\n",
    "                    # ENVÍO RÁPIDO\n",
    "                    ,{\n",
    "                    'syn0': ['timely_shipping',\n",
    "                             'speedy_shipping',\n",
    "                             'overnight_shipping',\n",
    "                             'ships_quickly',\n",
    "                             'shipped_fast',\n",
    "                             'shipped_quickly',\n",
    "                             'shipped_promptly'],\n",
    "                    'syn1': ['shipping',\n",
    "                             'delivery'],\n",
    "                    'syn2': ['fast',\n",
    "                             'quick',\n",
    "                             'good'],\n",
    "                    'nots': []\n",
    "                    }\n",
    "                    ,{\n",
    "                    'syn0': ['shipped_immediately',\n",
    "                             'fast_delivery',\n",
    "                             'fast_service',\n",
    "                             'fast_ship',\n",
    "                             'fast_shipping',\n",
    "                             'quick_delivery'],\n",
    "                    'syn1': [],\n",
    "                    'syn2': [],\n",
    "                    'nots': []\n",
    "                    }\n",
    "                    ,{\n",
    "                    'syn0': ['arrived_timely',\n",
    "                             'arrived_earlier',\n",
    "                             'arrived_sooner',\n",
    "                             'arrived_promptly'],\n",
    "                    'syn1': ['arrived'],\n",
    "                    'syn2': ['fast',\n",
    "                             'quickly'],\n",
    "                    'nots': []\n",
    "                    }\n",
    "                    ,{\n",
    "                    'syn0': [],\n",
    "                    'syn1': ['shipment_arrived'],\n",
    "                    'syn2': ['short_time'],\n",
    "                    'nots': []\n",
    "                    }\n",
    "                    ]\n",
    "            }\n",
    "        }\n",
    "an6_pos_fil, an6_pos_agg = utils.analize_wordset_not_so_naive_4(odf, wsw6_pos, True)"
   ]
  },
  {
   "cell_type": "code",
   "execution_count": null,
   "metadata": {},
   "outputs": [],
   "source": [
    "wsw6_neg =  {\n",
    "            'name':'Envío/entrega/packaging (NEG)'\n",
    "            ,'wordset': \n",
    "            {\n",
    "                'ands': [],\n",
    "                'ors' :\n",
    "                    [\n",
    "                    # PAQUETE RECIBIDO EN MALAS CONDICIONES\n",
    "                    {\n",
    "                    'syn0': ['shipping_damage'],\n",
    "                    'syn1': ['broken',\n",
    "                             'damaged'],\n",
    "                    'syn2': ['box',\n",
    "                             'package'],\n",
    "                    'nots': []\n",
    "                    }\n",
    "                    ,{\n",
    "                    'syn0': [],\n",
    "                    'syn1': ['package',\n",
    "                             'box'],\n",
    "                    'syn2': ['missing'],\n",
    "                    'nots': []\n",
    "                    }\n",
    "                    # GENÉRICO DE PAQUETE Y PACKAGING\n",
    "                    ,{\n",
    "                    'syn0': ['excessive_packaging',\n",
    "                             'stupid_packaging',\n",
    "                             'poor_packaging',\n",
    "                             'lousy_packaging',\n",
    "                             'wasteful_packaging'],\n",
    "                    'syn1': [],\n",
    "                    'syn2': [],\n",
    "                    'nots': []\n",
    "                    }\n",
    "                    ,{\n",
    "                    'syn0': ['densely_packed',\n",
    "                             'jam_packed',\n",
    "                             'poorly_packed',\n",
    "                             'improperly_packed',\n",
    "                             'packed_tightly',\n",
    "                             'loosely_packed',\n",
    "                             'tightly_packed'],\n",
    "                    'syn1': [],\n",
    "                    'syn2': [],\n",
    "                    'nots': []\n",
    "                    }\n",
    "                    ,\n",
    "                    {\n",
    "                    'syn0': ['incomplete_package'],\n",
    "                    'syn1': [],\n",
    "                    'syn2': [],\n",
    "                    'nots': []\n",
    "                    }\n",
    "                    # ENVÍO LENTO\n",
    "                    ,{\n",
    "                    'syn0': [],\n",
    "                    'syn1': ['shipping',\n",
    "                             'delivery'],\n",
    "                    'syn2': ['slow'],\n",
    "                    'nots': []\n",
    "                    }\n",
    "                    ]\n",
    "            }\n",
    "        }\n",
    "an6_neg_fil, an6_neg_agg = utils.analize_wordset_not_so_naive_4(odf, wsw6_neg, True)"
   ]
  },
  {
   "cell_type": "code",
   "execution_count": null,
   "metadata": {},
   "outputs": [],
   "source": [
    "wsw7_pos =  {\n",
    "            'name':'Devolución/Postventa (POS)'\n",
    "            ,'wordset': \n",
    "            {\n",
    "                'ands': [],\n",
    "                'ors' :\n",
    "                    [\n",
    "                    {\n",
    "                    'syn0': [],\n",
    "                    'syn1': ['help_desk',\n",
    "                             'customer_support',\n",
    "                             'customer_service',\n",
    "                             'tech_support',\n",
    "                             'call_customer',\n",
    "                             'called_customer'],\n",
    "                    'syn2': ['great',\n",
    "                             'good',\n",
    "                             'excellent'\n",
    "                             'helpful'],\n",
    "                    'nots': []\n",
    "                    }\n",
    "                    ,{\n",
    "                    'syn0': [],\n",
    "                    'syn1': ['warranty_service',\n",
    "                             'manufacturer_warranty',\n",
    "                             'warranty'],\n",
    "                    'syn2': ['great',\n",
    "                             'good',\n",
    "                             'excellent'\n",
    "                             'nice'],\n",
    "                    'nots': []\n",
    "                    }\n",
    "                    ]\n",
    "            }\n",
    "        }\n",
    "an7_pos_fil, an7_pos_agg = utils.analize_wordset_not_so_naive_4(odf, wsw7_pos, True)"
   ]
  },
  {
   "cell_type": "code",
   "execution_count": null,
   "metadata": {},
   "outputs": [],
   "source": [
    "wsw7_neg =  {\n",
    "            'name':'Devolución/Postventa (NEG)'\n",
    "            ,'wordset': \n",
    "            {\n",
    "                'ands': [],\n",
    "                'ors' :\n",
    "                    [\n",
    "                    {\n",
    "                    'syn0': [],\n",
    "                    'syn1': ['help_desk',\n",
    "                             'customer_support',\n",
    "                             'customer_service',\n",
    "                             'tech_support',\n",
    "                             'call_customer',\n",
    "                             'called_customer'],\n",
    "                    'syn2': ['poor'],\n",
    "                    'nots': []\n",
    "                    }\n",
    "                    ,{\n",
    "                    'syn0': [],\n",
    "                    'syn1': ['warranty_service',\n",
    "                             'manufacturer_warranty',\n",
    "                             'warranty'],\n",
    "                    'syn2': ['poor',\n",
    "                             'terrible',\n",
    "                             'horrible'],\n",
    "                    'nots': []\n",
    "                    }\n",
    "                    ]\n",
    "            }\n",
    "        }\n",
    "an7_neg_fil, an7_neg_agg = utils.analize_wordset_not_so_naive_4(odf, wsw7_neg, True)"
   ]
  },
  {
   "cell_type": "code",
   "execution_count": null,
   "metadata": {},
   "outputs": [],
   "source": [
    "wsw8 =  {\n",
    "            'name':'Precio'\n",
    "            ,'wordset': \n",
    "            {\n",
    "                'ands': [],\n",
    "                'ors' :\n",
    "                    [\n",
    "                    {\n",
    "                    'syn0': utils.busca_tokens(tokens, ['price']),\n",
    "                    'syn1': [],\n",
    "                    'syn2': [],\n",
    "                    'nots': []\n",
    "                    }\n",
    "                    ,{\n",
    "                    'syn0': utils.busca_tokens(tokens, ['priced']),\n",
    "                    'syn1': [],\n",
    "                    'syn2': [],\n",
    "                    'nots': []\n",
    "                    }\n",
    "                    ,{\n",
    "                    'syn0': utils.busca_tokens(tokens, ['dollar']),\n",
    "                    'syn1': [],\n",
    "                    'syn2': [],\n",
    "                    'nots': []\n",
    "                    }\n",
    "                    ,{\n",
    "                    'syn0': utils.busca_tokens(tokens, ['dollars']),\n",
    "                    'syn1': [],\n",
    "                    'syn2': [],\n",
    "                    'nots': []\n",
    "                    }\n",
    "                    ,{\n",
    "                    'syn0': utils.busca_tokens(tokens, ['expensive']),\n",
    "                    'syn1': [],\n",
    "                    'syn2': [],\n",
    "                    'nots': []\n",
    "                    }\n",
    "                    ,{\n",
    "                    'syn0': ['cheap', 'ridiculously_cheap', 'incredibly_cheap', 'super_cheap', 'kinda_cheap', 'relatively_cheap'],\n",
    "                    'syn1': [],\n",
    "                    'syn2': [],\n",
    "                    'nots': []\n",
    "                    }\n",
    "                    ]\n",
    "            }\n",
    "        }\n",
    "an8_fil, an8_agg = utils.analize_wordset_not_so_naive_4(odf, wsw8, True)"
   ]
  },
  {
   "cell_type": "code",
   "execution_count": null,
   "metadata": {},
   "outputs": [],
   "source": [
    "wsw9_neg = {\n",
    "            'name':'Sentimiento (NEG)'\n",
    "            ,'wordset': \n",
    "            {\n",
    "                'ands': [],\n",
    "                'ors' :\n",
    "                    [\n",
    "                    {\n",
    "                    'syn0': ['not_buy', \n",
    "                             'not_bother', \n",
    "                             'buyer_beware', \n",
    "                             'never_buy', \n",
    "                             'not_waste', \n",
    "                             'not_wast', \n",
    "                             'throw_away', \n",
    "                             'cannot_recommend', \n",
    "                             'wasted_money'],\n",
    "                    'syn1': [],\n",
    "                    'syn2': [],\n",
    "                    'nots': []\n",
    "                    }\n",
    "                    ,{\n",
    "                    'syn0': utils.busca_tokens(tokens, ['return']),\n",
    "                    'syn1': [],\n",
    "                    'syn2': [],\n",
    "                    'nots': []\n",
    "                    }\n",
    "                    ,{\n",
    "                    'syn0': utils.busca_tokens(tokens, ['returning']),\n",
    "                    'syn1': [],\n",
    "                    'syn2': [],\n",
    "                    'nots': []\n",
    "                    }\n",
    "                    ,{\n",
    "                    'syn0': ['sent_back',\n",
    "                             'send_back',\n",
    "                             'sending_back',\n",
    "                             'ship_back'],\n",
    "                    'syn1': [],\n",
    "                    'syn2': [],\n",
    "                    'nots': []\n",
    "                    }\n",
    "                    ]\n",
    "            }\n",
    "        }\n",
    "an9_neg_fil, an9_neg_agg = utils.analize_wordset_not_so_naive_4(odf, wsw9_neg, show=True)"
   ]
  },
  {
   "cell_type": "code",
   "execution_count": null,
   "metadata": {},
   "outputs": [],
   "source": [
    "wsw9_pos = {\n",
    "            'name':'Sentimiento (POS)'\n",
    "            ,'wordset': \n",
    "            {\n",
    "                'ands': [],\n",
    "                'ors' :\n",
    "                    [\n",
    "                    {\n",
    "                    'syn0': ['highly_recommend', 'definitely_recommend', 'no_complaints'],\n",
    "                    'syn1': [],\n",
    "                    'syn2': [],\n",
    "                    'nots': []\n",
    "                    }\n",
    "                    ,{\n",
    "                    'syn0': ['great_value', 'good_value', 'good_deal', 'well_worth', 'totally_worth', 'definately_worth'],\n",
    "                    'syn1': [],\n",
    "                    'syn2': [],\n",
    "                    'nots': []\n",
    "                    }\n",
    "                    ,{\n",
    "                    'syn0': ['wise_choice', 'good_choice', 'smart_choice', 'excellent_choice', 'best_choice'],\n",
    "                    'syn1': [],\n",
    "                    'syn2': [],\n",
    "                    'nots': ['not']\n",
    "                    }\n",
    "                    ,{\n",
    "                    'syn0': ['worth_every'],\n",
    "                    'syn1': [],\n",
    "                    'syn2': [],\n",
    "                    'nots': []\n",
    "                    }\n",
    "                    ,{\n",
    "                    'syn0': ['excellent_product'],\n",
    "                    'syn1': [],\n",
    "                    'syn2': [],\n",
    "                    'nots': []\n",
    "                    }\n",
    "                    ,{\n",
    "                    'syn0': ['exceeds_expectations', 'greatly_exceeds', 'exceeds_expectation', 'far_exceeds'],\n",
    "                    'syn1': ['pleasantly_surprised'],\n",
    "                    'syn2': [],\n",
    "                    'nots': []\n",
    "                    }\n",
    "                    ,{\n",
    "                    'syn0': [],\n",
    "                    'syn1': ['than_expected'],\n",
    "                    'syn2': ['much_better', 'much', 'better'],\n",
    "                    'nots': []\n",
    "                    }\n",
    "                    ]\n",
    "            }\n",
    "        }\n",
    "an9_pos_fil, an9_pos_agg = utils.analize_wordset_not_so_naive_4(odf, wsw9_pos, show=True)"
   ]
  },
  {
   "cell_type": "markdown",
   "metadata": {},
   "source": [
    "Al finalizar la generación de todos los hits, recogemos los resultados y los procesamos, generando las matrices cuyo análisis nos proporcionarán los insights que buscamos."
   ]
  },
  {
   "cell_type": "code",
   "execution_count": null,
   "metadata": {},
   "outputs": [],
   "source": [
    "lista_resultados_busquedas = []\n",
    "lista_resultados_busquedas.append({'name':wsw1_pos['name'], 'resultados': an1_pos_fil, 'agregados': an1_pos_agg})\n",
    "lista_resultados_busquedas.append({'name':wsw1_neg['name'], 'resultados': an1_neg_fil, 'agregados': an1_neg_agg})\n",
    "lista_resultados_busquedas.append({'name':wsw2_pos['name'], 'resultados': an2_pos_fil, 'agregados': an2_pos_agg})\n",
    "lista_resultados_busquedas.append({'name':wsw2_neg['name'], 'resultados': an2_neg_fil, 'agregados': an2_neg_agg})\n",
    "lista_resultados_busquedas.append({'name':wsw3_pos['name'], 'resultados': an3_pos_fil, 'agregados': an3_pos_agg})\n",
    "lista_resultados_busquedas.append({'name':wsw3_neg['name'], 'resultados': an3_neg_fil, 'agregados': an3_neg_agg})\n",
    "lista_resultados_busquedas.append({'name':wsw4['name'], 'resultados': an4_fil, 'agregados': an4_agg})\n",
    "lista_resultados_busquedas.append({'name':wsw5['name'], 'resultados': an5_fil, 'agregados': an5_agg})\n",
    "lista_resultados_busquedas.append({'name':wsw6_pos['name'], 'resultados': an6_pos_fil, 'agregados': an6_pos_agg})\n",
    "lista_resultados_busquedas.append({'name':wsw6_neg['name'], 'resultados': an6_neg_fil, 'agregados': an6_neg_agg})\n",
    "lista_resultados_busquedas.append({'name':wsw7_pos['name'], 'resultados': an7_pos_fil, 'agregados': an7_pos_agg})\n",
    "lista_resultados_busquedas.append({'name':wsw7_neg['name'], 'resultados': an7_neg_fil, 'agregados': an7_neg_agg})\n",
    "lista_resultados_busquedas.append({'name':wsw8['name'], 'resultados': an8_fil, 'agregados': an8_agg})\n",
    "lista_resultados_busquedas.append({'name':wsw9_pos['name'], 'resultados': an9_pos_fil, 'agregados': an9_pos_agg})\n",
    "lista_resultados_busquedas.append({'name':wsw9_neg['name'], 'resultados': an9_neg_fil, 'agregados': an9_neg_agg})\n",
    "\n",
    "mat_doc_ws, mat_doc_ws_agg = utils.analize_wordset_occurrences(odf, lista_resultados_busquedas)"
   ]
  },
  {
   "cell_type": "markdown",
   "metadata": {},
   "source": [
    "Vemos el porcentaje de opiniones sobre las que hemos conseguido al menos un hit. Se muestra un histograma donde se lee cuántas opiniones tratan qué cantidad de temas.\n",
    "\n",
    "Hay que destacar que los resultados que se han obtenido, y que se seguirán obteniendo en esta sección, se han cosechado con una metodología en base a palabras clave. Esto quiere decir que los resultados solo muestran aquellos hits que pueden producirse con esta estrategia y hay que tener esto en cuenta durante la interpretación.\n",
    "\n",
    "Una consecuencia posible del uso de esta técnica es, por ejemplo, que algunos temas estén muy poblados debido a que hay una expresión muy recurrente y muy propia de cierto tema. En el contexto del análisis de texto siempre hay múltiples maneras de expresar un mismo concepto, pero no todas las maneras son detectables mediante el uso de keywords. Considero, de todos modos, que los resultados obtenidos son acorde con lo que se espera y, por tanto, interpreto que el algoritmo analize es  efectivo en su propósito. El porcentaje de opiniones que quedan por asociar a un tema, así como las opinones en las que se han detectado menos temas de los que realmente deberían haberse detectado, es achacable a formas de expresar conceptos que no son detectables mediante keywords."
   ]
  },
  {
   "cell_type": "markdown",
   "metadata": {},
   "source": [
    "La primera pregunta que vamos a tratar de responder es: ¿de qué manera se relacionan las opiniones, los temas y las puntuaciones?\n",
    "\n",
    "Para ello, vamos a realizar una representación de tipo red, donde cada nodo es o bien una opinión o bien un tema y cada arista une una opinión con un tema, pudiendo haber varias aristas uniendo una opinión con un nodo. El color de las aristas representará la puntuación.\n",
    "\n",
    "El tiempo de respuesta de representar todas las opiniones individualmente es inaceptable, además de que se trata de una cantidad muy elevada y el resultado es un gráfico en el que no se aprecia apenas nada. Para solucionar este inconveniente, la representación se modifica de manera que se agrupan todas las opiniones equivalentes y todas ellas generan un solo nodo (el nodo en sí se muestra con un tamaño cero, pues lo interesante son las aristas). Las opiniones equivalentes son todas aquellas que son de la misma puntuación y tienen los mismos hits. El tamaño (grosor) de las aristas es proporcional al número de opiniones equivalentes que contienen los nodos.\n",
    "\n",
    "Veamos el aspecto:"
   ]
  },
  {
   "cell_type": "code",
   "execution_count": null,
   "metadata": {},
   "outputs": [],
   "source": [
    "utils.visualize_wordsets_network_6(mat_doc_ws, group_size=1000, k=0.3, ratings='F')"
   ]
  },
  {
   "cell_type": "markdown",
   "metadata": {},
   "source": [
    "También puede verse por puntuación. Veamos las 5:"
   ]
  },
  {
   "cell_type": "code",
   "execution_count": null,
   "metadata": {},
   "outputs": [],
   "source": [
    "utils.visualize_wordsets_network_6(mat_doc_ws, group_size=500, k=0.3, ratings=[5])"
   ]
  },
  {
   "cell_type": "code",
   "execution_count": null,
   "metadata": {},
   "outputs": [],
   "source": [
    "utils.visualize_wordsets_network_6(mat_doc_ws, group_size=500, k=0.3, ratings=[4])"
   ]
  },
  {
   "cell_type": "code",
   "execution_count": null,
   "metadata": {},
   "outputs": [],
   "source": [
    "utils.visualize_wordsets_network_6(mat_doc_ws, group_size=500, k=0.3, ratings=[3])"
   ]
  },
  {
   "cell_type": "code",
   "execution_count": null,
   "metadata": {},
   "outputs": [],
   "source": [
    "utils.visualize_wordsets_network_6(mat_doc_ws, group_size=500, k=0.3, ratings=[2])"
   ]
  },
  {
   "cell_type": "code",
   "execution_count": null,
   "metadata": {},
   "outputs": [],
   "source": [
    "utils.visualize_wordsets_network_6(mat_doc_ws, group_size=500, k=0.3, ratings=[1])"
   ]
  },
  {
   "cell_type": "markdown",
   "metadata": {},
   "source": [
    "Ya hemos observado qué aspecto tienen las relaciones. Se observan algunos temas muy unidos, especialmente para algunos rangos de puntuación, y otros menos."
   ]
  },
  {
   "cell_type": "markdown",
   "metadata": {},
   "source": [
    "La segunda pregunta que nos planteamos es ¿cómo de enlazados están los temas?. Ya se ha visto en las representaciones de red, pero veámoslo de forma cuantitativa y clara.\n",
    "\n",
    "A continuación vemos la \"matriz de compartición\". Su objetivo es mostrar cuántas opiniones tienen en común un par de temas dado. La escala, con valores menores que la unidad, indica el porcentaje de opiniones que comparte. Naturalmente, el porcentaje de una pareja de temas no es simétrico, pues cada tema genera un volument total de hits distinto. Por ese motivo se muestra el valor medio de cada pareja."
   ]
  },
  {
   "cell_type": "code",
   "execution_count": null,
   "metadata": {
    "scrolled": false
   },
   "outputs": [],
   "source": [
    "sm = utils.get_sharing_matrix_2(mat_doc_ws)"
   ]
  },
  {
   "cell_type": "markdown",
   "metadata": {},
   "source": [
    "Para evitar que la diagonal eleve a 1 el máximo de la escala de color, he eliminado la diagonal, así se perciben mejor las diferencias de color entre las celdas de valor. Incluso con estas modificaciones sigue siendo evidente el hecho de que el tema del precio es el que más hits genera."
   ]
  },
  {
   "cell_type": "markdown",
   "metadata": {},
   "source": [
    "En la celda siguiente representamos la cantidad de opiniones por tema y rating. Debe leerse en horizontal, pues la matriz se ha normalizado para cada tema."
   ]
  },
  {
   "cell_type": "code",
   "execution_count": null,
   "metadata": {},
   "outputs": [],
   "source": [
    "utils.print_topic_heatmaps(mat_doc_ws)"
   ]
  },
  {
   "cell_type": "markdown",
   "metadata": {},
   "source": [
    "En realidad, este heatmap es equivalente a representar, en un mismo espacio, cada uno de los histogramas que ya hemos visto más arriba, pintados por la función analize."
   ]
  },
  {
   "cell_type": "markdown",
   "metadata": {},
   "source": [
    "El siguiente heatmap se lee en vertical. Muestra, por cada puntuación, cuántos hits ha generado cada tema."
   ]
  },
  {
   "cell_type": "code",
   "execution_count": null,
   "metadata": {},
   "outputs": [],
   "source": [
    "utils.print_rating_heatmaps(mat_doc_ws)"
   ]
  },
  {
   "cell_type": "markdown",
   "metadata": {},
   "source": [
    "A continuación mostramos las 10 combinaciones más frecuentes."
   ]
  },
  {
   "cell_type": "code",
   "execution_count": null,
   "metadata": {
    "scrolled": true
   },
   "outputs": [],
   "source": [
    "utils.get_popular_topic_combinations(mat_doc_ws_agg, utils.get_wordsets_names(mat_doc_ws))"
   ]
  },
  {
   "cell_type": "markdown",
   "metadata": {},
   "source": [
    "En la tabla anterior se recoge el top 10 de combinaciones frecuentes. Este es un punto en el que puede verse muy claro el efecto de emplear palabras clave para generar hits. El tema del precio vemos que es muy recurrente, probablemente debido a que detectar keywords relacionadas con el mismo es muy sencillo."
   ]
  },
  {
   "cell_type": "markdown",
   "metadata": {},
   "source": [
    "A continuación comparamos las puntuaciones de aquellas opiniones que sí tratan un tema vs aquellas opiniones que no lo tratan. El color representa la puntuación media de las opiniones. La columna de No Hit, es decir las opiniones que no tratan del tema, la vemos muy pálida. Esto es porque, para cada tema, la mayoría de opiniones no tratan de él, por lo que la columna No Hit tiene un color muy próximo a la puntuación media."
   ]
  },
  {
   "cell_type": "code",
   "execution_count": null,
   "metadata": {},
   "outputs": [],
   "source": [
    "utils.print_statistics_by_topic_heatmap_rating_value(mat_doc_ws)"
   ]
  },
  {
   "cell_type": "markdown",
   "metadata": {},
   "source": [
    "El siguiente heatmap es complementario al anterior. Se visualiza la dispersión en las puntuaciones de cada tema."
   ]
  },
  {
   "cell_type": "code",
   "execution_count": null,
   "metadata": {},
   "outputs": [],
   "source": [
    "utils.print_statistics_by_topic_heatmap_rating_sd(mat_doc_ws)"
   ]
  },
  {
   "cell_type": "markdown",
   "metadata": {},
   "source": [
    "Por último veamos cómo responde el comprador a cada tema. El objetivo es ver cómo penaliza/beneficia cada tema."
   ]
  },
  {
   "cell_type": "code",
   "execution_count": null,
   "metadata": {},
   "outputs": [],
   "source": [
    "utils.get_respuesta_comprador(lista_resultados_busquedas, mat_doc_ws)[['tema', 'slope_mod']]"
   ]
  },
  {
   "cell_type": "markdown",
   "metadata": {},
   "source": [
    "El objetivo de esta tabla es doble. Por un lado, ver a qué temas responde mejor el comprador, en términos de rating, y cuáles penalizan más. Por otro lado, en aquellos temas dobles (los que tienen su versión positiva y su versión negativa) ver si está mejor recompensada la versión positiva o si penaliza más la versión negativa.\n",
    "\n",
    "Si descartamos los sentimientos, que no son temas per se, vemos que el tema mejor recompensado es el que refiere a Envío/entrega/packagin, incluso por encima del buen funcionamiento.\n",
    "\n",
    "Por la parte negativa, observamos que un mal servicio postventa es el tema que más penaliza, incluso más que un mal funciomaniento, probablemente debido a que un un consumidor que se ve obligado a hacer uso del servicio postventa no admite que este le suponga una mala experiencia."
   ]
  }
 ],
 "metadata": {
  "kernelspec": {
   "display_name": "Python 3",
   "language": "python",
   "name": "python3"
  },
  "language_info": {
   "codemirror_mode": {
    "name": "ipython",
    "version": 3
   },
   "file_extension": ".py",
   "mimetype": "text/x-python",
   "name": "python",
   "nbconvert_exporter": "python",
   "pygments_lexer": "ipython3",
   "version": "3.7.4"
  }
 },
 "nbformat": 4,
 "nbformat_minor": 2
}
