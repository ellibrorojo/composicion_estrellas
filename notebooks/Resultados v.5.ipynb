{
 "cells": [
  {
   "cell_type": "code",
   "execution_count": 1,
   "metadata": {},
   "outputs": [],
   "source": [
    "import sys  \n",
    "sys.path.append(r'../source')  \n",
    "import utils\n",
    "import numpy as np\n",
    "import pandas as pd\n",
    "import warnings\n",
    "warnings.filterwarnings('ignore')\n",
    "import topics_holder as th\n",
    "from scipy import stats\n",
    "from sklearn.linear_model import LinearRegression\n",
    "from sklearn.metrics import mean_squared_error\n",
    "from sklearn import metrics    \n",
    "from sklearn.tree import DecisionTreeClassifier\n",
    "from sklearn.ensemble import RandomForestClassifier\n",
    "from sklearn.feature_extraction.text import CountVectorizer\n",
    "from sklearn.feature_extraction.text import TfidfVectorizer\n",
    "from sklearn.linear_model import LogisticRegression\n",
    "from sklearn.model_selection import train_test_split\n",
    "from collections import Counter\n",
    "from torch.utils.data import Dataset, DataLoader\n",
    "import spacy\n",
    "from utils import ReviewsDataset, LSTM_fixed_len"
   ]
  },
  {
   "cell_type": "markdown",
   "metadata": {},
   "source": [
    "# Origen de los datos"
   ]
  },
  {
   "cell_type": "markdown",
   "metadata": {},
   "source": [
    "El fichero que contiene las opiniones que vamos a procesar y analizar se encuentra en esta [página web](https://nijianmo.github.io/amazon/index.html#files). Concretamente, [este](http://deepyeti.ucsd.edu/jianmo/amazon/categoryFilesSmall/Electronics_5.json.gz) es el enlace al fichero.\n",
    "\n",
    "Este portal pertenece a la Universidad de California San Diego y es mantenido por Jianmo Ni Ph.D. Contiene multitud de datasets de opiniones de Amazon, clasificados por departamento (Books, Electronics, Software...). El fichero que se procesa en este trabajo es el correspondiente al departamento de Electronics. Se trata de un json de nombre Electronics_5. El número 5 indica que solo aparecen opiniones de productos que tengan, al menos, 5 opiniones."
   ]
  },
  {
   "cell_type": "markdown",
   "metadata": {},
   "source": [
    "# Análisis exploratorio sin entrar en el contenido"
   ]
  },
  {
   "cell_type": "markdown",
   "metadata": {},
   "source": [
    "En esta sección vamos a visualizar las primeras líneas del fichero Electronics_5.json tal y como están en el fichero. A continuación generaremos y analizaremos el objeto data_raw_0, que es un DataFrame de Pandas en el cual se han realizado algunas transformaciones mínimas.\n",
    "\n",
    "Veamos en primer lugar el contenido del fichero:"
   ]
  },
  {
   "cell_type": "code",
   "execution_count": 2,
   "metadata": {},
   "outputs": [
    {
     "data": {
      "text/html": [
       "<div>\n",
       "<style scoped>\n",
       "    .dataframe tbody tr th:only-of-type {\n",
       "        vertical-align: middle;\n",
       "    }\n",
       "\n",
       "    .dataframe tbody tr th {\n",
       "        vertical-align: top;\n",
       "    }\n",
       "\n",
       "    .dataframe thead th {\n",
       "        text-align: right;\n",
       "    }\n",
       "</style>\n",
       "<table border=\"1\" class=\"dataframe\">\n",
       "  <thead>\n",
       "    <tr style=\"text-align: right;\">\n",
       "      <th></th>\n",
       "      <th>overall</th>\n",
       "      <th>vote</th>\n",
       "      <th>verified</th>\n",
       "      <th>reviewTime</th>\n",
       "      <th>reviewerID</th>\n",
       "      <th>asin</th>\n",
       "      <th>style</th>\n",
       "      <th>reviewerName</th>\n",
       "      <th>reviewText</th>\n",
       "      <th>summary</th>\n",
       "      <th>unixReviewTime</th>\n",
       "    </tr>\n",
       "  </thead>\n",
       "  <tbody>\n",
       "    <tr>\n",
       "      <th>0</th>\n",
       "      <td>5.0</td>\n",
       "      <td>67</td>\n",
       "      <td>True</td>\n",
       "      <td>09 18, 1999</td>\n",
       "      <td>AAP7PPBU72QFM</td>\n",
       "      <td>0151004714</td>\n",
       "      <td>{'Format:': ' Hardcover'}</td>\n",
       "      <td>D. C. Carrad</td>\n",
       "      <td>This is the best novel I have read in 2 or 3 y...</td>\n",
       "      <td>A star is born</td>\n",
       "      <td>937612800</td>\n",
       "    </tr>\n",
       "    <tr>\n",
       "      <th>1</th>\n",
       "      <td>3.0</td>\n",
       "      <td>5</td>\n",
       "      <td>True</td>\n",
       "      <td>10 23, 2013</td>\n",
       "      <td>A2E168DTVGE6SV</td>\n",
       "      <td>0151004714</td>\n",
       "      <td>{'Format:': ' Kindle Edition'}</td>\n",
       "      <td>Evy</td>\n",
       "      <td>Pages and pages of introspection, in the style...</td>\n",
       "      <td>A stream of consciousness novel</td>\n",
       "      <td>1382486400</td>\n",
       "    </tr>\n",
       "    <tr>\n",
       "      <th>2</th>\n",
       "      <td>5.0</td>\n",
       "      <td>4</td>\n",
       "      <td>False</td>\n",
       "      <td>09 2, 2008</td>\n",
       "      <td>A1ER5AYS3FQ9O3</td>\n",
       "      <td>0151004714</td>\n",
       "      <td>{'Format:': ' Paperback'}</td>\n",
       "      <td>Kcorn</td>\n",
       "      <td>This is the kind of novel to read when you hav...</td>\n",
       "      <td>I'm a huge fan of the author and this one did ...</td>\n",
       "      <td>1220313600</td>\n",
       "    </tr>\n",
       "    <tr>\n",
       "      <th>3</th>\n",
       "      <td>5.0</td>\n",
       "      <td>13</td>\n",
       "      <td>False</td>\n",
       "      <td>09 4, 2000</td>\n",
       "      <td>A1T17LMQABMBN5</td>\n",
       "      <td>0151004714</td>\n",
       "      <td>{'Format:': ' Hardcover'}</td>\n",
       "      <td>Caf Girl Writes</td>\n",
       "      <td>What gorgeous language! What an incredible wri...</td>\n",
       "      <td>The most beautiful book I have ever read!</td>\n",
       "      <td>968025600</td>\n",
       "    </tr>\n",
       "    <tr>\n",
       "      <th>4</th>\n",
       "      <td>3.0</td>\n",
       "      <td>8</td>\n",
       "      <td>True</td>\n",
       "      <td>02 4, 2000</td>\n",
       "      <td>A3QHJ0FXK33OBE</td>\n",
       "      <td>0151004714</td>\n",
       "      <td>{'Format:': ' Hardcover'}</td>\n",
       "      <td>W. Shane Schmidt</td>\n",
       "      <td>I was taken in by reviews that compared this b...</td>\n",
       "      <td>A dissenting view--In part.</td>\n",
       "      <td>949622400</td>\n",
       "    </tr>\n",
       "    <tr>\n",
       "      <th>5</th>\n",
       "      <td>4.0</td>\n",
       "      <td>NaN</td>\n",
       "      <td>True</td>\n",
       "      <td>06 5, 2013</td>\n",
       "      <td>A3IYSOTP3HA77N</td>\n",
       "      <td>0380709473</td>\n",
       "      <td>{'Format:': ' Kindle Edition'}</td>\n",
       "      <td>B. Marks</td>\n",
       "      <td>I read this probably 50 years ago in my youth ...</td>\n",
       "      <td>Above average mystery</td>\n",
       "      <td>1370390400</td>\n",
       "    </tr>\n",
       "    <tr>\n",
       "      <th>6</th>\n",
       "      <td>5.0</td>\n",
       "      <td>NaN</td>\n",
       "      <td>True</td>\n",
       "      <td>06 27, 2016</td>\n",
       "      <td>A11SXV34PZUQ5E</td>\n",
       "      <td>0380709473</td>\n",
       "      <td>{'Format:': ' Kindle Edition'}</td>\n",
       "      <td>Tom C.</td>\n",
       "      <td>I read every Perry mason book voraciously. Fin...</td>\n",
       "      <td>Lam is cool!</td>\n",
       "      <td>1466985600</td>\n",
       "    </tr>\n",
       "    <tr>\n",
       "      <th>7</th>\n",
       "      <td>5.0</td>\n",
       "      <td>NaN</td>\n",
       "      <td>True</td>\n",
       "      <td>07 30, 2015</td>\n",
       "      <td>A2AUQM1HT2D5T8</td>\n",
       "      <td>0380709473</td>\n",
       "      <td>{'Format:': ' Kindle Edition'}</td>\n",
       "      <td>ema</td>\n",
       "      <td>I love this series of Bertha and Lamb..  Great...</td>\n",
       "      <td>Five Stars</td>\n",
       "      <td>1438214400</td>\n",
       "    </tr>\n",
       "    <tr>\n",
       "      <th>8</th>\n",
       "      <td>5.0</td>\n",
       "      <td>NaN</td>\n",
       "      <td>True</td>\n",
       "      <td>02 16, 2015</td>\n",
       "      <td>A3UD8JRWLX6SRX</td>\n",
       "      <td>0380709473</td>\n",
       "      <td>{'Format:': ' Paperback'}</td>\n",
       "      <td>Michael O.</td>\n",
       "      <td>Great read!</td>\n",
       "      <td>Five Stars</td>\n",
       "      <td>1424044800</td>\n",
       "    </tr>\n",
       "    <tr>\n",
       "      <th>9</th>\n",
       "      <td>4.0</td>\n",
       "      <td>NaN</td>\n",
       "      <td>False</td>\n",
       "      <td>11 21, 2013</td>\n",
       "      <td>A3MV1KKHX51FYT</td>\n",
       "      <td>0380709473</td>\n",
       "      <td>{'Format:': ' Paperback'}</td>\n",
       "      <td>Acute Observer</td>\n",
       "      <td>Crows Can't Count, A.A. Fair\\n\\nMr. Harry Shar...</td>\n",
       "      <td>A Fast and Far Moving Adventure</td>\n",
       "      <td>1384992000</td>\n",
       "    </tr>\n",
       "  </tbody>\n",
       "</table>\n",
       "</div>"
      ],
      "text/plain": [
       "   overall vote  verified   reviewTime      reviewerID        asin  \\\n",
       "0      5.0   67      True  09 18, 1999   AAP7PPBU72QFM  0151004714   \n",
       "1      3.0    5      True  10 23, 2013  A2E168DTVGE6SV  0151004714   \n",
       "2      5.0    4     False   09 2, 2008  A1ER5AYS3FQ9O3  0151004714   \n",
       "3      5.0   13     False   09 4, 2000  A1T17LMQABMBN5  0151004714   \n",
       "4      3.0    8      True   02 4, 2000  A3QHJ0FXK33OBE  0151004714   \n",
       "5      4.0  NaN      True   06 5, 2013  A3IYSOTP3HA77N  0380709473   \n",
       "6      5.0  NaN      True  06 27, 2016  A11SXV34PZUQ5E  0380709473   \n",
       "7      5.0  NaN      True  07 30, 2015  A2AUQM1HT2D5T8  0380709473   \n",
       "8      5.0  NaN      True  02 16, 2015  A3UD8JRWLX6SRX  0380709473   \n",
       "9      4.0  NaN     False  11 21, 2013  A3MV1KKHX51FYT  0380709473   \n",
       "\n",
       "                            style      reviewerName  \\\n",
       "0       {'Format:': ' Hardcover'}      D. C. Carrad   \n",
       "1  {'Format:': ' Kindle Edition'}               Evy   \n",
       "2       {'Format:': ' Paperback'}             Kcorn   \n",
       "3       {'Format:': ' Hardcover'}   Caf Girl Writes   \n",
       "4       {'Format:': ' Hardcover'}  W. Shane Schmidt   \n",
       "5  {'Format:': ' Kindle Edition'}          B. Marks   \n",
       "6  {'Format:': ' Kindle Edition'}            Tom C.   \n",
       "7  {'Format:': ' Kindle Edition'}               ema   \n",
       "8       {'Format:': ' Paperback'}        Michael O.   \n",
       "9       {'Format:': ' Paperback'}    Acute Observer   \n",
       "\n",
       "                                          reviewText  \\\n",
       "0  This is the best novel I have read in 2 or 3 y...   \n",
       "1  Pages and pages of introspection, in the style...   \n",
       "2  This is the kind of novel to read when you hav...   \n",
       "3  What gorgeous language! What an incredible wri...   \n",
       "4  I was taken in by reviews that compared this b...   \n",
       "5  I read this probably 50 years ago in my youth ...   \n",
       "6  I read every Perry mason book voraciously. Fin...   \n",
       "7  I love this series of Bertha and Lamb..  Great...   \n",
       "8                                        Great read!   \n",
       "9  Crows Can't Count, A.A. Fair\\n\\nMr. Harry Shar...   \n",
       "\n",
       "                                             summary  unixReviewTime  \n",
       "0                                     A star is born       937612800  \n",
       "1                    A stream of consciousness novel      1382486400  \n",
       "2  I'm a huge fan of the author and this one did ...      1220313600  \n",
       "3          The most beautiful book I have ever read!       968025600  \n",
       "4                        A dissenting view--In part.       949622400  \n",
       "5                              Above average mystery      1370390400  \n",
       "6                                       Lam is cool!      1466985600  \n",
       "7                                         Five Stars      1438214400  \n",
       "8                                         Five Stars      1424044800  \n",
       "9                    A Fast and Far Moving Adventure      1384992000  "
      ]
     },
     "execution_count": 2,
     "metadata": {},
     "output_type": "execute_result"
    }
   ],
   "source": [
    "utils.get_first_lines_electronics_5(10)"
   ]
  },
  {
   "cell_type": "markdown",
   "metadata": {},
   "source": [
    "Veamos los campos que componen el fichero y su significado, acorde a lo explicado en el portal original:\n",
    "* __overall:__ corresponde a la puntuación que el usuario ha otorgado al producto. Sus valores pueden ser 1, 2, 3, 4 o 5.\n",
    "* __vote:__ es la cantidad de votos que la opinión ha recibido. Estos votos indican que la opinión ha sido útil para otros usuarios.\n",
    "* __verified:__ booleano que indica si la compra está o no verificada por Amazon. Esta verificación permite a Amazon garantizar que el usuario que publica la opinión ha comprado, efectivamente, el producto del que está opinando.\n",
    "* __reviewTime:__ fecha de publicación de la opinión.\n",
    "* __reviewerID:__ ID de usuario que publica la opinión.\n",
    "* __asin:__ identificador único del artículo.\n",
    "* __style:__ en algunos artículos, este campo indica de qué formato o versión se trata. Vemos en estas primeras líneas que hay opiniones correspondientes a libros. Esto se debe a que algunos productos están duplicados en varias categorías.\n",
    "* __reviewerName:__ nombre del usuario que publica la opinión.\n",
    "* __reviewText:__ texto de la opinión. Aquí es de donde obtendremos la mayor parte de la información.\n",
    "* __summary:__ texto del resumen de la opinión. Suele ser un titular, unas pocas palabras.\n",
    "* __unixReviewTime:__ fecha de publicación de la opinión en formato Unix."
   ]
  },
  {
   "cell_type": "markdown",
   "metadata": {},
   "source": [
    "Para este trabajo no necesitamos todos los campos anteriores. Crearemos un nuevo objeto llamado __data_raw_0__, que es el resultado de leer el fichero original, Electronics_5.json, y trasladarlo a un DataFrame de Pandas. Por el camino realizamos un mínimo procesamiento que consiste en lo siguiente:\n",
    "* Transformamos el campo fecha en año, pues no necesitamos el dato a nivel de día.\n",
    "* Eliminamos algunos campos que no son de interés para este trabajo, concretamente los siguientes:\n",
    "  * vote\n",
    "  * verified\n",
    "  * style\n",
    "  * reviewerName\n",
    "  * unixReviewTime\n",
    "  * image\n",
    "  * reviewTime\n",
    "* Sustituimos los nans por cadenas vacías. Esto lo hacemos tras comprobar que los únicos campos que presentan nans son los campos 'review' o 'summary', donde resulta más razonable, en el contexto de este trabajo, que dichos campos sean cadenas vacías.\n",
    "\n",
    "Vamos a mostrar varias representaciones del dataset para conocerlo un poco mejor. Enseguida veremos que el fichero Electronics_5.json contiene un gran sesgo hacia opiniones con una alta valoración. Debido al análisis que se pretende hacer en este trabajo, eliminaremos el sesgo, dejando la misma cantidad de opiniones por cada valoración. Por este motivo el análisis exploratorio aparece dos veces, la primera sobre el dataset con sesgo y la segunda sin sesgo en la valoración."
   ]
  },
  {
   "cell_type": "code",
   "execution_count": 3,
   "metadata": {
    "scrolled": false
   },
   "outputs": [
    {
     "name": "stdout",
     "output_type": "stream",
     "text": [
      "00h 00m 00s ____ INICIO FUNCIÓN ELECTRONICS_5_TO_RAW_DATA_0 ________________________________________\n",
      "00h 00m 34s :::: SE PROCEDE A CREAR EL CAMPO OPINION_YEAR __________________________________________\n",
      "00h 01m 02s :::: SE PROCEDE A ELIMINAR COLUMNAS QUE NO USAREMOS ____________________________________\n",
      "00h 00m 01s :::: SE PROCEDE A RENOMBRAR ALGUNAS COLUMNAS ___________________________________________\n",
      "00h 00m 00s :::: SE PROCEDE A SUSTITUIR LOS NANS POR CADENAS VACÍAS ________________________________\n",
      "00h 01m 40s ____ FIN FUNCIÓN ELECTRONICS_5_TO_RAW_DATA_0 ___________________________________________\n"
     ]
    }
   ],
   "source": [
    "data_raw_0 = utils.electronics_5_to_raw_data_0(2000000)"
   ]
  },
  {
   "cell_type": "markdown",
   "metadata": {},
   "source": [
    "A continuación comprobamos que la distribución de puntuaciones está desplazada hacia valoraciones altas. Especialmente llamativa es la cantidad de opiniones con una valoración de 5 estrellas."
   ]
  },
  {
   "cell_type": "code",
   "execution_count": 4,
   "metadata": {},
   "outputs": [
    {
     "data": {
      "image/png": "[encoded data removed]",
      "text/plain": [
       "<Figure size 432x288 with 1 Axes>"
      ]
     },
     "metadata": {
      "needs_background": "light"
     },
     "output_type": "display_data"
    }
   ],
   "source": [
    "utils.perform_eda(data_raw_0, 'rating_distribution')"
   ]
  },
  {
   "cell_type": "markdown",
   "metadata": {},
   "source": [
    "Comprobamos que si mostramos la misma información pero tomando la puntuación mediana por producto el efecto ese el mismo, incluso es algo más pronunciado:"
   ]
  },
  {
   "cell_type": "code",
   "execution_count": 5,
   "metadata": {},
   "outputs": [
    {
     "data": {
      "image/png": "[encoded data removed]",
      "text/plain": [
       "<Figure size 432x288 with 1 Axes>"
      ]
     },
     "metadata": {
      "needs_background": "light"
     },
     "output_type": "display_data"
    }
   ],
   "source": [
    "utils.perform_eda(data_raw_0, 'rating_distribution_item')"
   ]
  },
  {
   "cell_type": "markdown",
   "metadata": {},
   "source": [
    "Veamos cuándo se registraron las opiniones de que disponemos:"
   ]
  },
  {
   "cell_type": "code",
   "execution_count": 6,
   "metadata": {},
   "outputs": [
    {
     "data": {
      "image/png": "[encoded data removed]",
      "text/plain": [
       "<Figure size 432x288 with 1 Axes>"
      ]
     },
     "metadata": {
      "needs_background": "light"
     },
     "output_type": "display_data"
    }
   ],
   "source": [
    "utils.perform_eda(data_raw_0, 'opinions_per_year')"
   ]
  },
  {
   "cell_type": "markdown",
   "metadata": {},
   "source": [
    "El registro comienza en 1999 y termina en 2018, con un pico muy pronunciado entorno a los años 2014-2015."
   ]
  },
  {
   "cell_type": "markdown",
   "metadata": {},
   "source": [
    "Veamos ahora cuántas opiniones suelen tener los artículos."
   ]
  },
  {
   "cell_type": "code",
   "execution_count": 7,
   "metadata": {},
   "outputs": [
    {
     "name": "stdout",
     "output_type": "stream",
     "text": [
      "Aparecen 41200 artículos distintos.\n"
     ]
    },
    {
     "data": {
      "image/png": "[encoded data removed]",
      "text/plain": [
       "<Figure size 432x288 with 1 Axes>"
      ]
     },
     "metadata": {
      "needs_background": "light"
     },
     "output_type": "display_data"
    },
    {
     "data": {
      "image/png": "[encoded data removed]",
      "text/plain": [
       "<Figure size 432x288 with 1 Axes>"
      ]
     },
     "metadata": {
      "needs_background": "light"
     },
     "output_type": "display_data"
    }
   ],
   "source": [
    "utils.perform_eda(data_raw_0, 'opinions_per_item')"
   ]
  },
  {
   "cell_type": "markdown",
   "metadata": {},
   "source": [
    "Nótese la necesidad de una escala logarítmica. Si bien hay algunos artículos con una gran cantidad de opiniones, también podemos ver que la mediana está situada entorno a la quincena."
   ]
  },
  {
   "cell_type": "markdown",
   "metadata": {},
   "source": [
    "Igual que con los artículos, veamos ahora cuántas opiniones hay por usuario. ¿Cuántas opiniones publican los usuarios?"
   ]
  },
  {
   "cell_type": "code",
   "execution_count": 8,
   "metadata": {},
   "outputs": [
    {
     "name": "stdout",
     "output_type": "stream",
     "text": [
      "Aparecen 575237 usuarios distintos.\n"
     ]
    },
    {
     "data": {
      "image/png": "[encoded data removed]",
      "text/plain": [
       "<Figure size 432x288 with 1 Axes>"
      ]
     },
     "metadata": {
      "needs_background": "light"
     },
     "output_type": "display_data"
    },
    {
     "data": {
      "image/png": "[encoded data removed]",
      "text/plain": [
       "<Figure size 432x288 with 1 Axes>"
      ]
     },
     "metadata": {
      "needs_background": "light"
     },
     "output_type": "display_data"
    }
   ],
   "source": [
    "utils.perform_eda(data_raw_0, 'opinions_per_user')"
   ]
  },
  {
   "cell_type": "markdown",
   "metadata": {},
   "source": [
    "Observamos un comportamiento similar al caso anterior: algunos usuarios han publicando cientos de opiniones, pero una enorme mayoría tan solo ha publicado unas pocas: la mediana es 7."
   ]
  },
  {
   "cell_type": "markdown",
   "metadata": {},
   "source": [
    "¿Cómo es la dispersión en las puntuaciones? Lo vemos en el siguiente boxplot:"
   ]
  },
  {
   "cell_type": "code",
   "execution_count": 9,
   "metadata": {},
   "outputs": [
    {
     "data": {
      "image/png": "[encoded data removed]",
      "text/plain": [
       "<Figure size 432x288 with 1 Axes>"
      ]
     },
     "metadata": {
      "needs_background": "light"
     },
     "output_type": "display_data"
    }
   ],
   "source": [
    "utils.perform_eda(data_raw_0, 'rating_sd_per_item')"
   ]
  },
  {
   "cell_type": "markdown",
   "metadata": {},
   "source": [
    "La desviación estándar de las opiniones, calculada a nivel de artículo, tiene una mediana de 1.2, si bien puede llegar a ser bastante grande en algunos casos. Este resultado nos indica que la dispersión es, en general, no muy alta, y por tanto los artículos suelen contar con puntuaciones relativamente homogéneas."
   ]
  },
  {
   "cell_type": "markdown",
   "metadata": {},
   "source": [
    "Veamos cuál es la longitud media de las opiniones según la puntuación, así como la proporción entre el total del texto (summary + review) y summary."
   ]
  },
  {
   "cell_type": "code",
   "execution_count": 10,
   "metadata": {},
   "outputs": [
    {
     "data": {
      "image/png": "[encoded data removed]",
      "text/plain": [
       "<Figure size 432x288 with 1 Axes>"
      ]
     },
     "metadata": {
      "needs_background": "light"
     },
     "output_type": "display_data"
    },
    {
     "data": {
      "image/png": "[encoded data removed]",
      "text/plain": [
       "<Figure size 432x288 with 1 Axes>"
      ]
     },
     "metadata": {
      "needs_background": "light"
     },
     "output_type": "display_data"
    }
   ],
   "source": [
    "utils.perform_eda(data_raw_0, 'summary_review_length_comparison_per_rating')"
   ]
  },
  {
   "cell_type": "markdown",
   "metadata": {},
   "source": [
    "Resulta llamativo el resultado para las opiniones de 5 estrellas. Mientras el resto de puntuaciones tienen textos claramente por encima de las 90 palabras, las opiniones de 5 estrellas tienen longitudes menores, por debajo de 70 palabras. Volveremos más adelante a revisar este resultado, pues este efecto podría deberse a que hay muchas más opiniones de 5 estrellas que del resto."
   ]
  },
  {
   "cell_type": "markdown",
   "metadata": {},
   "source": [
    "A continuación se muestra otro conjunto de boxplots con las longitudes totales de las opiniones. Vemos el efecto ya descrito en la celda anterior."
   ]
  },
  {
   "cell_type": "code",
   "execution_count": 11,
   "metadata": {},
   "outputs": [
    {
     "ename": "KeyboardInterrupt",
     "evalue": "",
     "output_type": "error",
     "traceback": [
      "\u001b[1;31m---------------------------------------------------------------------------\u001b[0m",
      "\u001b[1;31mKeyboardInterrupt\u001b[0m                         Traceback (most recent call last)",
      "\u001b[1;32m<ipython-input-11-a7234581e80c>\u001b[0m in \u001b[0;36m<module>\u001b[1;34m\u001b[0m\n\u001b[1;32m----> 1\u001b[1;33m \u001b[0mutils\u001b[0m\u001b[1;33m.\u001b[0m\u001b[0mperform_eda\u001b[0m\u001b[1;33m(\u001b[0m\u001b[0mdata_raw_0\u001b[0m\u001b[1;33m,\u001b[0m \u001b[1;34m'text_length_per_rating'\u001b[0m\u001b[1;33m)\u001b[0m\u001b[1;33m\u001b[0m\u001b[1;33m\u001b[0m\u001b[0m\n\u001b[0m",
      "\u001b[1;32m~\\OneDrive\\MDS\\S2 - TFM\\tfm_reviews\\core\\composicion_estrellas\\source\\utils.py\u001b[0m in \u001b[0;36mperform_eda\u001b[1;34m(raw_data, analysis)\u001b[0m\n\u001b[0;32m    239\u001b[0m \u001b[1;33m\u001b[0m\u001b[0m\n\u001b[0;32m    240\u001b[0m     \u001b[1;32melif\u001b[0m \u001b[0manalysis\u001b[0m \u001b[1;33m==\u001b[0m \u001b[1;34m'text_length_per_rating'\u001b[0m\u001b[1;33m:\u001b[0m\u001b[1;33m\u001b[0m\u001b[1;33m\u001b[0m\u001b[0m\n\u001b[1;32m--> 241\u001b[1;33m         \u001b[0mraw_data\u001b[0m \u001b[1;33m=\u001b[0m \u001b[0madd_lenght_info\u001b[0m\u001b[1;33m(\u001b[0m\u001b[0mraw_data\u001b[0m\u001b[1;33m)\u001b[0m\u001b[1;33m\u001b[0m\u001b[1;33m\u001b[0m\u001b[0m\n\u001b[0m\u001b[0;32m    242\u001b[0m         \u001b[0mlista_de_longitudes\u001b[0m \u001b[1;33m=\u001b[0m \u001b[1;33m[\u001b[0m\u001b[1;33m]\u001b[0m\u001b[1;33m\u001b[0m\u001b[1;33m\u001b[0m\u001b[0m\n\u001b[0;32m    243\u001b[0m         \u001b[0mlista_de_longitudes\u001b[0m\u001b[1;33m.\u001b[0m\u001b[0mappend\u001b[0m\u001b[1;33m(\u001b[0m\u001b[0mraw_data\u001b[0m\u001b[1;33m[\u001b[0m\u001b[0mraw_data\u001b[0m\u001b[1;33m.\u001b[0m\u001b[0mrating\u001b[0m\u001b[1;33m==\u001b[0m\u001b[1;36m1\u001b[0m\u001b[1;33m]\u001b[0m\u001b[1;33m[\u001b[0m\u001b[1;34m'total_text'\u001b[0m\u001b[1;33m]\u001b[0m\u001b[1;33m)\u001b[0m\u001b[1;33m\u001b[0m\u001b[1;33m\u001b[0m\u001b[0m\n",
      "\u001b[1;32m~\\OneDrive\\MDS\\S2 - TFM\\tfm_reviews\\core\\composicion_estrellas\\source\\utils.py\u001b[0m in \u001b[0;36madd_lenght_info\u001b[1;34m(raw_data)\u001b[0m\n\u001b[0;32m    187\u001b[0m \u001b[1;32mdef\u001b[0m \u001b[0madd_lenght_info\u001b[0m\u001b[1;33m(\u001b[0m\u001b[0mraw_data\u001b[0m\u001b[1;33m)\u001b[0m\u001b[1;33m:\u001b[0m\u001b[1;33m\u001b[0m\u001b[1;33m\u001b[0m\u001b[0m\n\u001b[0;32m    188\u001b[0m     \u001b[0mraw_data\u001b[0m\u001b[1;33m[\u001b[0m\u001b[1;34m'summary_length'\u001b[0m\u001b[1;33m]\u001b[0m \u001b[1;33m=\u001b[0m \u001b[0mraw_data\u001b[0m\u001b[1;33m.\u001b[0m\u001b[0mapply\u001b[0m\u001b[1;33m(\u001b[0m\u001b[1;32mlambda\u001b[0m \u001b[0mrow\u001b[0m\u001b[1;33m:\u001b[0m \u001b[0mlen\u001b[0m\u001b[1;33m(\u001b[0m\u001b[0mrow\u001b[0m\u001b[1;33m[\u001b[0m\u001b[1;34m'summary'\u001b[0m\u001b[1;33m]\u001b[0m\u001b[1;33m.\u001b[0m\u001b[0msplit\u001b[0m\u001b[1;33m(\u001b[0m\u001b[1;34m' '\u001b[0m\u001b[1;33m)\u001b[0m\u001b[1;33m)\u001b[0m\u001b[1;33m,\u001b[0m \u001b[0maxis\u001b[0m\u001b[1;33m=\u001b[0m\u001b[1;36m1\u001b[0m\u001b[1;33m)\u001b[0m\u001b[1;33m\u001b[0m\u001b[1;33m\u001b[0m\u001b[0m\n\u001b[1;32m--> 189\u001b[1;33m     \u001b[0mraw_data\u001b[0m\u001b[1;33m[\u001b[0m\u001b[1;34m'review_length'\u001b[0m\u001b[1;33m]\u001b[0m \u001b[1;33m=\u001b[0m \u001b[0mraw_data\u001b[0m\u001b[1;33m.\u001b[0m\u001b[0mapply\u001b[0m\u001b[1;33m(\u001b[0m\u001b[1;32mlambda\u001b[0m \u001b[0mrow\u001b[0m\u001b[1;33m:\u001b[0m \u001b[0mlen\u001b[0m\u001b[1;33m(\u001b[0m\u001b[0mrow\u001b[0m\u001b[1;33m[\u001b[0m\u001b[1;34m'review'\u001b[0m\u001b[1;33m]\u001b[0m\u001b[1;33m.\u001b[0m\u001b[0msplit\u001b[0m\u001b[1;33m(\u001b[0m\u001b[1;34m' '\u001b[0m\u001b[1;33m)\u001b[0m\u001b[1;33m)\u001b[0m\u001b[1;33m,\u001b[0m \u001b[0maxis\u001b[0m\u001b[1;33m=\u001b[0m\u001b[1;36m1\u001b[0m\u001b[1;33m)\u001b[0m\u001b[1;33m\u001b[0m\u001b[1;33m\u001b[0m\u001b[0m\n\u001b[0m\u001b[0;32m    190\u001b[0m     \u001b[0mraw_data\u001b[0m\u001b[1;33m[\u001b[0m\u001b[1;34m'total_text'\u001b[0m\u001b[1;33m]\u001b[0m \u001b[1;33m=\u001b[0m \u001b[0mraw_data\u001b[0m\u001b[1;33m.\u001b[0m\u001b[0mapply\u001b[0m\u001b[1;33m(\u001b[0m\u001b[1;32mlambda\u001b[0m \u001b[0mrow\u001b[0m\u001b[1;33m:\u001b[0m \u001b[0mrow\u001b[0m\u001b[1;33m[\u001b[0m\u001b[1;34m'summary_length'\u001b[0m\u001b[1;33m]\u001b[0m\u001b[1;33m+\u001b[0m\u001b[0mrow\u001b[0m\u001b[1;33m[\u001b[0m\u001b[1;34m'review_length'\u001b[0m\u001b[1;33m]\u001b[0m\u001b[1;33m,\u001b[0m \u001b[0maxis\u001b[0m\u001b[1;33m=\u001b[0m\u001b[1;36m1\u001b[0m\u001b[1;33m)\u001b[0m\u001b[1;33m\u001b[0m\u001b[1;33m\u001b[0m\u001b[0m\n\u001b[0;32m    191\u001b[0m     \u001b[1;32mreturn\u001b[0m \u001b[0mraw_data\u001b[0m\u001b[1;33m\u001b[0m\u001b[1;33m\u001b[0m\u001b[0m\n",
      "\u001b[1;32m~\\anaconda3\\lib\\site-packages\\pandas\\core\\frame.py\u001b[0m in \u001b[0;36mapply\u001b[1;34m(self, func, axis, raw, result_type, args, **kwds)\u001b[0m\n\u001b[0;32m   6876\u001b[0m             \u001b[0mkwds\u001b[0m\u001b[1;33m=\u001b[0m\u001b[0mkwds\u001b[0m\u001b[1;33m,\u001b[0m\u001b[1;33m\u001b[0m\u001b[1;33m\u001b[0m\u001b[0m\n\u001b[0;32m   6877\u001b[0m         )\n\u001b[1;32m-> 6878\u001b[1;33m         \u001b[1;32mreturn\u001b[0m \u001b[0mop\u001b[0m\u001b[1;33m.\u001b[0m\u001b[0mget_result\u001b[0m\u001b[1;33m(\u001b[0m\u001b[1;33m)\u001b[0m\u001b[1;33m\u001b[0m\u001b[1;33m\u001b[0m\u001b[0m\n\u001b[0m\u001b[0;32m   6879\u001b[0m \u001b[1;33m\u001b[0m\u001b[0m\n\u001b[0;32m   6880\u001b[0m     \u001b[1;32mdef\u001b[0m \u001b[0mapplymap\u001b[0m\u001b[1;33m(\u001b[0m\u001b[0mself\u001b[0m\u001b[1;33m,\u001b[0m \u001b[0mfunc\u001b[0m\u001b[1;33m)\u001b[0m \u001b[1;33m->\u001b[0m \u001b[1;34m\"DataFrame\"\u001b[0m\u001b[1;33m:\u001b[0m\u001b[1;33m\u001b[0m\u001b[1;33m\u001b[0m\u001b[0m\n",
      "\u001b[1;32m~\\anaconda3\\lib\\site-packages\\pandas\\core\\apply.py\u001b[0m in \u001b[0;36mget_result\u001b[1;34m(self)\u001b[0m\n\u001b[0;32m    184\u001b[0m             \u001b[1;32mreturn\u001b[0m \u001b[0mself\u001b[0m\u001b[1;33m.\u001b[0m\u001b[0mapply_raw\u001b[0m\u001b[1;33m(\u001b[0m\u001b[1;33m)\u001b[0m\u001b[1;33m\u001b[0m\u001b[1;33m\u001b[0m\u001b[0m\n\u001b[0;32m    185\u001b[0m \u001b[1;33m\u001b[0m\u001b[0m\n\u001b[1;32m--> 186\u001b[1;33m         \u001b[1;32mreturn\u001b[0m \u001b[0mself\u001b[0m\u001b[1;33m.\u001b[0m\u001b[0mapply_standard\u001b[0m\u001b[1;33m(\u001b[0m\u001b[1;33m)\u001b[0m\u001b[1;33m\u001b[0m\u001b[1;33m\u001b[0m\u001b[0m\n\u001b[0m\u001b[0;32m    187\u001b[0m \u001b[1;33m\u001b[0m\u001b[0m\n\u001b[0;32m    188\u001b[0m     \u001b[1;32mdef\u001b[0m \u001b[0mapply_empty_result\u001b[0m\u001b[1;33m(\u001b[0m\u001b[0mself\u001b[0m\u001b[1;33m)\u001b[0m\u001b[1;33m:\u001b[0m\u001b[1;33m\u001b[0m\u001b[1;33m\u001b[0m\u001b[0m\n",
      "\u001b[1;32m~\\anaconda3\\lib\\site-packages\\pandas\\core\\apply.py\u001b[0m in \u001b[0;36mapply_standard\u001b[1;34m(self)\u001b[0m\n\u001b[0;32m    294\u001b[0m             \u001b[1;32mtry\u001b[0m\u001b[1;33m:\u001b[0m\u001b[1;33m\u001b[0m\u001b[1;33m\u001b[0m\u001b[0m\n\u001b[0;32m    295\u001b[0m                 result = libreduction.compute_reduction(\n\u001b[1;32m--> 296\u001b[1;33m                     \u001b[0mvalues\u001b[0m\u001b[1;33m,\u001b[0m \u001b[0mself\u001b[0m\u001b[1;33m.\u001b[0m\u001b[0mf\u001b[0m\u001b[1;33m,\u001b[0m \u001b[0maxis\u001b[0m\u001b[1;33m=\u001b[0m\u001b[0mself\u001b[0m\u001b[1;33m.\u001b[0m\u001b[0maxis\u001b[0m\u001b[1;33m,\u001b[0m \u001b[0mdummy\u001b[0m\u001b[1;33m=\u001b[0m\u001b[0mdummy\u001b[0m\u001b[1;33m,\u001b[0m \u001b[0mlabels\u001b[0m\u001b[1;33m=\u001b[0m\u001b[0mlabels\u001b[0m\u001b[1;33m\u001b[0m\u001b[1;33m\u001b[0m\u001b[0m\n\u001b[0m\u001b[0;32m    297\u001b[0m                 )\n\u001b[0;32m    298\u001b[0m             \u001b[1;32mexcept\u001b[0m \u001b[0mValueError\u001b[0m \u001b[1;32mas\u001b[0m \u001b[0merr\u001b[0m\u001b[1;33m:\u001b[0m\u001b[1;33m\u001b[0m\u001b[1;33m\u001b[0m\u001b[0m\n",
      "\u001b[1;32mpandas\\_libs\\reduction.pyx\u001b[0m in \u001b[0;36mpandas._libs.reduction.compute_reduction\u001b[1;34m()\u001b[0m\n",
      "\u001b[1;32mpandas\\_libs\\reduction.pyx\u001b[0m in \u001b[0;36mpandas._libs.reduction.Reducer.get_result\u001b[1;34m()\u001b[0m\n",
      "\u001b[1;32m~\\OneDrive\\MDS\\S2 - TFM\\tfm_reviews\\core\\composicion_estrellas\\source\\utils.py\u001b[0m in \u001b[0;36m<lambda>\u001b[1;34m(row)\u001b[0m\n\u001b[0;32m    187\u001b[0m \u001b[1;32mdef\u001b[0m \u001b[0madd_lenght_info\u001b[0m\u001b[1;33m(\u001b[0m\u001b[0mraw_data\u001b[0m\u001b[1;33m)\u001b[0m\u001b[1;33m:\u001b[0m\u001b[1;33m\u001b[0m\u001b[1;33m\u001b[0m\u001b[0m\n\u001b[0;32m    188\u001b[0m     \u001b[0mraw_data\u001b[0m\u001b[1;33m[\u001b[0m\u001b[1;34m'summary_length'\u001b[0m\u001b[1;33m]\u001b[0m \u001b[1;33m=\u001b[0m \u001b[0mraw_data\u001b[0m\u001b[1;33m.\u001b[0m\u001b[0mapply\u001b[0m\u001b[1;33m(\u001b[0m\u001b[1;32mlambda\u001b[0m \u001b[0mrow\u001b[0m\u001b[1;33m:\u001b[0m \u001b[0mlen\u001b[0m\u001b[1;33m(\u001b[0m\u001b[0mrow\u001b[0m\u001b[1;33m[\u001b[0m\u001b[1;34m'summary'\u001b[0m\u001b[1;33m]\u001b[0m\u001b[1;33m.\u001b[0m\u001b[0msplit\u001b[0m\u001b[1;33m(\u001b[0m\u001b[1;34m' '\u001b[0m\u001b[1;33m)\u001b[0m\u001b[1;33m)\u001b[0m\u001b[1;33m,\u001b[0m \u001b[0maxis\u001b[0m\u001b[1;33m=\u001b[0m\u001b[1;36m1\u001b[0m\u001b[1;33m)\u001b[0m\u001b[1;33m\u001b[0m\u001b[1;33m\u001b[0m\u001b[0m\n\u001b[1;32m--> 189\u001b[1;33m     \u001b[0mraw_data\u001b[0m\u001b[1;33m[\u001b[0m\u001b[1;34m'review_length'\u001b[0m\u001b[1;33m]\u001b[0m \u001b[1;33m=\u001b[0m \u001b[0mraw_data\u001b[0m\u001b[1;33m.\u001b[0m\u001b[0mapply\u001b[0m\u001b[1;33m(\u001b[0m\u001b[1;32mlambda\u001b[0m \u001b[0mrow\u001b[0m\u001b[1;33m:\u001b[0m \u001b[0mlen\u001b[0m\u001b[1;33m(\u001b[0m\u001b[0mrow\u001b[0m\u001b[1;33m[\u001b[0m\u001b[1;34m'review'\u001b[0m\u001b[1;33m]\u001b[0m\u001b[1;33m.\u001b[0m\u001b[0msplit\u001b[0m\u001b[1;33m(\u001b[0m\u001b[1;34m' '\u001b[0m\u001b[1;33m)\u001b[0m\u001b[1;33m)\u001b[0m\u001b[1;33m,\u001b[0m \u001b[0maxis\u001b[0m\u001b[1;33m=\u001b[0m\u001b[1;36m1\u001b[0m\u001b[1;33m)\u001b[0m\u001b[1;33m\u001b[0m\u001b[1;33m\u001b[0m\u001b[0m\n\u001b[0m\u001b[0;32m    190\u001b[0m     \u001b[0mraw_data\u001b[0m\u001b[1;33m[\u001b[0m\u001b[1;34m'total_text'\u001b[0m\u001b[1;33m]\u001b[0m \u001b[1;33m=\u001b[0m \u001b[0mraw_data\u001b[0m\u001b[1;33m.\u001b[0m\u001b[0mapply\u001b[0m\u001b[1;33m(\u001b[0m\u001b[1;32mlambda\u001b[0m \u001b[0mrow\u001b[0m\u001b[1;33m:\u001b[0m \u001b[0mrow\u001b[0m\u001b[1;33m[\u001b[0m\u001b[1;34m'summary_length'\u001b[0m\u001b[1;33m]\u001b[0m\u001b[1;33m+\u001b[0m\u001b[0mrow\u001b[0m\u001b[1;33m[\u001b[0m\u001b[1;34m'review_length'\u001b[0m\u001b[1;33m]\u001b[0m\u001b[1;33m,\u001b[0m \u001b[0maxis\u001b[0m\u001b[1;33m=\u001b[0m\u001b[1;36m1\u001b[0m\u001b[1;33m)\u001b[0m\u001b[1;33m\u001b[0m\u001b[1;33m\u001b[0m\u001b[0m\n\u001b[0;32m    191\u001b[0m     \u001b[1;32mreturn\u001b[0m \u001b[0mraw_data\u001b[0m\u001b[1;33m\u001b[0m\u001b[1;33m\u001b[0m\u001b[0m\n",
      "\u001b[1;32m~\\anaconda3\\lib\\site-packages\\pandas\\core\\series.py\u001b[0m in \u001b[0;36m__getitem__\u001b[1;34m(self, key)\u001b[0m\n\u001b[0;32m    869\u001b[0m         \u001b[0mkey\u001b[0m \u001b[1;33m=\u001b[0m \u001b[0mcom\u001b[0m\u001b[1;33m.\u001b[0m\u001b[0mapply_if_callable\u001b[0m\u001b[1;33m(\u001b[0m\u001b[0mkey\u001b[0m\u001b[1;33m,\u001b[0m \u001b[0mself\u001b[0m\u001b[1;33m)\u001b[0m\u001b[1;33m\u001b[0m\u001b[1;33m\u001b[0m\u001b[0m\n\u001b[0;32m    870\u001b[0m         \u001b[1;32mtry\u001b[0m\u001b[1;33m:\u001b[0m\u001b[1;33m\u001b[0m\u001b[1;33m\u001b[0m\u001b[0m\n\u001b[1;32m--> 871\u001b[1;33m             \u001b[0mresult\u001b[0m \u001b[1;33m=\u001b[0m \u001b[0mself\u001b[0m\u001b[1;33m.\u001b[0m\u001b[0mindex\u001b[0m\u001b[1;33m.\u001b[0m\u001b[0mget_value\u001b[0m\u001b[1;33m(\u001b[0m\u001b[0mself\u001b[0m\u001b[1;33m,\u001b[0m \u001b[0mkey\u001b[0m\u001b[1;33m)\u001b[0m\u001b[1;33m\u001b[0m\u001b[1;33m\u001b[0m\u001b[0m\n\u001b[0m\u001b[0;32m    872\u001b[0m \u001b[1;33m\u001b[0m\u001b[0m\n\u001b[0;32m    873\u001b[0m             \u001b[1;32mif\u001b[0m \u001b[1;32mnot\u001b[0m \u001b[0mis_scalar\u001b[0m\u001b[1;33m(\u001b[0m\u001b[0mresult\u001b[0m\u001b[1;33m)\u001b[0m\u001b[1;33m:\u001b[0m\u001b[1;33m\u001b[0m\u001b[1;33m\u001b[0m\u001b[0m\n",
      "\u001b[1;32m~\\anaconda3\\lib\\site-packages\\pandas\\core\\indexes\\base.py\u001b[0m in \u001b[0;36mget_value\u001b[1;34m(self, series, key)\u001b[0m\n\u001b[0;32m   4401\u001b[0m         \u001b[0mk\u001b[0m \u001b[1;33m=\u001b[0m \u001b[0mcom\u001b[0m\u001b[1;33m.\u001b[0m\u001b[0mvalues_from_object\u001b[0m\u001b[1;33m(\u001b[0m\u001b[0mkey\u001b[0m\u001b[1;33m)\u001b[0m\u001b[1;33m\u001b[0m\u001b[1;33m\u001b[0m\u001b[0m\n\u001b[0;32m   4402\u001b[0m \u001b[1;33m\u001b[0m\u001b[0m\n\u001b[1;32m-> 4403\u001b[1;33m         \u001b[0mk\u001b[0m \u001b[1;33m=\u001b[0m \u001b[0mself\u001b[0m\u001b[1;33m.\u001b[0m\u001b[0m_convert_scalar_indexer\u001b[0m\u001b[1;33m(\u001b[0m\u001b[0mk\u001b[0m\u001b[1;33m,\u001b[0m \u001b[0mkind\u001b[0m\u001b[1;33m=\u001b[0m\u001b[1;34m\"getitem\"\u001b[0m\u001b[1;33m)\u001b[0m\u001b[1;33m\u001b[0m\u001b[1;33m\u001b[0m\u001b[0m\n\u001b[0m\u001b[0;32m   4404\u001b[0m         \u001b[1;32mtry\u001b[0m\u001b[1;33m:\u001b[0m\u001b[1;33m\u001b[0m\u001b[1;33m\u001b[0m\u001b[0m\n\u001b[0;32m   4405\u001b[0m             \u001b[1;32mreturn\u001b[0m \u001b[0mself\u001b[0m\u001b[1;33m.\u001b[0m\u001b[0m_engine\u001b[0m\u001b[1;33m.\u001b[0m\u001b[0mget_value\u001b[0m\u001b[1;33m(\u001b[0m\u001b[0ms\u001b[0m\u001b[1;33m,\u001b[0m \u001b[0mk\u001b[0m\u001b[1;33m,\u001b[0m \u001b[0mtz\u001b[0m\u001b[1;33m=\u001b[0m\u001b[0mgetattr\u001b[0m\u001b[1;33m(\u001b[0m\u001b[0mseries\u001b[0m\u001b[1;33m.\u001b[0m\u001b[0mdtype\u001b[0m\u001b[1;33m,\u001b[0m \u001b[1;34m\"tz\"\u001b[0m\u001b[1;33m,\u001b[0m \u001b[1;32mNone\u001b[0m\u001b[1;33m)\u001b[0m\u001b[1;33m)\u001b[0m\u001b[1;33m\u001b[0m\u001b[1;33m\u001b[0m\u001b[0m\n",
      "\u001b[1;32m~\\anaconda3\\lib\\site-packages\\pandas\\core\\indexes\\base.py\u001b[0m in \u001b[0;36m_convert_scalar_indexer\u001b[1;34m(self, key, kind)\u001b[0m\n\u001b[0;32m   2858\u001b[0m             \u001b[1;32mreturn\u001b[0m \u001b[0mself\u001b[0m\u001b[1;33m.\u001b[0m\u001b[0m_validate_indexer\u001b[0m\u001b[1;33m(\u001b[0m\u001b[1;34m\"positional\"\u001b[0m\u001b[1;33m,\u001b[0m \u001b[0mkey\u001b[0m\u001b[1;33m,\u001b[0m \u001b[0mkind\u001b[0m\u001b[1;33m)\u001b[0m\u001b[1;33m\u001b[0m\u001b[1;33m\u001b[0m\u001b[0m\n\u001b[0;32m   2859\u001b[0m \u001b[1;33m\u001b[0m\u001b[0m\n\u001b[1;32m-> 2860\u001b[1;33m         \u001b[1;32mif\u001b[0m \u001b[0mlen\u001b[0m\u001b[1;33m(\u001b[0m\u001b[0mself\u001b[0m\u001b[1;33m)\u001b[0m \u001b[1;32mand\u001b[0m \u001b[1;32mnot\u001b[0m \u001b[0misinstance\u001b[0m\u001b[1;33m(\u001b[0m\u001b[0mself\u001b[0m\u001b[1;33m,\u001b[0m \u001b[0mABCMultiIndex\u001b[0m\u001b[1;33m)\u001b[0m\u001b[1;33m:\u001b[0m\u001b[1;33m\u001b[0m\u001b[1;33m\u001b[0m\u001b[0m\n\u001b[0m\u001b[0;32m   2861\u001b[0m \u001b[1;33m\u001b[0m\u001b[0m\n\u001b[0;32m   2862\u001b[0m             \u001b[1;31m# we can raise here if we are definitive that this\u001b[0m\u001b[1;33m\u001b[0m\u001b[1;33m\u001b[0m\u001b[1;33m\u001b[0m\u001b[0m\n",
      "\u001b[1;32m~\\anaconda3\\lib\\site-packages\\pandas\\core\\indexes\\base.py\u001b[0m in \u001b[0;36m__len__\u001b[1;34m(self)\u001b[0m\n\u001b[0;32m    617\u001b[0m         \u001b[0mReturn\u001b[0m \u001b[0mthe\u001b[0m \u001b[0mlength\u001b[0m \u001b[0mof\u001b[0m \u001b[0mthe\u001b[0m \u001b[0mIndex\u001b[0m\u001b[1;33m.\u001b[0m\u001b[1;33m\u001b[0m\u001b[1;33m\u001b[0m\u001b[0m\n\u001b[0;32m    618\u001b[0m         \"\"\"\n\u001b[1;32m--> 619\u001b[1;33m         \u001b[1;32mreturn\u001b[0m \u001b[0mlen\u001b[0m\u001b[1;33m(\u001b[0m\u001b[0mself\u001b[0m\u001b[1;33m.\u001b[0m\u001b[0m_data\u001b[0m\u001b[1;33m)\u001b[0m\u001b[1;33m\u001b[0m\u001b[1;33m\u001b[0m\u001b[0m\n\u001b[0m\u001b[0;32m    620\u001b[0m \u001b[1;33m\u001b[0m\u001b[0m\n\u001b[0;32m    621\u001b[0m     \u001b[1;32mdef\u001b[0m \u001b[0m__array__\u001b[0m\u001b[1;33m(\u001b[0m\u001b[0mself\u001b[0m\u001b[1;33m,\u001b[0m \u001b[0mdtype\u001b[0m\u001b[1;33m=\u001b[0m\u001b[1;32mNone\u001b[0m\u001b[1;33m)\u001b[0m \u001b[1;33m->\u001b[0m \u001b[0mnp\u001b[0m\u001b[1;33m.\u001b[0m\u001b[0mndarray\u001b[0m\u001b[1;33m:\u001b[0m\u001b[1;33m\u001b[0m\u001b[1;33m\u001b[0m\u001b[0m\n",
      "\u001b[1;31mKeyboardInterrupt\u001b[0m: "
     ]
    }
   ],
   "source": [
    "utils.perform_eda(data_raw_0, 'text_length_per_rating')"
   ]
  },
  {
   "cell_type": "markdown",
   "metadata": {},
   "source": [
    "A continuación eliminamos el sesgo y repetimos la fase EDA.\n",
    "\n",
    "Para eliminar el sesgo tomamos todas las opiniones de 2 estrellas, pues es el grupo menos poblado, y realizamos un sampleo aleatorio sobre el resto del datset. Tras este sampleo, el contenido del fichero Electronics_5.json que finalmente empleamos es aproximadamente un cuarto del total.\n",
    "\n",
    "Llamamos __data_raw_1__ al nuevo dataset."
   ]
  },
  {
   "cell_type": "code",
   "execution_count": null,
   "metadata": {},
   "outputs": [],
   "source": [
    "data_raw_1 = utils.remove_rating_bias_from_raw_data(data_raw_0)"
   ]
  },
  {
   "cell_type": "code",
   "execution_count": null,
   "metadata": {},
   "outputs": [],
   "source": [
    "utils.perform_eda(data_raw_1, 'rating_distribution')"
   ]
  },
  {
   "cell_type": "markdown",
   "metadata": {},
   "source": [
    "Confirmamos que todas las puntuaciones cuentan con la misma cantidad de opiniones: unas 300000\n",
    "\n",
    "Veamos cómo cambia el aspecto de la distribución de puntuaciones por artículo, ahora que el dataset ya no tiene sesgo:"
   ]
  },
  {
   "cell_type": "code",
   "execution_count": null,
   "metadata": {},
   "outputs": [],
   "source": [
    "utils.perform_eda(data_raw_1, 'rating_distribution_item')"
   ]
  },
  {
   "cell_type": "markdown",
   "metadata": {},
   "source": [
    "Observamos una distribución aproximadamente normal, como es de esperar debido al Teorema del límite central. Nótese la diferencia respecto al mismo análisis sobre __data_raw_0__.\n",
    "\n",
    "De nuevo, pintamos un histograma para ver cuántas opiniones se han publicado por año. Al haber realizado un sampleo aleatorio, esperamos que la forma sea la misma que antes."
   ]
  },
  {
   "cell_type": "code",
   "execution_count": null,
   "metadata": {},
   "outputs": [],
   "source": [
    "utils.perform_eda(data_raw_1, 'opinions_per_year')"
   ]
  },
  {
   "cell_type": "markdown",
   "metadata": {},
   "source": [
    "A continuación, la distribución de artículos por número de opiniones."
   ]
  },
  {
   "cell_type": "code",
   "execution_count": null,
   "metadata": {},
   "outputs": [],
   "source": [
    "utils.perform_eda(data_raw_1, 'opinions_per_item')"
   ]
  },
  {
   "cell_type": "markdown",
   "metadata": {},
   "source": [
    "Igual que antes, una gran mayoría de artículos tiene un número bajo de opiniones y tan solo algunos cuentan con cientos o incluso miles.\n",
    "\n",
    "Como era de esperar, la representación de boxplot se ha desplazado hacia abajo. La mediana ha pasado de 15 a 4 debido a que hemos eliminado un gran número de opiniones."
   ]
  },
  {
   "cell_type": "markdown",
   "metadata": {},
   "source": [
    "Pintamos nuevamente un histograma y un boxplot para ver cuántas opiniones han publicado los usuarios."
   ]
  },
  {
   "cell_type": "code",
   "execution_count": null,
   "metadata": {
    "scrolled": false
   },
   "outputs": [],
   "source": [
    "utils.perform_eda(data_raw_1, 'opinions_per_user')"
   ]
  },
  {
   "cell_type": "markdown",
   "metadata": {},
   "source": [
    "Como es esperable, la forma del histograma es la misma (muchos usuarios con pocas opiniones y pocos usuarios con muchas opiniones) y el boxplot se ha desplazado hacia abajo, dando una mediana de 2, consistente con la reducción del volumen del datset."
   ]
  },
  {
   "cell_type": "markdown",
   "metadata": {},
   "source": [
    "A continuación vemos la dispersión de la puntuación por artículo."
   ]
  },
  {
   "cell_type": "code",
   "execution_count": null,
   "metadata": {},
   "outputs": [],
   "source": [
    "utils.perform_eda(data_raw_1, 'rating_sd_per_item')"
   ]
  },
  {
   "cell_type": "markdown",
   "metadata": {},
   "source": [
    "Tras la eliminación del sesgo la dispersión se mantiene prácticamente igual que antes, si bien se ha desplazado ligeramente hacia valores más altos. Este efecto es coherente con el cambio en la distribución que hemos visto en el análisis 'rating_distribution_item', que ha pasado de una distribución muy sesgada hacia puntuaciones altas a una distribución más simétrica y centrada. En otras palabras, antes teníamos \"muchos artículos buenos\", valorados mayormente con 4 y 5 estrellas, y ahora no existe ese exceso de artículos buenos."
   ]
  },
  {
   "cell_type": "markdown",
   "metadata": {},
   "source": [
    "Comprobemos ahora si tras eliminar el sesgo las longitudes de los textos se han alterado."
   ]
  },
  {
   "cell_type": "code",
   "execution_count": null,
   "metadata": {},
   "outputs": [],
   "source": [
    "utils.perform_eda(data_raw_1, 'summary_review_length_comparison_per_rating')"
   ]
  },
  {
   "cell_type": "markdown",
   "metadata": {},
   "source": [
    "Curiosamente las dos representaciones se mantienen prácticamente idénticas. Esto confirma que la anormal baja longitud de las opiniones de 5 estrellas no era debido a un efecto de sesgo. Mi interpretación es que los usuarios que están muy satisfechos con su compra tienden a publicar opiniones más escuetas, pues no necesitan mencionar tantos elementos como el resto de usuarios. De hecho, esta interpretación puede extenderse al resto de ratings. En las opiniones de 1 estrella los usuarios comentan acerca de diversos elementos pero están muy insatisfechos y no se molestan en hacer una revisión extensa. En las opiniones de 2 estrellas, el usuario admite elementos positivos pero ha de destacar otros tantos negativos. A medida que el usuario queda más y más satisfecho, la necesidad de extenderse va disminuyendo hasta observa el caso de las 5 estrellas."
   ]
  },
  {
   "cell_type": "markdown",
   "metadata": {},
   "source": [
    "Por último, volvamos a analiar las longitudes totales por puntuación."
   ]
  },
  {
   "cell_type": "code",
   "execution_count": null,
   "metadata": {},
   "outputs": [],
   "source": [
    "utils.perform_eda(data_raw_1, 'text_length_per_rating')"
   ]
  },
  {
   "cell_type": "markdown",
   "metadata": {},
   "source": [
    "Resulta evidente el efecto ya comentado en la celda anterior. También comprobamos que solo se trata de una tendencia, no de una norma, pues las opiniones de 1 y 5 estrellas tienen algunas opiniones tan largas como el resto, como se puede interpretar de los outliers."
   ]
  },
  {
   "cell_type": "markdown",
   "metadata": {},
   "source": [
    "# Preparación de los datos"
   ]
  },
  {
   "cell_type": "markdown",
   "metadata": {},
   "source": [
    "En esta sección tratamos el procesamiento de los datos. Los preparamos y le damos la estructura adecuada para realizar un análisis sobre ellos.\n",
    "\n",
    "El objeto resultante del procesamiento lo llamaré __odf__ (Opinion Data Frame) y será una pieza clave pues todos los análisis se harán sobre el mismo. Este objeto, de tipo pandas.DataFrame, contendrá tantas filas como opiniones (aproximadamente 1.5 millones) y los campos son los siguientes:\n",
    "* doc_number\n",
    "* rating\n",
    "* text\n",
    "* summary_raw\n",
    "* review_raw\n",
    "* summary_tokens_length"
   ]
  },
  {
   "cell_type": "markdown",
   "metadata": {},
   "source": [
    "La construcción del objeto odf se realiza bajo la función __execute_preprocessing_pipeline__, que es una rutina que ejecuta las distintas transformaciones que sufre el dataset suministrado, __data_raw_1__, hasta devolver el odf ya generado."
   ]
  },
  {
   "cell_type": "code",
   "execution_count": 12,
   "metadata": {
    "scrolled": false
   },
   "outputs": [],
   "source": [
    "#odf = utils.execute_preprocessing_pipeline(data_raw_1, False)\n",
    "odf = utils.load_latest_odf(nrows=892910, is_false=True) # 4 MILL\n",
    "#odf = utils.load_latest_odf(nrows=17525, is_false=True) # 100 k\n",
    "#odf = utils.load_latest_odf(nrows=214475, is_false=True) # 1 MILL"
   ]
  },
  {
   "cell_type": "markdown",
   "metadata": {},
   "source": [
    "Mostrar un head del odf y explicar qué contiene cada campo."
   ]
  },
  {
   "cell_type": "markdown",
   "metadata": {},
   "source": [
    "# Análisis"
   ]
  },
  {
   "cell_type": "markdown",
   "metadata": {},
   "source": [
    "El análisis que se lleva a cabo en este proyecto tiene por objetivo encontrar y mostrar de la mejor manera posible las relaciones que se establecen entre opiniones y temas. Por tanto, para realizar esta tarea vamos a necesitar dos partes previas a la extracción de insights:\n",
    "* La detección, definición y construcción de temas\n",
    "* La asignación de temas a opiniones\n",
    "\n",
    "En las siguientes secciones se presentan las herramientas desarrolladas y los objetos definidos para llevar a cabo ambas partes.\n",
    "\n",
    "Antes de ello, vamos a definir los elementos que van a ir apareciendo.\n",
    "* __Tema:__ definimos un tema como un elemento de negocio. Cada tema tratará de representar una parte del proceso de compra de un producto en un comercio electrónico. Por la manera en que se definen, los temas están naturalmente compuestos por subtemas (aunque no siempre hay una barrera clara entre subtemas) y estos, a su vez, por combinaciones de keywords. Los veremos más adelante pero, por poner un ejemplo, uno de los temas trata de la experiencia en la entrega del paquete. Algunos temas se definen por parejas (un tema para la experiencia positiva y otro para la negativa) y otros temas no tienen esa dualidad.\n",
    "* __Wordset:__ es el conjunto de palabras clave que constituyen un tema. No se trata simplemente de una lista sino que hay una cierta lógica, unas relaciones que deben cumplir los tokens con tal de considerarse un tema.\n",
    "* __Token:__ en este trabajo un token puede ser una palabra o un bigrama. Ejemplos de token pueden ser \"package\" o \"works_great\".\n",
    "* __Opinión:__ cuando usamos la palabra opinión nos referimos al objeto \"Opinión\", no al texto que escribe el usuario. La diferencia es que, en este análisis, la opinión es un objeto compuesto por varios campos: rating, review y summary.\n",
    "* __Rating:__ es la puntuación de una opinión. Siempre tiene un valor entre 1 y 5.\n",
    "* __Review:__ es el texto (largo) que escribe el usuario. Es, básicamente, lo que exploraremos para tratar de asignar temas a opiniones.\n",
    "* __Summary:__ es el resumen o el título de la review. Como hemos visto en el EDA, la longitud del summary suele ser entorno a una décima parte la de la review. También exploramos en los summaries para asignar temas a opiniones.\n",
    "* __Hit:__ asignación de un tema a una opinión."
   ]
  },
  {
   "cell_type": "markdown",
   "metadata": {},
   "source": [
    "## Herramientas y objetos"
   ]
  },
  {
   "cell_type": "markdown",
   "metadata": {},
   "source": [
    "### Detección, definición y construcción de temas"
   ]
  },
  {
   "cell_type": "markdown",
   "metadata": {},
   "source": [
    "Tras varios intentos fallidos de emplear métodos de Topic Modelling para la detección de los temas, decidí construir una metodología propia, basada en palabras clave. Definí un __tema__ como la estructura siguiente:"
   ]
  },
  {
   "cell_type": "code",
   "execution_count": 13,
   "metadata": {},
   "outputs": [],
   "source": [
    "tema =  {\n",
    "            'name': 'nombre del tema'\n",
    "            , 'wordset':\n",
    "            {\n",
    "                'ands':  []\n",
    "                , 'ors': [\n",
    "                            {\n",
    "                            'syn0': [],\n",
    "                            'syn1': [],\n",
    "                            'syn2': [],\n",
    "                            'nots': []\n",
    "                            }\n",
    "                            ,{\n",
    "                            'syn0': [],\n",
    "                            'syn1': [],\n",
    "                            'syn2': [],\n",
    "                            'nots': []\n",
    "                            }\n",
    "                            ,...\n",
    "                            ,{\n",
    "                            'syn0': [],\n",
    "                            'syn1': [],\n",
    "                            'syn2': [],\n",
    "                            'nots': []\n",
    "                            }\n",
    "                         ]\n",
    "            }\n",
    "        }"
   ]
  },
  {
   "cell_type": "markdown",
   "metadata": {},
   "source": [
    "El atributo name sencillamente identifica el tema.\n",
    "El atributo wordset es el conjunto de palabras que identifican el tema. Su contenido se divide en dos piezas, los elementos \"and\" y los elementos \"or\". En el primer caso, todos los tokens que constituyen la lista de \"ands\" deben aparecer en el texto de la opinión (ya sea review o summary) con tal de que el algoritmo de búsqueda considere que se produce un hit. Los ors son el elemento más flexible. Es una lista de \"grupos or\". Cada grupo or contiene un concepto o bien una representación distinta de un mismo concepto, y el algoritmo de búsqueda considerará que se produce un hit si se satisface alguno de los grupos or.\n",
    "\n",
    "La estructura de cada grupo or está compuesta de 4 listas. Una lista de sinónimos de tipo 0. Estos tokens suelen ser bigramas. Los sinónimos de tipo 1 requieren de un complemento, los sinónimos de tipo 2. Los nots son los tokens que, si se detectan próximas a un sinónimo de tipo 0 o 1 anulan el hit. Lo veremos con un ejemplo.\n",
    "\n",
    "Vamos a ver el funcionamiento, tanto de los temas como del algoritmo de búsqueda, con unos ejemplos, pero primero veamos las opiniones sobre las que mostramos el funcionamiento:"
   ]
  },
  {
   "cell_type": "code",
   "execution_count": 14,
   "metadata": {
    "scrolled": false
   },
   "outputs": [],
   "source": [
    "#odf_prueba = odf.loc[[148, 1455, 2689, 2849, 7213, 13890, 59018, 774310, 83236, 3161181, 5183314]]\n",
    "#for each in odf_prueba.iterrows():\n",
    "#    print('Opinión #', str(int(each[1]['doc_number']))+':')\n",
    "#    print('Rating:', str(int(each[1]['rating'])))\n",
    "#    print(each[1]['review_raw'], '\\n\\n********************************************\\n')"
   ]
  },
  {
   "cell_type": "markdown",
   "metadata": {},
   "source": [
    "Veamos el funcionamiento del elemento \"ands\"."
   ]
  },
  {
   "cell_type": "code",
   "execution_count": 15,
   "metadata": {},
   "outputs": [],
   "source": [
    "tema =  {\n",
    "            'name': 'Prueba'\n",
    "            , 'wordset':\n",
    "            {\n",
    "                'ands':  ['iphone']\n",
    "                , 'ors': [\n",
    "                            {\n",
    "                            'syn0': [],\n",
    "                            'syn1': [],\n",
    "                            'syn2': [],\n",
    "                            'nots': []\n",
    "                            }\n",
    "                         ]\n",
    "            }\n",
    "        }"
   ]
  },
  {
   "cell_type": "code",
   "execution_count": 16,
   "metadata": {},
   "outputs": [],
   "source": [
    "#utils.analize_wordset(odf_prueba, tema, False)[0]['doc_number']"
   ]
  },
  {
   "cell_type": "markdown",
   "metadata": {},
   "source": [
    "Comprobamos que se han localizado las 3 opiniones en las que aparece el token 'iphone':"
   ]
  },
  {
   "cell_type": "markdown",
   "metadata": {},
   "source": [
    "Verificamos que si añadimos un token a la lista de \"ands\", la búsqueda es más restrictiva, pues solo harán hit las opiniones que contengan ambos tokens."
   ]
  },
  {
   "cell_type": "code",
   "execution_count": 17,
   "metadata": {},
   "outputs": [],
   "source": [
    "tema =  {\n",
    "            'name': 'Prueba'\n",
    "            , 'wordset':\n",
    "            {\n",
    "                'ands':  ['iphone', 'charger']\n",
    "                , 'ors': [\n",
    "                            {\n",
    "                            'syn0': [],\n",
    "                            'syn1': [],\n",
    "                            'syn2': [],\n",
    "                            'nots': []\n",
    "                            }\n",
    "                         ]\n",
    "            }\n",
    "        }"
   ]
  },
  {
   "cell_type": "code",
   "execution_count": 18,
   "metadata": {},
   "outputs": [],
   "source": [
    "#utils.analize_wordset(odf_prueba, tema, False)[0]['doc_number']"
   ]
  },
  {
   "cell_type": "markdown",
   "metadata": {},
   "source": [
    "Comprobamos que la opinión 13890 deja de aparecer, pues no contiene la palabra \"charger\"."
   ]
  },
  {
   "cell_type": "markdown",
   "metadata": {},
   "source": [
    "A continuación buscaremos opiniones que contengan alguno de los dos tokens. Para ello empleamos la lista syn0 del grupo or."
   ]
  },
  {
   "cell_type": "code",
   "execution_count": 19,
   "metadata": {},
   "outputs": [],
   "source": [
    "tema =  {\n",
    "            'name': 'Prueba'\n",
    "            , 'wordset':\n",
    "            {\n",
    "                'ands':  []\n",
    "                , 'ors': [\n",
    "                            {\n",
    "                            'syn0': ['iphone', 'charger'],\n",
    "                            'syn1': [],\n",
    "                            'syn2': [],\n",
    "                            'nots': []\n",
    "                            }\n",
    "                         ]\n",
    "            }\n",
    "        }"
   ]
  },
  {
   "cell_type": "code",
   "execution_count": 20,
   "metadata": {},
   "outputs": [],
   "source": [
    "#utils.analize_wordset(odf_prueba, tema, False)[0]['doc_number']"
   ]
  },
  {
   "cell_type": "markdown",
   "metadata": {},
   "source": [
    "En esta ocasión aparecen todas las opiniones que contiene alguna de las dos (o las dos) palabras."
   ]
  },
  {
   "cell_type": "markdown",
   "metadata": {},
   "source": [
    "Ahora probemos una búsqueda algo más avanzada. Consideraremos 'phone' y 'iphone' como sinónimos, y exigiremos que aparezca el token 'charger'."
   ]
  },
  {
   "cell_type": "code",
   "execution_count": 21,
   "metadata": {},
   "outputs": [],
   "source": [
    "tema =  {\n",
    "            'name': 'Prueba'\n",
    "            , 'wordset':\n",
    "            {\n",
    "                'ands':  ['charger']\n",
    "                , 'ors': [\n",
    "                            {\n",
    "                            'syn0': ['iphone', 'phone'],\n",
    "                            'syn1': [],\n",
    "                            'syn2': [],\n",
    "                            'nots': []\n",
    "                            }\n",
    "                         ]\n",
    "            }\n",
    "        }"
   ]
  },
  {
   "cell_type": "code",
   "execution_count": 22,
   "metadata": {},
   "outputs": [],
   "source": [
    "#utils.analize_wordset(odf_prueba, tema, False)[0]['doc_number']"
   ]
  },
  {
   "cell_type": "markdown",
   "metadata": {},
   "source": [
    "Comprobamos que se trata del resultado esperado: la opinión 7213 contiene \"charger\" y \"phone\" y las otras dos contienen \"charger\" y \"iphone\"."
   ]
  },
  {
   "cell_type": "markdown",
   "metadata": {},
   "source": [
    "En esta ocasión vamos a mostrar la diferencia entre los syn0 y los sin1/syn2. Definimos un tema que considere la inestabilidad del producto. Los syn0 serán 'unstable' y 'stability_issues', mientras que el syn1 será 'stable', apoyado por el complemento 'not'."
   ]
  },
  {
   "cell_type": "code",
   "execution_count": 23,
   "metadata": {},
   "outputs": [],
   "source": [
    "tema =  {\n",
    "            'name': 'Prueba'\n",
    "            , 'wordset':\n",
    "            {\n",
    "                'ands':  []\n",
    "                , 'ors': [\n",
    "                            {\n",
    "                            'syn0': ['unstable',\n",
    "                                     'stability_issues'],\n",
    "                            'syn1': ['stable'],\n",
    "                            'syn2': ['not'],\n",
    "                            'nots': []\n",
    "                            }\n",
    "                         ]\n",
    "            }\n",
    "        }"
   ]
  },
  {
   "cell_type": "code",
   "execution_count": 24,
   "metadata": {},
   "outputs": [],
   "source": [
    "#utils.analize_wordset(odf_prueba, tema, False)[0]['doc_number']"
   ]
  },
  {
   "cell_type": "markdown",
   "metadata": {},
   "source": [
    "Podemos comprobar fácilmente que ambas opiniones tratan el tema de la inestabilidad del producto."
   ]
  },
  {
   "cell_type": "markdown",
   "metadata": {},
   "source": [
    "Por último, veamos la importancia que puede tener el elemento 'not'. Para ello definimos dos temas iguales pero en uno de ellos le indicamos que los tokens 'not' y 'nor' no pueden aparecer próximos."
   ]
  },
  {
   "cell_type": "code",
   "execution_count": 25,
   "metadata": {},
   "outputs": [],
   "source": [
    "tema1 =  {\n",
    "            'name': 'Prueba'\n",
    "            , 'wordset':\n",
    "            {\n",
    "                'ands':  []\n",
    "                , 'ors': [\n",
    "                            {\n",
    "                            'syn0': [],\n",
    "                            'syn1': ['plug'],\n",
    "                            'syn2': ['play'],\n",
    "                            'nots': []\n",
    "                            }\n",
    "                         ]\n",
    "            }\n",
    "        }\n",
    "tema2 =  {\n",
    "            'name': 'Prueba'\n",
    "            , 'wordset':\n",
    "            {\n",
    "                'ands':  []\n",
    "                , 'ors': [\n",
    "                            {\n",
    "                            'syn0': [],\n",
    "                            'syn1': ['plug'],\n",
    "                            'syn2': ['play'],\n",
    "                            'nots': ['not']\n",
    "                            }\n",
    "                         ]\n",
    "            }\n",
    "        }"
   ]
  },
  {
   "cell_type": "code",
   "execution_count": 26,
   "metadata": {},
   "outputs": [],
   "source": [
    "#utils.analize_wordset(odf_prueba, tema1, False)[0]['doc_number']"
   ]
  },
  {
   "cell_type": "code",
   "execution_count": 27,
   "metadata": {},
   "outputs": [],
   "source": [
    "#utils.analize_wordset(odf_prueba, tema2, False)[0]['doc_number']"
   ]
  },
  {
   "cell_type": "markdown",
   "metadata": {},
   "source": [
    "Hasta aquí hemos visto cómo funcionan los temas una vez están definidos pero cómo los definimos? Mediante un proceso manual asistido por diversas herramientas para explorar los tokens del corpus.\n",
    "\n",
    "En primer lugar, es fundamental disponer del corpus del dataset, es decir, los tokens que aparecen en las opiniones, y también cuántas veces aparecen. Para ello hacemo uso del objeto Counter (Collections). Este objeto será necesario a nivel interno en varias ocasiones y también lo usamos a continuación para construir un diccionario. El diccionario lo construimos en este punto pero solamente lo necesitaremos para codificar el texto en la parte predictiva del trabajo."
   ]
  },
  {
   "cell_type": "code",
   "execution_count": 28,
   "metadata": {},
   "outputs": [
    {
     "name": "stdout",
     "output_type": "stream",
     "text": [
      "Cantidad de tokens (distintos) antes de eliminar los poco frecuentes: 249281\n",
      "Cantidad de tokens (distintos) tras eliminar los poco frecuentes:     169497\n"
     ]
    }
   ],
   "source": [
    "# Construimos un contador para almacenar en cuántas ocasiones aparece cada token\n",
    "token_counter = Counter()\n",
    "for index, row in odf.iterrows():\n",
    "    token_counter.update(row['text'].split(', '))\n",
    "\n",
    "\n",
    "print(\"Cantidad de tokens (distintos) antes de eliminar los poco frecuentes:\", str(len(token_counter.keys())).rjust(6, ' '))\n",
    "for word in list(token_counter):\n",
    "    if token_counter[word] < 2:\n",
    "        del token_counter[word]\n",
    "print(\"Cantidad de tokens (distintos) tras eliminar los poco frecuentes:    \", str(len(token_counter.keys())).rjust(6, ' '))\n",
    "\n",
    "\n",
    "#Construimos el diccionario\n",
    "tokens_coded = {'UNK':0}\n",
    "for word in token_counter:\n",
    "    tokens_coded[word] = len(tokens_coded) "
   ]
  },
  {
   "cell_type": "code",
   "execution_count": 29,
   "metadata": {},
   "outputs": [
    {
     "data": {
      "text/plain": [
       "[('not', 1215788),\n",
       " ('good', 322169),\n",
       " ('use', 274303),\n",
       " ('great', 265175),\n",
       " ('work', 228463),\n",
       " ('out', 183157),\n",
       " ('no', 180865),\n",
       " ('product', 178083),\n",
       " ('camera', 157968),\n",
       " ('time', 143694)]"
      ]
     },
     "execution_count": 29,
     "metadata": {},
     "output_type": "execute_result"
    }
   ],
   "source": [
    "token_counter.most_common(10)"
   ]
  },
  {
   "cell_type": "markdown",
   "metadata": {},
   "source": [
    "Esa es la primera herramienta. Simplemente revisando manualmente los tokens más comunes es posible hacerse una idea de los temas que se tratan. Muchos de ellos no son útiles descontextualizados. Por ello, acudimos a los bigramas:"
   ]
  },
  {
   "cell_type": "code",
   "execution_count": 30,
   "metadata": {},
   "outputs": [
    {
     "data": {
      "text/html": [
       "<div>\n",
       "<style scoped>\n",
       "    .dataframe tbody tr th:only-of-type {\n",
       "        vertical-align: middle;\n",
       "    }\n",
       "\n",
       "    .dataframe tbody tr th {\n",
       "        vertical-align: top;\n",
       "    }\n",
       "\n",
       "    .dataframe thead th {\n",
       "        text-align: right;\n",
       "    }\n",
       "</style>\n",
       "<table border=\"1\" class=\"dataframe\">\n",
       "  <thead>\n",
       "    <tr style=\"text-align: right;\">\n",
       "      <th></th>\n",
       "      <th>bigram</th>\n",
       "      <th>num_occurrences</th>\n",
       "    </tr>\n",
       "  </thead>\n",
       "  <tbody>\n",
       "    <tr>\n",
       "      <th>0</th>\n",
       "      <td>way_too</td>\n",
       "      <td>6693</td>\n",
       "    </tr>\n",
       "    <tr>\n",
       "      <th>1</th>\n",
       "      <td>cut_out</td>\n",
       "      <td>2684</td>\n",
       "    </tr>\n",
       "    <tr>\n",
       "      <th>2</th>\n",
       "      <td>east_coast</td>\n",
       "      <td>121</td>\n",
       "    </tr>\n",
       "    <tr>\n",
       "      <th>3</th>\n",
       "      <td>family_member</td>\n",
       "      <td>409</td>\n",
       "    </tr>\n",
       "    <tr>\n",
       "      <th>4</th>\n",
       "      <td>many_places</td>\n",
       "      <td>165</td>\n",
       "    </tr>\n",
       "  </tbody>\n",
       "</table>\n",
       "</div>"
      ],
      "text/plain": [
       "          bigram  num_occurrences\n",
       "0        way_too             6693\n",
       "1        cut_out             2684\n",
       "2     east_coast              121\n",
       "3  family_member              409\n",
       "4    many_places              165"
      ]
     },
     "execution_count": 30,
     "metadata": {},
     "output_type": "execute_result"
    }
   ],
   "source": [
    "utils.extract_bigrams_from_counter(token_counter).head()"
   ]
  },
  {
   "cell_type": "markdown",
   "metadata": {},
   "source": [
    "Los bigramas nos ofrecen una visión mucho más contextualizada. Si bien muchos de ellos no pueden ser interpretados por sí solos, sí hay otros que sí lo permiten."
   ]
  },
  {
   "cell_type": "markdown",
   "metadata": {},
   "source": [
    "La siguiente herramienta nos asiste en la interpretación de los tokens. Nos sirve para contextualizarlos y adquirir una noción de \"qué se suele decir\" allí donde se usan. La función __get_close_words__ nos devuelve los tokens más frecuentes que se encuentran unas posiciones antes (a la izquierda) del token buscado y las que se encuentran unas posicioens detrás (a la derecha). Asimismo, se recoge el número de ocasiones que aparecen e información sobre la puntuación: la media y la desviación estándar de aquellas opiniones en las que se ha encontrado el token seguido o precedido de cada palabra:"
   ]
  },
  {
   "cell_type": "code",
   "execution_count": 31,
   "metadata": {
    "scrolled": false
   },
   "outputs": [
    {
     "name": "stdout",
     "output_type": "stream",
     "text": [
      "00h 00m 00s ____ INICIO FUNCIÓN GET_CLOSE_WORDS ____________________________________________________\n",
      "00h 00m 00s :::: BUCLE OPINIONES: 0 DE 892910 ______________________________________________________\n",
      "00h 00m 15s :::: BUCLE OPINIONES: 200000 DE 892910 _________________________________________________\n",
      "00h 00m 15s :::: BUCLE OPINIONES: 400000 DE 892910 _________________________________________________\n",
      "00h 00m 15s :::: BUCLE OPINIONES: 600000 DE 892910 _________________________________________________\n",
      "00h 00m 15s :::: BUCLE OPINIONES: 800000 DE 892910 _________________________________________________\n",
      "00h 01m 24s ____ FIN FUNCIÓN GET_CLOSE_WORDS _______________________________________________________\n"
     ]
    },
    {
     "data": {
      "text/plain": [
       "(          num_occurrences  rating_mean  rating_sd\n",
       " token                                            \n",
       " unit                717.0     1.896792   0.981934\n",
       " product             548.0     1.616788   0.965138\n",
       " first               461.0     2.301518   1.236307\n",
       " maybe               441.0     1.861678   0.864137\n",
       " return              438.0     1.863014   1.032405\n",
       " mine                380.0     1.992105   0.879218\n",
       " returned            316.0     1.832278   1.036035\n",
       " know                274.0     1.755474   0.826788,\n",
       "              num_occurrences  rating_mean  rating_sd\n",
       " token                                               \n",
       " product               1164.0     1.530928   0.837578\n",
       " returned               371.0     1.684636   0.879346\n",
       " box                    351.0     1.678063   0.917483\n",
       " replacement            338.0     1.937870   1.061458\n",
       " back                   337.0     1.732938   1.002919\n",
       " work                   336.0     1.660714   0.935728\n",
       " amazon                 334.0     1.823353   1.071859\n",
       " return                 319.0     1.771160   0.925350)"
      ]
     },
     "execution_count": 31,
     "metadata": {},
     "output_type": "execute_result"
    }
   ],
   "source": [
    "utils.get_close_words(odf, 'defective', max_distance=3, n_words=8)"
   ]
  },
  {
   "cell_type": "code",
   "execution_count": 32,
   "metadata": {},
   "outputs": [
    {
     "name": "stdout",
     "output_type": "stream",
     "text": [
      "00h 00m 00s ____ INICIO FUNCIÓN GET_CLOSE_WORDS ____________________________________________________\n",
      "00h 00m 00s :::: BUCLE OPINIONES: 0 DE 892910 ______________________________________________________\n",
      "00h 00m 15s :::: BUCLE OPINIONES: 200000 DE 892910 _________________________________________________\n",
      "00h 00m 15s :::: BUCLE OPINIONES: 400000 DE 892910 _________________________________________________\n",
      "00h 00m 15s :::: BUCLE OPINIONES: 600000 DE 892910 _________________________________________________\n",
      "00h 00m 15s :::: BUCLE OPINIONES: 800000 DE 892910 _________________________________________________\n",
      "00h 01m 37s ____ FIN FUNCIÓN GET_CLOSE_WORDS _______________________________________________________\n"
     ]
    },
    {
     "data": {
      "text/plain": [
       "(            num_occurrences  rating_mean  rating_sd\n",
       " token                                              \n",
       " great                1920.0     4.311979   0.910859\n",
       " five_stars           1388.0     4.992795   0.136724\n",
       " product               856.0     3.998832   1.161265\n",
       " works                 779.0     3.994865   1.128037\n",
       " use                   704.0     4.107955   1.029988\n",
       " good                  585.0     4.114530   0.959208\n",
       " price                 529.0     4.389414   0.795085\n",
       " still                 529.0     3.778828   1.315066,\n",
       "         num_occurrences  rating_mean  rating_sd\n",
       " token                                          \n",
       " use               796.0     4.128141   1.072779\n",
       " good              665.0     4.138346   1.027683\n",
       " easy              644.0     4.316770   0.927696\n",
       " price             606.0     4.389439   0.883356\n",
       " great             590.0     4.264407   1.028253\n",
       " love              311.0     4.385852   0.963357\n",
       " far               310.0     4.122581   1.066316\n",
       " little            305.0     3.888525   0.966903)"
      ]
     },
     "execution_count": 32,
     "metadata": {},
     "output_type": "execute_result"
    }
   ],
   "source": [
    "utils.get_close_words(odf, 'works_great', max_distance=3, n_words=8)"
   ]
  },
  {
   "cell_type": "markdown",
   "metadata": {},
   "source": [
    "Simplemente con esta función ya nos damos cuenta de que algunas palabras están fuertemente relacionadas con la puntuación de las opiniones, como podemos ver en estas dos ejecuciones."
   ]
  },
  {
   "cell_type": "markdown",
   "metadata": {},
   "source": [
    "Otra asistencia relacionada con la definición de los wordsets es la que nos ofrece la función __busca_tokens__. Esta función nos permite ver en qué bigramas aparece un token dado."
   ]
  },
  {
   "cell_type": "code",
   "execution_count": 33,
   "metadata": {},
   "outputs": [
    {
     "data": {
      "text/plain": [
       "['sound_quality',\n",
       " 'quality_suffers',\n",
       " 'quality_control',\n",
       " 'quality__',\n",
       " 'poorer_quality',\n",
       " 'image_quality',\n",
       " 'low_quality',\n",
       " 'declining_quality',\n",
       " 'quality_lightness',\n",
       " 'tonal_quality',\n",
       " 'quality_avcd',\n",
       " 'poor_quality',\n",
       " 'higher_quality',\n",
       " 'bulid_quality',\n",
       " 'quality_deteriorates',\n",
       " 'picture_quality',\n",
       " 'high_quality',\n",
       " 'quality_materials',\n",
       " 'questionable_quality',\n",
       " 'pic_quality',\n",
       " 'quality_assurance',\n",
       " 'quality_varies',\n",
       " 'lesser_quality',\n",
       " 'highest_quality',\n",
       " 'redeeming_quality',\n",
       " 'build_quality',\n",
       " 'exude_quality',\n",
       " 'exudes_quality',\n",
       " 'redeemable_quality',\n",
       " 'quality',\n",
       " 'poorest_quality']"
      ]
     },
     "execution_count": 33,
     "metadata": {},
     "output_type": "execute_result"
    }
   ],
   "source": [
    "utils.busca_tokens(token_counter, ['quality'])"
   ]
  },
  {
   "cell_type": "markdown",
   "metadata": {},
   "source": [
    "Estas son las herramientas que, combinadas entre ellas y con una cierta dedicación, me han permitido definir los wordsets de los temas."
   ]
  },
  {
   "cell_type": "markdown",
   "metadata": {},
   "source": [
    "### Asignación de temas a opiniones (hits)"
   ]
  },
  {
   "cell_type": "markdown",
   "metadata": {},
   "source": [
    "El mecanismo de asignación de temas a opiniones lo hemos visto en la sección anterior. Es un algoritmo que recibe como inputs el odf y el envoltorio del wordset que queremos analizar. Además, podemos indicarle si queremos visualizar el histograma de los resultados por puntuación.\n",
    "\n",
    "El código de la función analize_wordset está diseñado para seguir la siguiente lógica (la describimos de forma aproximada, ya que el código contiene matices para mejorar el rendimiento y la precisión):\n",
    "\n",
    "* para cada opinión en el odf:\n",
    "  * si se cumple la condición de los ands en el texto:\n",
    "    * ands_compliance = True\n",
    "    * si se cumple algún grupo or en el texto:\n",
    "      * ors_compliance = True\n",
    "  * si ands_compliance y ors_compliance:\n",
    "    * se produce un hit\n",
    "\n",
    "Algunos mecanismos que incluye el código para mejorar el rendimiento:\n",
    "* Primero se realiza la búsqueda sobre el summary. De no satisfacerse las condiciones, entonces se busca en la review.\n",
    "* No se procesa todo el texto sino que en primer lugar se localizan las posiciones de los tokens del wordset y entonces seleccionamos una porción del texto que los envuelve. De este modo reducimos drásticamente la longitud del texto a procesar. La porción de texto a estudiar se establece mediante un parámetro, max_distance, que se ha establecido en 3. Esto hace que el texto a estudiar sea, en muchas ocasiones, de tan solo 7 tokens.\n",
    "\n",
    "Algunos mecanismos para mejorar la precisión:\n",
    "* En la línea de establecer una distancia máxima de 3 tokens, esta es la distancia máxima a la que pueden estar los elementos syn1 y syn2 para ser contabilizados.\n",
    "* De los elementos not, por su naturaleza, solo se comprueba su existencia en las max_distance posiciones previas al token de interés, no en las posteriores."
   ]
  },
  {
   "cell_type": "markdown",
   "metadata": {},
   "source": [
    "A continuación generamos el listado de tokens que aparecen en el odf. Este paso es necesario porque algunos temas utilizan la función busca_tokens en su wordset, a la cual es necesario suministrar el listado."
   ]
  },
  {
   "cell_type": "markdown",
   "metadata": {},
   "source": [
    "## Definición de temas y obtención de los hits"
   ]
  },
  {
   "cell_type": "markdown",
   "metadata": {},
   "source": [
    "A continuación se procede a recuperar los temas que han sido definidos empleando las herramientas ya comentadas."
   ]
  },
  {
   "cell_type": "code",
   "execution_count": 34,
   "metadata": {
    "scrolled": false
   },
   "outputs": [],
   "source": [
    "topics = th.generate_topics(token_counter)\n",
    "topics_names = utils.get_all_topic_names(topics)"
   ]
  },
  {
   "cell_type": "markdown",
   "metadata": {},
   "source": [
    "Vamos a ver qué temas se han definido:"
   ]
  },
  {
   "cell_type": "code",
   "execution_count": 35,
   "metadata": {},
   "outputs": [
    {
     "data": {
      "text/plain": [
       "['Funcionamiento (POS)',\n",
       " 'Funcionamiento (NEG)',\n",
       " 'Características (POS)',\n",
       " 'Características (NEG)',\n",
       " 'Comodidad/Sencillez (POS)',\n",
       " 'Comodidad/Sencillez (NEG)',\n",
       " 'Producto incorrecto',\n",
       " 'Referencia a opiniones',\n",
       " 'Envío/entrega/packaging (POS)',\n",
       " 'Envío/entrega/packaging (NEG)',\n",
       " 'Devolución/Postventa (POS)',\n",
       " 'Devolución/Postventa (NEG)',\n",
       " 'Precio',\n",
       " 'Sentimiento (POS)',\n",
       " 'Sentimiento (NEG)']"
      ]
     },
     "execution_count": 35,
     "metadata": {},
     "output_type": "execute_result"
    }
   ],
   "source": [
    "topics_names"
   ]
  },
  {
   "cell_type": "markdown",
   "metadata": {},
   "source": [
    "Nótese que algunos temas son duales (tienen su versión positiva y negativa) y otros son sencillos.\n",
    "\n",
    "A continuación vamos a lanzar el bucle responsable de generar todos los hits. Para cada tema se ejecuta la función analize, ya explicada anteriormente, y se almacenan los resultados en el objeto lista_resultados_analize."
   ]
  },
  {
   "cell_type": "code",
   "execution_count": 36,
   "metadata": {
    "scrolled": false
   },
   "outputs": [
    {
     "name": "stdout",
     "output_type": "stream",
     "text": [
      "00h 00m 00s ____ INICIO BUCLE ANALIZE ______________________________________________________________\n",
      "00h 00m 00s ____ INICIO FUNCIÓN ANALIZE_WORDSET ____________________________________________________\n",
      "00h 00m 00s :::: WORDSET A ANALIZAR: Funcionamiento (POS) __________________________________________\n",
      "00h 00m 00s :::: BUCLE OPINIONES: 0 DE 892910 HITS: 0 ______________________________________________\n",
      "00h 00m 18s :::: BUCLE OPINIONES: 200000 DE 892910 HITS: 18401 _____________________________________\n",
      "00h 00m 18s :::: BUCLE OPINIONES: 400000 DE 892910 HITS: 37300 _____________________________________\n",
      "00h 00m 18s :::: BUCLE OPINIONES: 600000 DE 892910 HITS: 56804 _____________________________________\n",
      "00h 00m 18s :::: BUCLE OPINIONES: 800000 DE 892910 HITS: 75345 _____________________________________\n",
      "00h 01m 23s ____ FIN FUNCIÓN ANALIZE_WORDSET _______________________________________________________\n",
      "00h 00m 00s ____ INICIO FUNCIÓN ANALIZE_WORDSET ____________________________________________________\n",
      "00h 00m 00s :::: WORDSET A ANALIZAR: Funcionamiento (NEG) __________________________________________\n",
      "00h 00m 00s :::: BUCLE OPINIONES: 0 DE 892910 HITS: 0 ______________________________________________\n",
      "00h 00m 18s :::: BUCLE OPINIONES: 200000 DE 892910 HITS: 9708 ______________________________________\n",
      "00h 00m 18s :::: BUCLE OPINIONES: 400000 DE 892910 HITS: 20236 _____________________________________\n",
      "00h 00m 18s :::: BUCLE OPINIONES: 600000 DE 892910 HITS: 30645 _____________________________________\n",
      "00h 00m 18s :::: BUCLE OPINIONES: 800000 DE 892910 HITS: 40552 _____________________________________\n",
      "00h 01m 21s ____ FIN FUNCIÓN ANALIZE_WORDSET _______________________________________________________\n",
      "00h 00m 00s ____ INICIO FUNCIÓN ANALIZE_WORDSET ____________________________________________________\n",
      "00h 00m 00s :::: WORDSET A ANALIZAR: Características (POS) _________________________________________\n",
      "00h 00m 00s :::: BUCLE OPINIONES: 0 DE 892910 HITS: 0 ______________________________________________\n",
      "00h 00m 20s :::: BUCLE OPINIONES: 200000 DE 892910 HITS: 13695 _____________________________________\n",
      "00h 00m 20s :::: BUCLE OPINIONES: 400000 DE 892910 HITS: 27146 _____________________________________\n",
      "00h 00m 19s :::: BUCLE OPINIONES: 600000 DE 892910 HITS: 40675 _____________________________________\n",
      "00h 00m 19s :::: BUCLE OPINIONES: 800000 DE 892910 HITS: 54286 _____________________________________\n",
      "00h 01m 29s ____ FIN FUNCIÓN ANALIZE_WORDSET _______________________________________________________\n",
      "00h 00m 00s ____ INICIO FUNCIÓN ANALIZE_WORDSET ____________________________________________________\n",
      "00h 00m 00s :::: WORDSET A ANALIZAR: Características (NEG) _________________________________________\n",
      "00h 00m 00s :::: BUCLE OPINIONES: 0 DE 892910 HITS: 0 ______________________________________________\n",
      "00h 00m 33s :::: BUCLE OPINIONES: 200000 DE 892910 HITS: 20443 _____________________________________\n",
      "00h 00m 33s :::: BUCLE OPINIONES: 400000 DE 892910 HITS: 41154 _____________________________________\n",
      "00h 00m 32s :::: BUCLE OPINIONES: 600000 DE 892910 HITS: 61580 _____________________________________\n",
      "00h 00m 31s :::: BUCLE OPINIONES: 800000 DE 892910 HITS: 81721 _____________________________________\n",
      "00h 02m 25s ____ FIN FUNCIÓN ANALIZE_WORDSET _______________________________________________________\n",
      "00h 00m 00s ____ INICIO FUNCIÓN ANALIZE_WORDSET ____________________________________________________\n",
      "00h 00m 00s :::: WORDSET A ANALIZAR: Comodidad/Sencillez (POS) _____________________________________\n",
      "00h 00m 00s :::: BUCLE OPINIONES: 0 DE 892910 HITS: 0 ______________________________________________\n",
      "00h 00m 23s :::: BUCLE OPINIONES: 200000 DE 892910 HITS: 7875 ______________________________________\n",
      "00h 00m 24s :::: BUCLE OPINIONES: 400000 DE 892910 HITS: 17058 _____________________________________\n",
      "00h 00m 23s :::: BUCLE OPINIONES: 600000 DE 892910 HITS: 25738 _____________________________________\n",
      "00h 00m 22s :::: BUCLE OPINIONES: 800000 DE 892910 HITS: 33699 _____________________________________\n",
      "00h 01m 44s ____ FIN FUNCIÓN ANALIZE_WORDSET _______________________________________________________\n",
      "00h 00m 00s ____ INICIO FUNCIÓN ANALIZE_WORDSET ____________________________________________________\n",
      "00h 00m 00s :::: WORDSET A ANALIZAR: Comodidad/Sencillez (NEG) _____________________________________\n",
      "00h 00m 00s :::: BUCLE OPINIONES: 0 DE 892910 HITS: 0 ______________________________________________\n",
      "00h 00m 22s :::: BUCLE OPINIONES: 200000 DE 892910 HITS: 9164 ______________________________________\n",
      "00h 00m 22s :::: BUCLE OPINIONES: 400000 DE 892910 HITS: 18087 _____________________________________\n",
      "00h 00m 22s :::: BUCLE OPINIONES: 600000 DE 892910 HITS: 26686 _____________________________________\n",
      "00h 00m 21s :::: BUCLE OPINIONES: 800000 DE 892910 HITS: 34865 _____________________________________\n",
      "00h 01m 38s ____ FIN FUNCIÓN ANALIZE_WORDSET _______________________________________________________\n",
      "00h 00m 00s ____ INICIO FUNCIÓN ANALIZE_WORDSET ____________________________________________________\n",
      "00h 00m 00s :::: WORDSET A ANALIZAR: Producto incorrecto ___________________________________________\n",
      "00h 00m 00s :::: BUCLE OPINIONES: 0 DE 892910 HITS: 0 ______________________________________________\n",
      "00h 00m 17s :::: BUCLE OPINIONES: 200000 DE 892910 HITS: 2339 ______________________________________\n",
      "00h 00m 17s :::: BUCLE OPINIONES: 400000 DE 892910 HITS: 4765 ______________________________________\n",
      "00h 00m 17s :::: BUCLE OPINIONES: 600000 DE 892910 HITS: 7112 ______________________________________\n",
      "00h 00m 17s :::: BUCLE OPINIONES: 800000 DE 892910 HITS: 9459 ______________________________________\n",
      "00h 01m 17s ____ FIN FUNCIÓN ANALIZE_WORDSET _______________________________________________________\n",
      "00h 00m 00s ____ INICIO FUNCIÓN ANALIZE_WORDSET ____________________________________________________\n",
      "00h 00m 00s :::: WORDSET A ANALIZAR: Referencia a opiniones ________________________________________\n",
      "00h 00m 00s :::: BUCLE OPINIONES: 0 DE 892910 HITS: 0 ______________________________________________\n",
      "00h 00m 25s :::: BUCLE OPINIONES: 200000 DE 892910 HITS: 18318 _____________________________________\n",
      "00h 00m 25s :::: BUCLE OPINIONES: 400000 DE 892910 HITS: 36230 _____________________________________\n",
      "00h 00m 25s :::: BUCLE OPINIONES: 600000 DE 892910 HITS: 52817 _____________________________________\n",
      "00h 00m 23s :::: BUCLE OPINIONES: 800000 DE 892910 HITS: 67508 _____________________________________\n",
      "00h 01m 52s ____ FIN FUNCIÓN ANALIZE_WORDSET _______________________________________________________\n",
      "00h 00m 00s ____ INICIO FUNCIÓN ANALIZE_WORDSET ____________________________________________________\n",
      "00h 00m 00s :::: WORDSET A ANALIZAR: Envío/entrega/packaging (POS) _________________________________\n",
      "00h 00m 00s :::: BUCLE OPINIONES: 0 DE 892910 HITS: 0 ______________________________________________\n",
      "00h 00m 16s :::: BUCLE OPINIONES: 200000 DE 892910 HITS: 1372 ______________________________________\n",
      "00h 00m 17s :::: BUCLE OPINIONES: 400000 DE 892910 HITS: 2941 ______________________________________\n",
      "00h 00m 16s :::: BUCLE OPINIONES: 600000 DE 892910 HITS: 4302 ______________________________________\n",
      "00h 00m 16s :::: BUCLE OPINIONES: 800000 DE 892910 HITS: 5661 ______________________________________\n",
      "00h 01m 15s ____ FIN FUNCIÓN ANALIZE_WORDSET _______________________________________________________\n",
      "00h 00m 00s ____ INICIO FUNCIÓN ANALIZE_WORDSET ____________________________________________________\n",
      "00h 00m 00s :::: WORDSET A ANALIZAR: Envío/entrega/packaging (NEG) _________________________________\n",
      "00h 00m 00s :::: BUCLE OPINIONES: 0 DE 892910 HITS: 0 ______________________________________________\n",
      "00h 00m 17s :::: BUCLE OPINIONES: 200000 DE 892910 HITS: 373 _______________________________________\n",
      "00h 00m 18s :::: BUCLE OPINIONES: 400000 DE 892910 HITS: 758 _______________________________________\n",
      "00h 00m 17s :::: BUCLE OPINIONES: 600000 DE 892910 HITS: 1100 ______________________________________\n",
      "00h 00m 17s :::: BUCLE OPINIONES: 800000 DE 892910 HITS: 1428 ______________________________________\n",
      "00h 01m 19s ____ FIN FUNCIÓN ANALIZE_WORDSET _______________________________________________________\n",
      "00h 00m 00s ____ INICIO FUNCIÓN ANALIZE_WORDSET ____________________________________________________\n",
      "00h 00m 00s :::: WORDSET A ANALIZAR: Devolución/Postventa (POS) ____________________________________\n",
      "00h 00m 00s :::: BUCLE OPINIONES: 0 DE 892910 HITS: 0 ______________________________________________\n"
     ]
    },
    {
     "name": "stdout",
     "output_type": "stream",
     "text": [
      "00h 00m 16s :::: BUCLE OPINIONES: 200000 DE 892910 HITS: 799 _______________________________________\n",
      "00h 00m 16s :::: BUCLE OPINIONES: 400000 DE 892910 HITS: 1736 ______________________________________\n",
      "00h 00m 16s :::: BUCLE OPINIONES: 600000 DE 892910 HITS: 2651 ______________________________________\n",
      "00h 00m 16s :::: BUCLE OPINIONES: 800000 DE 892910 HITS: 3576 ______________________________________\n",
      "00h 01m 13s ____ FIN FUNCIÓN ANALIZE_WORDSET _______________________________________________________\n",
      "00h 00m 00s ____ INICIO FUNCIÓN ANALIZE_WORDSET ____________________________________________________\n",
      "00h 00m 00s :::: WORDSET A ANALIZAR: Devolución/Postventa (NEG) ____________________________________\n",
      "00h 00m 00s :::: BUCLE OPINIONES: 0 DE 892910 HITS: 0 ______________________________________________\n",
      "00h 00m 16s :::: BUCLE OPINIONES: 200000 DE 892910 HITS: 141 _______________________________________\n",
      "00h 00m 16s :::: BUCLE OPINIONES: 400000 DE 892910 HITS: 293 _______________________________________\n",
      "00h 00m 16s :::: BUCLE OPINIONES: 600000 DE 892910 HITS: 444 _______________________________________\n",
      "00h 00m 16s :::: BUCLE OPINIONES: 800000 DE 892910 HITS: 555 _______________________________________\n",
      "00h 01m 13s ____ FIN FUNCIÓN ANALIZE_WORDSET _______________________________________________________\n",
      "00h 00m 00s ____ INICIO FUNCIÓN ANALIZE_WORDSET ____________________________________________________\n",
      "00h 00m 00s :::: WORDSET A ANALIZAR: Precio ________________________________________________________\n",
      "00h 00m 00s :::: BUCLE OPINIONES: 0 DE 892910 HITS: 0 ______________________________________________\n",
      "00h 00m 30s :::: BUCLE OPINIONES: 200000 DE 892910 HITS: 43117 _____________________________________\n",
      "00h 00m 30s :::: BUCLE OPINIONES: 400000 DE 892910 HITS: 85196 _____________________________________\n",
      "00h 00m 29s :::: BUCLE OPINIONES: 600000 DE 892910 HITS: 124527 ____________________________________\n",
      "00h 00m 28s :::: BUCLE OPINIONES: 800000 DE 892910 HITS: 160169 ____________________________________\n",
      "00h 02m 12s ____ FIN FUNCIÓN ANALIZE_WORDSET _______________________________________________________\n",
      "00h 00m 00s ____ INICIO FUNCIÓN ANALIZE_WORDSET ____________________________________________________\n",
      "00h 00m 00s :::: WORDSET A ANALIZAR: Sentimiento (POS) _____________________________________________\n",
      "00h 00m 00s :::: BUCLE OPINIONES: 0 DE 892910 HITS: 0 ______________________________________________\n",
      "00h 00m 16s :::: BUCLE OPINIONES: 200000 DE 892910 HITS: 5758 ______________________________________\n",
      "00h 00m 16s :::: BUCLE OPINIONES: 400000 DE 892910 HITS: 11401 _____________________________________\n",
      "00h 00m 16s :::: BUCLE OPINIONES: 600000 DE 892910 HITS: 16708 _____________________________________\n",
      "00h 00m 16s :::: BUCLE OPINIONES: 800000 DE 892910 HITS: 21586 _____________________________________\n",
      "00h 01m 13s ____ FIN FUNCIÓN ANALIZE_WORDSET _______________________________________________________\n",
      "00h 00m 00s ____ INICIO FUNCIÓN ANALIZE_WORDSET ____________________________________________________\n",
      "00h 00m 00s :::: WORDSET A ANALIZAR: Sentimiento (NEG) _____________________________________________\n",
      "00h 00m 00s :::: BUCLE OPINIONES: 0 DE 892910 HITS: 0 ______________________________________________\n",
      "00h 00m 18s :::: BUCLE OPINIONES: 200000 DE 892910 HITS: 12783 _____________________________________\n",
      "00h 00m 19s :::: BUCLE OPINIONES: 400000 DE 892910 HITS: 26598 _____________________________________\n",
      "00h 00m 19s :::: BUCLE OPINIONES: 600000 DE 892910 HITS: 40636 _____________________________________\n",
      "00h 00m 18s :::: BUCLE OPINIONES: 800000 DE 892910 HITS: 54088 _____________________________________\n",
      "00h 01m 25s ____ FIN FUNCIÓN ANALIZE_WORDSET _______________________________________________________\n",
      "00h 23m 07s ____ FIN BUCLE ANALIZE _________________________________________________________________\n"
     ]
    }
   ],
   "source": [
    "lista_resultados_analize = []\n",
    "t = utils.calcula_y_muestra_tiempos('INICIO BUCLE ANALIZE', timestamps=[])\n",
    "for topic_name in topics_names:\n",
    "    res_fil, res_agg = utils.analize_wordset(odf, th.get_topic_by_name(topics, topic_name), False)\n",
    "    print()\n",
    "    lista_resultados_analize.append({'name':topic_name, 'resultados': res_fil, 'agregados': res_agg})\n",
    "utils.calcula_y_muestra_tiempos('FIN BUCLE ANALIZE', timestamps=t)"
   ]
  },
  {
   "cell_type": "code",
   "execution_count": 37,
   "metadata": {},
   "outputs": [
    {
     "name": "stdout",
     "output_type": "stream",
     "text": [
      "00h 00m 00s ____ INICIO FUNCIÓN ANALIZE_WORDSET_OCCURRENCES ________________________________________\n",
      "00h 00m 00s :::: SE PROCEDE A ANALIZAR EL WORDSET Funcionamiento (POS) _____________________________\n",
      "00h 00m 00s :::: BUCLE: 0 de 83675 _________________________________________________________________\n",
      "00h 00m 10s :::: BUCLE: 20000 de 83675 _____________________________________________________________\n",
      "00h 00m 10s :::: BUCLE: 40000 de 83675 _____________________________________________________________\n",
      "00h 00m 10s :::: BUCLE: 60000 de 83675 _____________________________________________________________\n",
      "00h 00m 10s :::: BUCLE: 80000 de 83675 _____________________________________________________________\n",
      "00h 00m 01s :::: SE PROCEDE A ANALIZAR EL WORDSET Funcionamiento (NEG) _____________________________\n",
      "00h 00m 00s :::: BUCLE: 0 de 45166 _________________________________________________________________\n",
      "00h 00m 10s :::: BUCLE: 20000 de 45166 _____________________________________________________________\n",
      "00h 00m 10s :::: BUCLE: 40000 de 45166 _____________________________________________________________\n",
      "00h 00m 02s :::: SE PROCEDE A ANALIZAR EL WORDSET Características (POS) ____________________________\n",
      "00h 00m 00s :::: BUCLE: 0 de 60542 _________________________________________________________________\n",
      "00h 00m 10s :::: BUCLE: 20000 de 60542 _____________________________________________________________\n",
      "00h 00m 10s :::: BUCLE: 40000 de 60542 _____________________________________________________________\n",
      "00h 00m 10s :::: BUCLE: 60000 de 60542 _____________________________________________________________\n",
      "00h 00m 00s :::: SE PROCEDE A ANALIZAR EL WORDSET Características (NEG) ____________________________\n",
      "00h 00m 00s :::: BUCLE: 0 de 90708 _________________________________________________________________\n",
      "00h 00m 11s :::: BUCLE: 20000 de 90708 _____________________________________________________________\n",
      "00h 00m 10s :::: BUCLE: 40000 de 90708 _____________________________________________________________\n",
      "00h 00m 10s :::: BUCLE: 60000 de 90708 _____________________________________________________________\n",
      "00h 00m 10s :::: BUCLE: 80000 de 90708 _____________________________________________________________\n",
      "00h 00m 05s :::: SE PROCEDE A ANALIZAR EL WORDSET Comodidad/Sencillez (POS) ________________________\n",
      "00h 00m 00s :::: BUCLE: 0 de 37730 _________________________________________________________________\n",
      "00h 00m 10s :::: BUCLE: 20000 de 37730 _____________________________________________________________\n",
      "00h 00m 09s :::: SE PROCEDE A ANALIZAR EL WORDSET Comodidad/Sencillez (NEG) ________________________\n",
      "00h 00m 00s :::: BUCLE: 0 de 38626 _________________________________________________________________\n",
      "00h 00m 10s :::: BUCLE: 20000 de 38626 _____________________________________________________________\n",
      "00h 00m 10s :::: SE PROCEDE A ANALIZAR EL WORDSET Producto incorrecto ______________________________\n",
      "00h 00m 00s :::: BUCLE: 0 de 10540 _________________________________________________________________\n",
      "00h 00m 05s :::: SE PROCEDE A ANALIZAR EL WORDSET Referencia a opiniones ___________________________\n",
      "00h 00m 00s :::: BUCLE: 0 de 74169 _________________________________________________________________\n",
      "00h 00m 10s :::: BUCLE: 20000 de 74169 _____________________________________________________________\n",
      "00h 00m 10s :::: BUCLE: 40000 de 74169 _____________________________________________________________\n",
      "00h 00m 10s :::: BUCLE: 60000 de 74169 _____________________________________________________________\n",
      "00h 00m 07s :::: SE PROCEDE A ANALIZAR EL WORDSET Envío/entrega/packaging (POS) ____________________\n",
      "00h 00m 00s :::: BUCLE: 0 de 6273 __________________________________________________________________\n",
      "00h 00m 03s :::: SE PROCEDE A ANALIZAR EL WORDSET Envío/entrega/packaging (NEG) ____________________\n",
      "00h 00m 00s :::: BUCLE: 0 de 1580 __________________________________________________________________\n",
      "00h 00m 00s :::: SE PROCEDE A ANALIZAR EL WORDSET Devolución/Postventa (POS) _______________________\n",
      "00h 00m 00s :::: BUCLE: 0 de 4067 __________________________________________________________________\n",
      "00h 00m 02s :::: SE PROCEDE A ANALIZAR EL WORDSET Devolución/Postventa (NEG) _______________________\n",
      "00h 00m 00s :::: BUCLE: 0 de 610 ___________________________________________________________________\n",
      "00h 00m 00s :::: SE PROCEDE A ANALIZAR EL WORDSET Precio ___________________________________________\n",
      "00h 00m 00s :::: BUCLE: 0 de 175675 ________________________________________________________________\n",
      "00h 00m 11s :::: BUCLE: 20000 de 175675 ____________________________________________________________\n",
      "00h 00m 10s :::: BUCLE: 40000 de 175675 ____________________________________________________________\n",
      "00h 00m 11s :::: BUCLE: 60000 de 175675 ____________________________________________________________\n",
      "00h 00m 11s :::: BUCLE: 80000 de 175675 ____________________________________________________________\n",
      "00h 00m 11s :::: BUCLE: 100000 de 175675 ___________________________________________________________\n",
      "00h 00m 11s :::: BUCLE: 120000 de 175675 ___________________________________________________________\n",
      "00h 00m 11s :::: BUCLE: 140000 de 175675 ___________________________________________________________\n",
      "00h 00m 10s :::: BUCLE: 160000 de 175675 ___________________________________________________________\n",
      "00h 00m 08s :::: SE PROCEDE A ANALIZAR EL WORDSET Sentimiento (POS) ________________________________\n",
      "00h 00m 00s :::: BUCLE: 0 de 23778 _________________________________________________________________\n",
      "00h 00m 10s :::: BUCLE: 20000 de 23778 _____________________________________________________________\n",
      "00h 00m 01s :::: SE PROCEDE A ANALIZAR EL WORDSET Sentimiento (NEG) ________________________________\n",
      "00h 00m 00s :::: BUCLE: 0 de 60355 _________________________________________________________________\n",
      "00h 00m 10s :::: BUCLE: 20000 de 60355 _____________________________________________________________\n",
      "00h 00m 10s :::: BUCLE: 40000 de 60355 _____________________________________________________________\n",
      "00h 00m 10s :::: BUCLE: 60000 de 60355 _____________________________________________________________\n"
     ]
    },
    {
     "data": {
      "image/png": "[encoded data removed]",
      "text/plain": [
       "<Figure size 432x288 with 1 Axes>"
      ]
     },
     "metadata": {
      "needs_background": "light"
     },
     "output_type": "display_data"
    },
    {
     "name": "stdout",
     "output_type": "stream",
     "text": [
      "La ocupación parcial es del 52%\n",
      "La ocupación total es del 11%\n",
      "00h 06m 28s ____ FIN FUNCIÓN ANALIZE_WORDSET_OCCURRENCES ___________________________________________\n"
     ]
    }
   ],
   "source": [
    "mat_doc_ws, mat_doc_ws_agg = utils.analize_wordset_occurrences(odf, lista_resultados_analize)"
   ]
  },
  {
   "cell_type": "markdown",
   "metadata": {},
   "source": [
    "Vemos el porcentaje de opiniones sobre las que hemos conseguido al menos un hit. Se muestra un histograma donde se lee cuántas opiniones tratan qué cantidad de temas.\n",
    "\n",
    "Hay que destacar que los resultados que se han obtenido, y que se seguirán obteniendo en esta sección, se han cosechado con una metodología en base a palabras clave. Esto quiere decir que los resultados solo muestran aquellos hits que pueden producirse con esta estrategia y hay que tener esto en cuenta durante la interpretación.\n",
    "\n",
    "Una consecuencia posible del uso de esta técnica es, por ejemplo, que algunos temas estén muy poblados debido a que hay una expresión muy recurrente y muy propia de cierto tema. En el contexto del análisis de texto siempre hay múltiples maneras de expresar un mismo concepto, pero no todas las maneras son detectables mediante el uso de keywords. Considero, de todos modos, que los resultados obtenidos son acorde con lo que se espera y, por tanto, interpreto que el algoritmo analize es  efectivo en su propósito. El porcentaje de opiniones que quedan por asociar a un tema, así como las opinones en las que se han detectado menos temas de los que realmente deberían haberse detectado, es achacable a formas de expresar conceptos que no son detectables mediante keywords."
   ]
  },
  {
   "cell_type": "markdown",
   "metadata": {},
   "source": [
    "Antes de explorar las relaciones entre los distintos temas, veamos la distribución de puntuaciones que tiene cada uno de los temas:"
   ]
  },
  {
   "cell_type": "code",
   "execution_count": 38,
   "metadata": {
    "scrolled": false
   },
   "outputs": [
    {
     "data": {
      "image/png": "[encoded data removed]",
      "text/plain": [
       "<Figure size 432x288 with 1 Axes>"
      ]
     },
     "metadata": {
      "needs_background": "light"
     },
     "output_type": "display_data"
    },
    {
     "data": {
      "image/png": "[encoded data removed]",
      "text/plain": [
       "<Figure size 432x288 with 1 Axes>"
      ]
     },
     "metadata": {
      "needs_background": "light"
     },
     "output_type": "display_data"
    },
    {
     "data": {
      "image/png": "[encoded data removed]",
      "text/plain": [
       "<Figure size 432x288 with 1 Axes>"
      ]
     },
     "metadata": {
      "needs_background": "light"
     },
     "output_type": "display_data"
    },
    {
     "data": {
      "image/png": "[encoded data removed]",
      "text/plain": [
       "<Figure size 432x288 with 1 Axes>"
      ]
     },
     "metadata": {
      "needs_background": "light"
     },
     "output_type": "display_data"
    },
    {
     "data": {
      "image/png": "[encoded data removed]",
      "text/plain": [
       "<Figure size 432x288 with 1 Axes>"
      ]
     },
     "metadata": {
      "needs_background": "light"
     },
     "output_type": "display_data"
    },
    {
     "data": {
      "image/png": "[encoded data removed]",
      "text/plain": [
       "<Figure size 432x288 with 1 Axes>"
      ]
     },
     "metadata": {
      "needs_background": "light"
     },
     "output_type": "display_data"
    },
    {
     "data": {
      "image/png": "[encoded data removed]",
      "text/plain": [
       "<Figure size 432x288 with 1 Axes>"
      ]
     },
     "metadata": {
      "needs_background": "light"
     },
     "output_type": "display_data"
    },
    {
     "data": {
      "image/png": "[encoded data removed]",
      "text/plain": [
       "<Figure size 432x288 with 1 Axes>"
      ]
     },
     "metadata": {
      "needs_background": "light"
     },
     "output_type": "display_data"
    },
    {
     "data": {
      "image/png": "[encoded data removed]",
      "text/plain": [
       "<Figure size 432x288 with 1 Axes>"
      ]
     },
     "metadata": {
      "needs_background": "light"
     },
     "output_type": "display_data"
    },
    {
     "data": {
      "image/png": "[encoded data removed]",
      "text/plain": [
       "<Figure size 432x288 with 1 Axes>"
      ]
     },
     "metadata": {
      "needs_background": "light"
     },
     "output_type": "display_data"
    },
    {
     "data": {
      "image/png": "[encoded data removed]",
      "text/plain": [
       "<Figure size 432x288 with 1 Axes>"
      ]
     },
     "metadata": {
      "needs_background": "light"
     },
     "output_type": "display_data"
    },
    {
     "data": {
      "image/png": "[encoded data removed]",
      "text/plain": [
       "<Figure size 432x288 with 1 Axes>"
      ]
     },
     "metadata": {
      "needs_background": "light"
     },
     "output_type": "display_data"
    },
    {
     "data": {
      "image/png": "[encoded data removed]",
      "text/plain": [
       "<Figure size 432x288 with 1 Axes>"
      ]
     },
     "metadata": {
      "needs_background": "light"
     },
     "output_type": "display_data"
    },
    {
     "data": {
      "image/png": "[encoded data removed]",
      "text/plain": [
       "<Figure size 432x288 with 1 Axes>"
      ]
     },
     "metadata": {
      "needs_background": "light"
     },
     "output_type": "display_data"
    },
    {
     "data": {
      "image/png": "[encoded data removed]",
      "text/plain": [
       "<Figure size 432x288 with 1 Axes>"
      ]
     },
     "metadata": {
      "needs_background": "light"
     },
     "output_type": "display_data"
    }
   ],
   "source": [
    "for item in lista_resultados_analize:\n",
    "    utils.print_simple_histogram(item['agregados']['doc_number'], title=item['name'])"
   ]
  },
  {
   "cell_type": "markdown",
   "metadata": {},
   "source": [
    "En los anteriores histogramas vemos con mucha claridad las tendencias de cada tema. Por ejemplo, para el primer tema, Funcionamiento (POS), se observa una clara tendencia hacia opiniones de puntuaciones altas. Por contra, en el tema Funcionamiento (NEG) se ve que la mayoría de opiniones que comentan aspectos negativos del funcionamiento son de puntuaciones bajas. Se pueden explorar todos los gráficos y ver cómo en algunos casos las tendencias son muy claras y en otros no lo son tanto, dando lugar a interpretar que no todos los temas son igual de críticos."
   ]
  },
  {
   "cell_type": "markdown",
   "metadata": {},
   "source": [
    "La primera pregunta que vamos a tratar de responder es: ¿de qué manera se relacionan las opiniones, los temas y las puntuaciones?\n",
    "\n",
    "Para ello, vamos a realizar una representación de tipo red, donde cada nodo es o bien una opinión o bien un tema y cada arista une una opinión con un tema, pudiendo haber varias aristas uniendo una opinión con varios nodos. El color de las aristas representará la puntuación.\n",
    "\n",
    "El tiempo de respuesta de representar todas las opiniones individualmente es inaceptable, además de que se trata de una cantidad muy elevada y el resultado es un gráfico en el que no se aprecia apenas nada. Para solucionar este inconveniente, la representación se modifica de manera que se agrupan todas las opiniones equivalentes y todas ellas generan un solo nodo (el nodo en sí se muestra con un tamaño cero, pues lo interesante son las aristas). Las opiniones equivalentes son todas aquellas que son de la misma puntuación y tienen los mismos hits. El tamaño (grosor) de las aristas es proporcional al número de opiniones equivalentes que contienen los nodos.\n",
    "\n",
    "Veamos el aspecto:"
   ]
  },
  {
   "cell_type": "code",
   "execution_count": 39,
   "metadata": {},
   "outputs": [],
   "source": [
    "#utils.visualize_wordsets_network_6(mat_doc_ws, group_size=1000, k=0.3, ratings='F')"
   ]
  },
  {
   "cell_type": "markdown",
   "metadata": {},
   "source": [
    "También puede verse por puntuación. Veamos las 5:"
   ]
  },
  {
   "cell_type": "code",
   "execution_count": 40,
   "metadata": {},
   "outputs": [],
   "source": [
    "#utils.visualize_wordsets_network_6(mat_doc_ws, group_size=500, k=0.3, ratings=[5])"
   ]
  },
  {
   "cell_type": "code",
   "execution_count": 41,
   "metadata": {},
   "outputs": [],
   "source": [
    "#utils.visualize_wordsets_network_6(mat_doc_ws, group_size=500, k=0.3, ratings=[4])"
   ]
  },
  {
   "cell_type": "code",
   "execution_count": 42,
   "metadata": {},
   "outputs": [],
   "source": [
    "#utils.visualize_wordsets_network_6(mat_doc_ws, group_size=500, k=0.3, ratings=[3])"
   ]
  },
  {
   "cell_type": "code",
   "execution_count": 43,
   "metadata": {},
   "outputs": [],
   "source": [
    "#utils.visualize_wordsets_network_6(mat_doc_ws, group_size=500, k=0.3, ratings=[2])"
   ]
  },
  {
   "cell_type": "code",
   "execution_count": 44,
   "metadata": {},
   "outputs": [],
   "source": [
    "#utils.visualize_wordsets_network_6(mat_doc_ws, group_size=500, k=0.3, ratings=[1])"
   ]
  },
  {
   "cell_type": "markdown",
   "metadata": {},
   "source": [
    "Ya hemos observado qué aspecto tienen las relaciones. Se observan algunos temas muy unidos, especialmente para algunos rangos de puntuación, y otros menos."
   ]
  },
  {
   "cell_type": "markdown",
   "metadata": {},
   "source": [
    "La segunda pregunta que nos planteamos es ¿cómo de enlazados están los temas?. Ya se ha visto en las representaciones de red, pero veámoslo de forma cuantitativa y clara.\n",
    "\n",
    "A continuación vemos la \"matriz de compartición\". Su objetivo es mostrar cuántas opiniones tienen en común un par de temas dado. La escala, con valores menores que la unidad, indica el porcentaje de opiniones que comparte. Naturalmente, el porcentaje de una pareja de temas no es simétrico, pues cada tema genera un volument total de hits distinto. Por ese motivo se muestra el valor medio de cada pareja."
   ]
  },
  {
   "cell_type": "code",
   "execution_count": 45,
   "metadata": {
    "scrolled": false
   },
   "outputs": [
    {
     "data": {
      "image/png": "[encoded data removed]",
      "text/plain": [
       "<Figure size 432x288 with 2 Axes>"
      ]
     },
     "metadata": {
      "needs_background": "light"
     },
     "output_type": "display_data"
    }
   ],
   "source": [
    "sm = utils.get_sharing_matrix_2(mat_doc_ws)"
   ]
  },
  {
   "cell_type": "markdown",
   "metadata": {},
   "source": [
    "Para evitar que la diagonal eleve a 1 el máximo de la escala de color, he eliminado la diagonal, así se perciben mejor las diferencias de color entre las celdas. Incluso con estas modificaciones sigue siendo evidente el hecho de que algunos temas son más sencillos de identificar que otros, como por ejemplo el tema del precio"
   ]
  },
  {
   "cell_type": "markdown",
   "metadata": {},
   "source": [
    "En la celda siguiente representamos la cantidad de opiniones por tema y rating. Debe leerse en horizontal, pues la matriz se ha normalizado para cada tema."
   ]
  },
  {
   "cell_type": "code",
   "execution_count": 46,
   "metadata": {},
   "outputs": [
    {
     "data": {
      "image/png": "[encoded data removed]",
      "text/plain": [
       "<Figure size 432x288 with 2 Axes>"
      ]
     },
     "metadata": {
      "needs_background": "light"
     },
     "output_type": "display_data"
    }
   ],
   "source": [
    "utils.print_topic_heatmaps(mat_doc_ws)"
   ]
  },
  {
   "cell_type": "markdown",
   "metadata": {},
   "source": [
    "En realidad, este heatmap es equivalente a representar, en un mismo espacio, cada uno de los histogramas que ya hemos visto más arriba, pintados por la función analize."
   ]
  },
  {
   "cell_type": "markdown",
   "metadata": {},
   "source": [
    "El siguiente heatmap se lee en vertical. Muestra, por cada puntuación, cuántos hits ha generado cada tema (normalizado por puntuación)."
   ]
  },
  {
   "cell_type": "code",
   "execution_count": 47,
   "metadata": {},
   "outputs": [
    {
     "data": {
      "image/png": "[encoded data removed]",
      "text/plain": [
       "<Figure size 432x288 with 2 Axes>"
      ]
     },
     "metadata": {
      "needs_background": "light"
     },
     "output_type": "display_data"
    }
   ],
   "source": [
    "utils.print_rating_heatmaps(mat_doc_ws)"
   ]
  },
  {
   "cell_type": "markdown",
   "metadata": {},
   "source": [
    "A continuación mostramos las 10 combinaciones más frecuentes."
   ]
  },
  {
   "cell_type": "code",
   "execution_count": 48,
   "metadata": {
    "scrolled": true
   },
   "outputs": [
    {
     "data": {
      "text/html": [
       "<div>\n",
       "<style scoped>\n",
       "    .dataframe tbody tr th:only-of-type {\n",
       "        vertical-align: middle;\n",
       "    }\n",
       "\n",
       "    .dataframe tbody tr th {\n",
       "        vertical-align: top;\n",
       "    }\n",
       "\n",
       "    .dataframe thead th {\n",
       "        text-align: right;\n",
       "    }\n",
       "</style>\n",
       "<table border=\"1\" class=\"dataframe\">\n",
       "  <thead>\n",
       "    <tr style=\"text-align: right;\">\n",
       "      <th></th>\n",
       "      <th>Núm. de hits</th>\n",
       "      <th>1</th>\n",
       "      <th>2</th>\n",
       "      <th>10</th>\n",
       "      <th>11</th>\n",
       "      <th>12</th>\n",
       "    </tr>\n",
       "  </thead>\n",
       "  <tbody>\n",
       "    <tr>\n",
       "      <th>1446</th>\n",
       "      <td>9181.0</td>\n",
       "      <td>Funcionamiento (POS)</td>\n",
       "      <td>Precio</td>\n",
       "      <td>None</td>\n",
       "      <td>None</td>\n",
       "      <td>None</td>\n",
       "    </tr>\n",
       "    <tr>\n",
       "      <th>49</th>\n",
       "      <td>8858.0</td>\n",
       "      <td>Referencia a opiniones</td>\n",
       "      <td>Precio</td>\n",
       "      <td>None</td>\n",
       "      <td>None</td>\n",
       "      <td>None</td>\n",
       "    </tr>\n",
       "    <tr>\n",
       "      <th>346</th>\n",
       "      <td>8842.0</td>\n",
       "      <td>Características (NEG)</td>\n",
       "      <td>Precio</td>\n",
       "      <td>None</td>\n",
       "      <td>None</td>\n",
       "      <td>None</td>\n",
       "    </tr>\n",
       "    <tr>\n",
       "      <th>561</th>\n",
       "      <td>8101.0</td>\n",
       "      <td>Características (POS)</td>\n",
       "      <td>Precio</td>\n",
       "      <td>None</td>\n",
       "      <td>None</td>\n",
       "      <td>None</td>\n",
       "    </tr>\n",
       "    <tr>\n",
       "      <th>1069</th>\n",
       "      <td>5412.0</td>\n",
       "      <td>Funcionamiento (NEG)</td>\n",
       "      <td>Características (NEG)</td>\n",
       "      <td>None</td>\n",
       "      <td>None</td>\n",
       "      <td>None</td>\n",
       "    </tr>\n",
       "    <tr>\n",
       "      <th>1</th>\n",
       "      <td>4736.0</td>\n",
       "      <td>Precio</td>\n",
       "      <td>Sentimiento (NEG)</td>\n",
       "      <td>None</td>\n",
       "      <td>None</td>\n",
       "      <td>None</td>\n",
       "    </tr>\n",
       "    <tr>\n",
       "      <th>740</th>\n",
       "      <td>4299.0</td>\n",
       "      <td>Características (POS)</td>\n",
       "      <td>Características (NEG)</td>\n",
       "      <td>None</td>\n",
       "      <td>None</td>\n",
       "      <td>None</td>\n",
       "    </tr>\n",
       "    <tr>\n",
       "      <th>2</th>\n",
       "      <td>3644.0</td>\n",
       "      <td>Precio</td>\n",
       "      <td>Sentimiento (POS)</td>\n",
       "      <td>None</td>\n",
       "      <td>None</td>\n",
       "      <td>None</td>\n",
       "    </tr>\n",
       "    <tr>\n",
       "      <th>46</th>\n",
       "      <td>3479.0</td>\n",
       "      <td>Referencia a opiniones</td>\n",
       "      <td>Sentimiento (NEG)</td>\n",
       "      <td>None</td>\n",
       "      <td>None</td>\n",
       "      <td>None</td>\n",
       "    </tr>\n",
       "    <tr>\n",
       "      <th>343</th>\n",
       "      <td>3419.0</td>\n",
       "      <td>Características (NEG)</td>\n",
       "      <td>Sentimiento (NEG)</td>\n",
       "      <td>None</td>\n",
       "      <td>None</td>\n",
       "      <td>None</td>\n",
       "    </tr>\n",
       "  </tbody>\n",
       "</table>\n",
       "</div>"
      ],
      "text/plain": [
       "      Núm. de hits                       1                      2    10    11  \\\n",
       "1446        9181.0    Funcionamiento (POS)                 Precio  None  None   \n",
       "49          8858.0  Referencia a opiniones                 Precio  None  None   \n",
       "346         8842.0   Características (NEG)                 Precio  None  None   \n",
       "561         8101.0   Características (POS)                 Precio  None  None   \n",
       "1069        5412.0    Funcionamiento (NEG)  Características (NEG)  None  None   \n",
       "1           4736.0                  Precio      Sentimiento (NEG)  None  None   \n",
       "740         4299.0   Características (POS)  Características (NEG)  None  None   \n",
       "2           3644.0                  Precio      Sentimiento (POS)  None  None   \n",
       "46          3479.0  Referencia a opiniones      Sentimiento (NEG)  None  None   \n",
       "343         3419.0   Características (NEG)      Sentimiento (NEG)  None  None   \n",
       "\n",
       "        12  \n",
       "1446  None  \n",
       "49    None  \n",
       "346   None  \n",
       "561   None  \n",
       "1069  None  \n",
       "1     None  \n",
       "740   None  \n",
       "2     None  \n",
       "46    None  \n",
       "343   None  "
      ]
     },
     "execution_count": 48,
     "metadata": {},
     "output_type": "execute_result"
    }
   ],
   "source": [
    "utils.get_popular_topic_combinations(mat_doc_ws_agg, utils.get_wordsets_names(mat_doc_ws))"
   ]
  },
  {
   "cell_type": "markdown",
   "metadata": {},
   "source": [
    "En la tabla anterior se recoge el top 10 de combinaciones frecuentes. Este es un punto en el que puede verse muy claro el efecto de emplear palabras clave para generar hits."
   ]
  },
  {
   "cell_type": "markdown",
   "metadata": {},
   "source": [
    "A continuación comparamos las puntuaciones de aquellas opiniones que sí tratan un tema vs aquellas opiniones que no lo tratan. El color representa la puntuación media de las opiniones. La columna de No Hit, es decir las opiniones que no tratan del tema, la vemos muy pálida. Esto es porque, para cada tema, la mayoría de opiniones no tratan de él, por lo que la columna No Hit tiene un color muy próximo a la puntuación media."
   ]
  },
  {
   "cell_type": "code",
   "execution_count": 49,
   "metadata": {},
   "outputs": [
    {
     "data": {
      "image/png": "[encoded data removed]",
      "text/plain": [
       "<Figure size 432x288 with 2 Axes>"
      ]
     },
     "metadata": {
      "needs_background": "light"
     },
     "output_type": "display_data"
    }
   ],
   "source": [
    "utils.print_statistics_by_topic_heatmap_rating_value(mat_doc_ws)"
   ]
  },
  {
   "cell_type": "markdown",
   "metadata": {},
   "source": [
    "El siguiente heatmap es complementario al anterior. Se visualiza la dispersión en las puntuaciones de cada tema."
   ]
  },
  {
   "cell_type": "code",
   "execution_count": 50,
   "metadata": {},
   "outputs": [
    {
     "data": {
      "image/png": "[encoded data removed]",
      "text/plain": [
       "<Figure size 432x288 with 2 Axes>"
      ]
     },
     "metadata": {
      "needs_background": "light"
     },
     "output_type": "display_data"
    }
   ],
   "source": [
    "utils.print_statistics_by_topic_heatmap_rating_sd(mat_doc_ws)"
   ]
  },
  {
   "cell_type": "markdown",
   "metadata": {},
   "source": [
    "Por último veamos cómo responde el comprador a cada tema. El objetivo es ver cómo penaliza/beneficia cada tema."
   ]
  },
  {
   "cell_type": "code",
   "execution_count": 51,
   "metadata": {},
   "outputs": [
    {
     "data": {
      "text/html": [
       "<div>\n",
       "<style scoped>\n",
       "    .dataframe tbody tr th:only-of-type {\n",
       "        vertical-align: middle;\n",
       "    }\n",
       "\n",
       "    .dataframe tbody tr th {\n",
       "        vertical-align: top;\n",
       "    }\n",
       "\n",
       "    .dataframe thead th {\n",
       "        text-align: right;\n",
       "    }\n",
       "</style>\n",
       "<table border=\"1\" class=\"dataframe\">\n",
       "  <thead>\n",
       "    <tr style=\"text-align: right;\">\n",
       "      <th></th>\n",
       "      <th>Tema</th>\n",
       "      <th>Coef. Respuesta</th>\n",
       "    </tr>\n",
       "  </thead>\n",
       "  <tbody>\n",
       "    <tr>\n",
       "      <th>13</th>\n",
       "      <td>Sentimiento (POS)</td>\n",
       "      <td>0.106</td>\n",
       "    </tr>\n",
       "    <tr>\n",
       "      <th>8</th>\n",
       "      <td>Envío/entrega/packaging (POS)</td>\n",
       "      <td>0.089</td>\n",
       "    </tr>\n",
       "    <tr>\n",
       "      <th>0</th>\n",
       "      <td>Funcionamiento (POS)</td>\n",
       "      <td>0.070</td>\n",
       "    </tr>\n",
       "    <tr>\n",
       "      <th>2</th>\n",
       "      <td>Características (POS)</td>\n",
       "      <td>0.048</td>\n",
       "    </tr>\n",
       "    <tr>\n",
       "      <th>4</th>\n",
       "      <td>Comodidad/Sencillez (POS)</td>\n",
       "      <td>0.019</td>\n",
       "    </tr>\n",
       "    <tr>\n",
       "      <th>12</th>\n",
       "      <td>Precio</td>\n",
       "      <td>0.016</td>\n",
       "    </tr>\n",
       "    <tr>\n",
       "      <th>5</th>\n",
       "      <td>Comodidad/Sencillez (NEG)</td>\n",
       "      <td>-0.032</td>\n",
       "    </tr>\n",
       "    <tr>\n",
       "      <th>10</th>\n",
       "      <td>Devolución/Postventa (POS)</td>\n",
       "      <td>-0.032</td>\n",
       "    </tr>\n",
       "    <tr>\n",
       "      <th>7</th>\n",
       "      <td>Referencia a opiniones</td>\n",
       "      <td>-0.034</td>\n",
       "    </tr>\n",
       "    <tr>\n",
       "      <th>6</th>\n",
       "      <td>Producto incorrecto</td>\n",
       "      <td>-0.058</td>\n",
       "    </tr>\n",
       "    <tr>\n",
       "      <th>3</th>\n",
       "      <td>Características (NEG)</td>\n",
       "      <td>-0.064</td>\n",
       "    </tr>\n",
       "    <tr>\n",
       "      <th>9</th>\n",
       "      <td>Envío/entrega/packaging (NEG)</td>\n",
       "      <td>-0.072</td>\n",
       "    </tr>\n",
       "    <tr>\n",
       "      <th>1</th>\n",
       "      <td>Funcionamiento (NEG)</td>\n",
       "      <td>-0.108</td>\n",
       "    </tr>\n",
       "    <tr>\n",
       "      <th>14</th>\n",
       "      <td>Sentimiento (NEG)</td>\n",
       "      <td>-0.113</td>\n",
       "    </tr>\n",
       "    <tr>\n",
       "      <th>11</th>\n",
       "      <td>Devolución/Postventa (NEG)</td>\n",
       "      <td>-0.121</td>\n",
       "    </tr>\n",
       "  </tbody>\n",
       "</table>\n",
       "</div>"
      ],
      "text/plain": [
       "                             Tema  Coef. Respuesta\n",
       "13              Sentimiento (POS)            0.106\n",
       "8   Envío/entrega/packaging (POS)            0.089\n",
       "0            Funcionamiento (POS)            0.070\n",
       "2           Características (POS)            0.048\n",
       "4       Comodidad/Sencillez (POS)            0.019\n",
       "12                         Precio            0.016\n",
       "5       Comodidad/Sencillez (NEG)           -0.032\n",
       "10     Devolución/Postventa (POS)           -0.032\n",
       "7          Referencia a opiniones           -0.034\n",
       "6             Producto incorrecto           -0.058\n",
       "3           Características (NEG)           -0.064\n",
       "9   Envío/entrega/packaging (NEG)           -0.072\n",
       "1            Funcionamiento (NEG)           -0.108\n",
       "14              Sentimiento (NEG)           -0.113\n",
       "11     Devolución/Postventa (NEG)           -0.121"
      ]
     },
     "execution_count": 51,
     "metadata": {},
     "output_type": "execute_result"
    }
   ],
   "source": [
    "utils.get_respuesta_comprador(lista_resultados_analize, mat_doc_ws)"
   ]
  },
  {
   "cell_type": "markdown",
   "metadata": {},
   "source": [
    "El objetivo de esta tabla es doble. Por un lado, ver a qué temas responde mejor el comprador, en términos de rating, y cuáles penalizan más. Por otro lado, en aquellos temas dobles (los que tienen su versión positiva y su versión negativa) ver si está mejor recompensada la versión positiva o si penaliza más la versión negativa.\n",
    "\n",
    "Si descartamos los sentimientos, que no son temas per se, vemos que el tema mejor recompensado es el que refiere a Envío/entrega/packagin, incluso por encima del buen funcionamiento.\n",
    "\n",
    "Por la parte negativa, observamos que un mal servicio postventa es el tema que más penaliza, incluso más que un mal funciomaniento, probablemente debido a que un un consumidor que se ve obligado a hacer uso del servicio postventa no admite que este le suponga una mala experiencia."
   ]
  },
  {
   "cell_type": "markdown",
   "metadata": {},
   "source": [
    "### Conclusiones del análisis"
   ]
  },
  {
   "cell_type": "markdown",
   "metadata": {},
   "source": [
    "El análisis realizado ha extraído información de los datos originales, desestructurados, permitiendo su interpretación. A lo largo de las secciones anteriore se han ido extrayendo conclusiones. A continuación vamos a resumirlas.\n",
    "\n",
    "* Los usuarios tienden a emitir puntuaciones altas, sobre todo de 5 estrellas.\n",
    "* En general, los productos tienen unas pocas opiniones (del orden de una decena), aunque hay algunos pocos productos que cuentan con miles de opiniones.\n",
    "* Los usuarios suelen publicar pocas opiniones, si bien hay algunos que cuentan con cientos de ellas.\n",
    "* La longitud de las opiniones está relacionada con la puntuación de las mismas. Las opiniones 5 estrellas son notablemente más cortas que el resto. La interpretación es la siguiente: los usuarios que están muy satisfechos con su compra no necesitan dar muchos detalles ni comentar sobre muchos elementos. Del mismo modo, los usuarios que están muy insatisfechos (opiniones de 1 estrella) tampoco invierten tiempo en ello. Las puntuaciones intermedias se corresponden con opiniones más largas."
   ]
  },
  {
   "cell_type": "markdown",
   "metadata": {},
   "source": [
    "# Predicción de puntuaciones"
   ]
  },
  {
   "cell_type": "markdown",
   "metadata": {},
   "source": [
    "En esta parte del trabajo se va a realizar la predicción de la puntuación de las opiniones y comparar varias estrategias.\n",
    "\n",
    "En primer lugar vamos a predecir las puntuaciones en base al texto, empleando un clasificador de tipo CART (RandomForestClassifier) y apoyándonos en el objeto CountVectorizer para el encoding."
   ]
  },
  {
   "cell_type": "markdown",
   "metadata": {},
   "source": [
    "## Sobre el texto, usando RandomForest"
   ]
  },
  {
   "cell_type": "code",
   "execution_count": 52,
   "metadata": {},
   "outputs": [],
   "source": [
    "#clf_model_texto = RandomForestClassifier(n_estimators=10)\n",
    "clf_model_texto = DecisionTreeClassifier()\n",
    "cv = CountVectorizer()\n",
    "X_texto = cv.fit_transform(odf['text'])\n",
    "y_texto = utils.map_rating(odf['rating'])"
   ]
  },
  {
   "cell_type": "markdown",
   "metadata": {},
   "source": [
    "Procedemos a generar dos conjuntos, uno de entrenamiento y otro para la validación (test)."
   ]
  },
  {
   "cell_type": "code",
   "execution_count": 53,
   "metadata": {},
   "outputs": [],
   "source": [
    "X_train_texto, X_test_texto, y_train_texto, y_test_texto = train_test_split(X_texto, y_texto, random_state=2020)"
   ]
  },
  {
   "cell_type": "markdown",
   "metadata": {},
   "source": [
    "A continuación se realiza el entrenamiento del modelo."
   ]
  },
  {
   "cell_type": "code",
   "execution_count": 54,
   "metadata": {},
   "outputs": [
    {
     "name": "stdout",
     "output_type": "stream",
     "text": [
      "00h 00m 00s ____ INICIO ENTRENAMIENTO ______________________________________________________________\n",
      "01h 19m 01s ____ FIN ENTRENAMIENTO _________________________________________________________________\n"
     ]
    }
   ],
   "source": [
    "t = utils.calcula_y_muestra_tiempos('INICIO ENTRENAMIENTO', timestamps=[])\n",
    "clf_model_texto.fit(X_train_texto, y_train_texto)\n",
    "utils.calcula_y_muestra_tiempos('FIN ENTRENAMIENTO', timestamps=t)"
   ]
  },
  {
   "cell_type": "markdown",
   "metadata": {},
   "source": [
    "Y a continuación evaluamos los resultado sobre el conjunto de validación.\n",
    "\n",
    "En este escenario, la precisión (accuracy) no parece la métrica más significativa, pues, por la naturaleza del campo objetivo, predecir un 5 cuando la respuesta correcta es 4 no es igual de malo que predecir un 1. Por ello, si bien también calcularemos la precisión, la métrica de referencia será el **error cuadrático medio (RMSE)**.\n",
    "\n",
    "La función evaluar_modelo_reg retorna un gráfico donde podemos ver la distribución de los errores en la predicción. Así, la barra correspondiente al valor 0 muestra las predicciones correctas; la correspondiente al valor 1 muestra las predicciones que son incorrectas por 1 estrella, y así sucesivamente.\n",
    "\n",
    "Además, se imprime el ratio acumulado. Así, vemos que casi un 90% de las predicciones son correctas o bien están erradas por 1 estrella. A esta métrica la llamamos Acc1- (predicciones correctas o erradas por 1 estrella), y es, junto con el error cuadrático medio, la métrica de referencia en este trabajo."
   ]
  },
  {
   "cell_type": "code",
   "execution_count": 55,
   "metadata": {},
   "outputs": [
    {
     "data": {
      "image/png": "[encoded data removed]",
      "text/plain": [
       "<Figure size 432x288 with 1 Axes>"
      ]
     },
     "metadata": {
      "needs_background": "light"
     },
     "output_type": "display_data"
    },
    {
     "name": "stdout",
     "output_type": "stream",
     "text": [
      "Acumulados           Parciales           \n",
      "0: 0.50 (112217)     0: 0.50 (112217)    \n",
      "1: 0.81 (181871)     1: 0.31 (69654)     \n",
      "2: 0.94 (208828)     2: 0.12 (26957)     \n",
      "3: 0.98 (219557)     3: 0.05 (10729)     \n",
      "4: 1.00 (223228)     4: 0.02 (3671)      \n",
      "\n",
      "Accuracy: 0.50\n",
      "Acc1-: 0.81\n",
      "RMSE: 1.22\n"
     ]
    }
   ],
   "source": [
    "utils.evaluar_modelo_reg(clf_model_texto, X_test_texto, y_test_texto)"
   ]
  },
  {
   "cell_type": "markdown",
   "metadata": {},
   "source": [
    "## Sobre los temas, usando RandomForest"
   ]
  },
  {
   "cell_type": "markdown",
   "metadata": {},
   "source": [
    "En este caso vamos a tratar de realizar la predicción basándonos exclusivamente en los temas tratados. Hay que tener en cuenta que, naturalmente, solo podremos realizar esta predicción sobre aquellas opiniones en las que hemos generado algún hit.\n",
    "\n",
    "Previsiblemente, la precisión será menor."
   ]
  },
  {
   "cell_type": "code",
   "execution_count": 56,
   "metadata": {},
   "outputs": [
    {
     "name": "stdout",
     "output_type": "stream",
     "text": [
      "00h 00m 00s ____ INICIO ENTRENAMIENTO ______________________________________________________________\n",
      "00h 00m 17s ____ FIN ENTRENAMIENTO _________________________________________________________________\n"
     ]
    },
    {
     "data": {
      "image/png": "[encoded data removed]",
      "text/plain": [
       "<Figure size 432x288 with 1 Axes>"
      ]
     },
     "metadata": {
      "needs_background": "light"
     },
     "output_type": "display_data"
    },
    {
     "name": "stdout",
     "output_type": "stream",
     "text": [
      "Acumulados           Parciales           \n",
      "0: 0.35 (39964)      0: 0.35 (39964)     \n",
      "1: 0.74 (85048)      1: 0.39 (45084)     \n",
      "2: 0.89 (103046)     2: 0.16 (17998)     \n",
      "3: 0.98 (112616)     3: 0.08 (9570)      \n",
      "4: 1.00 (115453)     4: 0.02 (2837)      \n",
      "\n",
      "Accuracy: 0.35\n",
      "Acc1-: 0.74\n",
      "RMSE: 1.47\n"
     ]
    }
   ],
   "source": [
    "clf_model_temas = RandomForestClassifier()\n",
    "\n",
    "mat_doc_ws_2 = mat_doc_ws[mat_doc_ws['total_wordsets'] > 0]\n",
    "docs_con_tema = list(mat_doc_ws_2.index.values)\n",
    "\n",
    "X_temas = mat_doc_ws_2[topics_names]\n",
    "y_temas = utils.map_rating(mat_doc_ws_2['rating'])\n",
    "\n",
    "X_train_temas, X_test_temas, y_train_temas, y_test_temas = train_test_split(X_temas, y_temas, random_state=2020)\n",
    "t = utils.calcula_y_muestra_tiempos('INICIO ENTRENAMIENTO', timestamps=[])\n",
    "clf_model_temas.fit(X_train_temas, y_train_temas)\n",
    "utils.calcula_y_muestra_tiempos('FIN ENTRENAMIENTO', timestamps=t)\n",
    "\n",
    "utils.evaluar_modelo_reg(clf_model_temas, X_test_temas, y_test_temas)"
   ]
  },
  {
   "cell_type": "markdown",
   "metadata": {},
   "source": [
    "## Sobre el texto, usando LSTM"
   ]
  },
  {
   "cell_type": "code",
   "execution_count": 57,
   "metadata": {},
   "outputs": [],
   "source": [
    "odf_lstm = odf[['text', 'rating_0']]\n",
    "odf_lstm['encoded'] = odf_lstm['text'].apply(lambda x: np.array(utils.encode_sentence_(x, tokens_coded)))\n",
    "\n",
    "X = list(odf_lstm['encoded'])\n",
    "y = list(odf_lstm['rating_0'])\n",
    "\n",
    "X_train, X_valid, y_train, y_valid = train_test_split(X, y, test_size=0.2)\n",
    "train_ds = utils.ReviewsDataset(X_train, y_train)\n",
    "valid_ds = utils.ReviewsDataset(X_valid, y_valid)\n",
    "\n",
    "batch_size = 2000\n",
    "vocab_size = len(tokens_coded)\n",
    "train_dl = DataLoader(train_ds, batch_size=batch_size, shuffle=True)\n",
    "val_dl   = DataLoader(valid_ds, batch_size=batch_size)"
   ]
  },
  {
   "cell_type": "code",
   "execution_count": 58,
   "metadata": {},
   "outputs": [],
   "source": [
    "model = utils.LSTM_fixed_len(vocab_size=vocab_size, embedding_dim=50, hidden_dim=50)"
   ]
  },
  {
   "cell_type": "code",
   "execution_count": 59,
   "metadata": {},
   "outputs": [
    {
     "name": "stdout",
     "output_type": "stream",
     "text": [
      "00h 00m 00s ____ INICIO ENTRENAMIENTO ______________________________________________________________\n",
      "train loss 1.522, val loss 1.162, val accuracy 0.492, and val rmse 1.013\n",
      "train loss 0.992, val loss 0.900, val accuracy 0.606, and val rmse 0.838\n",
      "train loss 0.860, val loss 0.877, val accuracy 0.617, and val rmse 0.825\n",
      "train loss 0.808, val loss 0.868, val accuracy 0.623, and val rmse 0.825\n",
      "train loss 0.766, val loss 0.888, val accuracy 0.622, and val rmse 0.838\n",
      "train loss 0.726, val loss 0.902, val accuracy 0.619, and val rmse 0.818\n",
      "train loss 0.689, val loss 0.922, val accuracy 0.616, and val rmse 0.834\n",
      "train loss 0.654, val loss 0.960, val accuracy 0.612, and val rmse 0.852\n",
      "train loss 0.625, val loss 0.982, val accuracy 0.611, and val rmse 0.866\n",
      "train loss 0.599, val loss 1.033, val accuracy 0.608, and val rmse 0.860\n",
      "train loss 0.576, val loss 1.056, val accuracy 0.608, and val rmse 0.872\n",
      "train loss 0.556, val loss 1.085, val accuracy 0.605, and val rmse 0.876\n",
      "train loss 0.538, val loss 1.117, val accuracy 0.605, and val rmse 0.871\n",
      "train loss 0.522, val loss 1.138, val accuracy 0.601, and val rmse 0.874\n",
      "train loss 0.508, val loss 1.175, val accuracy 0.604, and val rmse 0.883\n",
      "train loss 0.496, val loss 1.205, val accuracy 0.600, and val rmse 0.883\n",
      "train loss 0.485, val loss 1.226, val accuracy 0.600, and val rmse 0.896\n",
      "train loss 0.474, val loss 1.240, val accuracy 0.599, and val rmse 0.893\n",
      "train loss 0.464, val loss 1.276, val accuracy 0.598, and val rmse 0.887\n",
      "train loss 0.455, val loss 1.309, val accuracy 0.597, and val rmse 0.888\n",
      "02h 03m 39s ____ FIN ENTRENAMIENTO _________________________________________________________________\n"
     ]
    }
   ],
   "source": [
    "t = utils.calcula_y_muestra_tiempos('INICIO ENTRENAMIENTO', timestamps=[])\n",
    "utils.train_model(model, train_dl, val_dl, epochs=20, lr=0.01)\n",
    "utils.calcula_y_muestra_tiempos('FIN ENTRENAMIENTO', timestamps=t)"
   ]
  },
  {
   "cell_type": "code",
   "execution_count": 60,
   "metadata": {},
   "outputs": [
    {
     "data": {
      "image/png": "[encoded data removed]",
      "text/plain": [
       "<Figure size 432x288 with 1 Axes>"
      ]
     },
     "metadata": {
      "needs_background": "light"
     },
     "output_type": "display_data"
    },
    {
     "name": "stdout",
     "output_type": "stream",
     "text": [
      "Acumulados           Parciales           \n",
      "0: 0.60 (106664)     0: 0.60 (106664)    \n",
      "1: 0.92 (163403)     1: 0.32 (56739)     \n",
      "2: 0.98 (175116)     2: 0.07 (11713)     \n",
      "3: 1.00 (177729)     3: 0.01 (2613)      \n",
      "4: 1.00 (178582)     4: 0.00 (853)       \n",
      "\n",
      "Accuracy: 0.60\n",
      "Acc1-: 0.92\n",
      "RMSE: 0.89\n"
     ]
    }
   ],
   "source": [
    "utils.evaluar_modelo_lstm(model, val_dl)"
   ]
  }
 ],
 "metadata": {
  "kernelspec": {
   "display_name": "Python 3",
   "language": "python",
   "name": "python3"
  },
  "language_info": {
   "codemirror_mode": {
    "name": "ipython",
    "version": 3
   },
   "file_extension": ".py",
   "mimetype": "text/x-python",
   "name": "python",
   "nbconvert_exporter": "python",
   "pygments_lexer": "ipython3",
   "version": "3.7.6"
  }
 },
 "nbformat": 4,
 "nbformat_minor": 2
}
